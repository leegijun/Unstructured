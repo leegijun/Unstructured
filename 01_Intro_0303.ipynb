{
 "cells": [
  {
   "cell_type": "markdown",
   "metadata": {
    "collapsed": true
   },
   "source": [
    "# # 자기소개"
   ]
  },
  {
   "cell_type": "markdown",
   "metadata": {
    "collapsed": true
   },
   "source": [
    "###  - 이름\n",
    "###  - 자세 (탐험가, 쇼퍼, 휴가, 죄수)\n",
    "###  - 에너지 (1~10)\n",
    "###  - 이 수업에서 기대하는 것(주관식)"
   ]
  },
  {
   "cell_type": "markdown",
   "metadata": {},
   "source": [
    "#### 이미지 처리 수준이 인간을 뛰어넘음"
   ]
  },
  {
   "cell_type": "markdown",
   "metadata": {
    "collapsed": true
   },
   "source": [
    "#### 자연어는 아직 힘든 문제"
   ]
  },
  {
   "cell_type": "markdown",
   "metadata": {},
   "source": [
    "# # 텍스트 분석 서비스 브레인스토밍\n",
    "\n",
    "- 빈도\n",
    "- 의미망\n",
    "- 감정분석\n",
    "- 주제분류"
   ]
  },
  {
   "cell_type": "markdown",
   "metadata": {},
   "source": [
    "## Ex)\n",
    "\n",
    "#### - 게임 고객 커뮤니티 의견 분석\n",
    "#### - 상품평 의미망 + 감정분석\n",
    "#### - 아이들의 SNS 분석 -> 부모\n",
    "#### - 게임 내 채팅 분석 -> 유저 의도 분석\n",
    "#### - 대화 분석 -> 데이트 폭력 예측\n",
    "#### - 프렌차이즈 리뷰 분석\n",
    "#### - 카카오톡 -> 추천 서비스\n",
    "#### - 카카오톡 이모티콘 선택\n",
    "#### - 배민, 요기요 -> 리뷰에서 특징별\n",
    "#### - 예비 창업자 사기 방지\n",
    "#### - 데이트 장소 리뷰 분석"
   ]
  },
  {
   "cell_type": "markdown",
   "metadata": {
    "collapsed": true
   },
   "source": [
    "# # 이미지\n",
    "\n",
    "- 분류\n",
    "\n",
    "- 디텍션"
   ]
  },
  {
   "cell_type": "code",
   "execution_count": null,
   "metadata": {
    "collapsed": true
   },
   "outputs": [],
   "source": []
  },
  {
   "cell_type": "code",
   "execution_count": null,
   "metadata": {
    "collapsed": true
   },
   "outputs": [],
   "source": []
  },
  {
   "cell_type": "code",
   "execution_count": null,
   "metadata": {
    "collapsed": true
   },
   "outputs": [],
   "source": []
  }
 ],
 "metadata": {
  "anaconda-cloud": {},
  "kernelspec": {
   "display_name": "Python [conda root]",
   "language": "python",
   "name": "conda-root-py"
  },
  "language_info": {
   "codemirror_mode": {
    "name": "ipython",
    "version": 3
   },
   "file_extension": ".py",
   "mimetype": "text/x-python",
   "name": "python",
   "nbconvert_exporter": "python",
   "pygments_lexer": "ipython3",
   "version": "3.5.2"
  }
 },
 "nbformat": 4,
 "nbformat_minor": 1
}
