{
 "cells": [
  {
   "cell_type": "markdown",
   "metadata": {},
   "source": [
    "# 11.4.1 데이터 준비"
   ]
  },
  {
   "cell_type": "code",
   "execution_count": 1,
   "metadata": {
    "collapsed": true
   },
   "outputs": [],
   "source": [
    "from urllib.request import urlretrieve\n",
    "from zipfile import ZipFile\n",
    "\n",
    "\n",
    "urlretrieve('http://doc.mindscale.kr/km/unstructured/dog-vs-cat.zip',\n",
    "            'dog-vs-cat.zip')\n",
    "\n",
    "with ZipFile('dog-vs-cat.zip') as z:\n",
    "    z.extractall()"
   ]
  },
  {
   "cell_type": "code",
   "execution_count": 2,
   "metadata": {
    "collapsed": false
   },
   "outputs": [
    {
     "name": "stderr",
     "output_type": "stream",
     "text": [
      "Using TensorFlow backend.\n"
     ]
    },
    {
     "name": "stdout",
     "output_type": "stream",
     "text": [
      "Found 2000 images belonging to 2 classes.\n",
      "Found 800 images belonging to 2 classes.\n"
     ]
    }
   ],
   "source": [
    "from keras.preprocessing.image import ImageDataGenerator\n",
    "\n",
    "train = ImageDataGenerator(rescale=1.0/255).flow_from_directory(\n",
    "    'dog-vs-cat/train',\n",
    "    target_size=(100, 100),\n",
    "    class_mode='binary')\n",
    "\n",
    "valid = ImageDataGenerator(rescale=1.0/255).flow_from_directory(\n",
    "    'dog-vs-cat/validation',\n",
    "    target_size=(100, 100),\n",
    "    class_mode='binary',\n",
    "    shuffle=False)"
   ]
  },
  {
   "cell_type": "markdown",
   "metadata": {},
   "source": [
    "# 11.4.2. 합성곱 신경망과 텐서보드"
   ]
  },
  {
   "cell_type": "code",
   "execution_count": 15,
   "metadata": {
    "collapsed": true
   },
   "outputs": [],
   "source": [
    "from keras.layers import Conv2D, Dense, Flatten, MaxPooling2D\n",
    "from keras.models import Sequential"
   ]
  },
  {
   "cell_type": "code",
   "execution_count": 16,
   "metadata": {
    "collapsed": true
   },
   "outputs": [],
   "source": [
    "model1 = Sequential()\n",
    "model1.add(Conv2D(32, (3, 3), activation='relu', input_shape=(100, 100, 3)))\n",
    "model1.add(MaxPooling2D((2, 2)))\n",
    "model1.add(Flatten())\n",
    "model1.add(Dense(1, activation='sigmoid'))"
   ]
  },
  {
   "cell_type": "code",
   "execution_count": 17,
   "metadata": {
    "collapsed": false,
    "scrolled": true
   },
   "outputs": [
    {
     "name": "stdout",
     "output_type": "stream",
     "text": [
      "_________________________________________________________________\n",
      "Layer (type)                 Output Shape              Param #   \n",
      "=================================================================\n",
      "conv2d_3 (Conv2D)            (None, 98, 98, 32)        896       \n",
      "_________________________________________________________________\n",
      "max_pooling2d_3 (MaxPooling2 (None, 49, 49, 32)        0         \n",
      "_________________________________________________________________\n",
      "flatten_3 (Flatten)          (None, 76832)             0         \n",
      "_________________________________________________________________\n",
      "dense_3 (Dense)              (None, 1)                 76833     \n",
      "=================================================================\n",
      "Total params: 77,729\n",
      "Trainable params: 77,729\n",
      "Non-trainable params: 0\n",
      "_________________________________________________________________\n"
     ]
    }
   ],
   "source": [
    "model1.summary()"
   ]
  },
  {
   "cell_type": "code",
   "execution_count": 18,
   "metadata": {
    "collapsed": true
   },
   "outputs": [],
   "source": [
    "from keras.optimizers import Adam, RMSprop"
   ]
  },
  {
   "cell_type": "code",
   "execution_count": 19,
   "metadata": {
    "collapsed": true
   },
   "outputs": [],
   "source": [
    "model1.compile(loss='binary_crossentropy', metrics=['accuracy'], optimizer=Adam())"
   ]
  },
  {
   "cell_type": "markdown",
   "metadata": {},
   "source": [
    "### 텐서보드"
   ]
  },
  {
   "cell_type": "code",
   "execution_count": 20,
   "metadata": {
    "collapsed": true
   },
   "outputs": [],
   "source": [
    "from keras.callbacks import EarlyStopping, TensorBoard"
   ]
  },
  {
   "cell_type": "code",
   "execution_count": 21,
   "metadata": {
    "collapsed": false
   },
   "outputs": [
    {
     "name": "stdout",
     "output_type": "stream",
     "text": [
      "Epoch 1/30\n",
      "63/63 [==============================] - 21s 339ms/step - loss: 0.8042 - acc: 0.5094 - val_loss: 0.6611 - val_acc: 0.5325\n",
      "Epoch 2/30\n",
      "63/63 [==============================] - 20s 324ms/step - loss: 0.6301 - acc: 0.6493 - val_loss: 0.6298 - val_acc: 0.6350\n",
      "Epoch 3/30\n",
      "63/63 [==============================] - 21s 327ms/step - loss: 0.5302 - acc: 0.7559 - val_loss: 0.5986 - val_acc: 0.6825\n",
      "Epoch 4/30\n",
      "63/63 [==============================] - 22s 347ms/step - loss: 0.4272 - acc: 0.8209 - val_loss: 0.6147 - val_acc: 0.6650\n",
      "Epoch 5/30\n",
      "63/63 [==============================] - 19s 309ms/step - loss: 0.3460 - acc: 0.8864 - val_loss: 0.6217 - val_acc: 0.6725\n"
     ]
    }
   ],
   "source": [
    "history1 = model1.fit_generator(\n",
    "    train, validation_data=valid, epochs=30,\n",
    "    callbacks=[\n",
    "        EarlyStopping(monitor = \"val_loss\", patience=2),\n",
    "        TensorBoard(log_dir='log_model1')\n",
    "    ])"
   ]
  },
  {
   "cell_type": "markdown",
   "metadata": {},
   "source": [
    "# 11.4.3. 더 깊은 신경망"
   ]
  },
  {
   "cell_type": "code",
   "execution_count": 22,
   "metadata": {
    "collapsed": true
   },
   "outputs": [],
   "source": [
    "model2 = Sequential()\n",
    "model2.add(Conv2D(32, (3, 3), activation='relu', input_shape=(100, 100, 3)))\n",
    "model2.add(MaxPooling2D((2, 2)))\n",
    "model2.add(Conv2D(32, (3, 3), activation='relu'))\n",
    "model2.add(MaxPooling2D((2, 2)))\n",
    "model2.add(Flatten())\n",
    "model2.add(Dense(1, activation='sigmoid'))"
   ]
  },
  {
   "cell_type": "code",
   "execution_count": 23,
   "metadata": {
    "collapsed": true
   },
   "outputs": [],
   "source": [
    "model2.compile(loss='binary_crossentropy', metrics=['accuracy'], optimizer=Adam())"
   ]
  },
  {
   "cell_type": "code",
   "execution_count": 24,
   "metadata": {
    "collapsed": false
   },
   "outputs": [
    {
     "name": "stdout",
     "output_type": "stream",
     "text": [
      "Epoch 1/30\n",
      "63/63 [==============================] - 36s 565ms/step - loss: 0.6833 - acc: 0.5506 - val_loss: 0.6892 - val_acc: 0.4975\n",
      "Epoch 2/30\n",
      "63/63 [==============================] - 34s 541ms/step - loss: 0.6422 - acc: 0.6176 - val_loss: 0.6440 - val_acc: 0.6288\n",
      "Epoch 3/30\n",
      "63/63 [==============================] - 31s 496ms/step - loss: 0.5821 - acc: 0.6969 - val_loss: 0.5976 - val_acc: 0.6775\n",
      "Epoch 4/30\n",
      "63/63 [==============================] - 28s 437ms/step - loss: 0.5279 - acc: 0.7421 - val_loss: 0.5840 - val_acc: 0.6975\n",
      "Epoch 5/30\n",
      "63/63 [==============================] - 28s 449ms/step - loss: 0.4829 - acc: 0.7703 - val_loss: 0.6000 - val_acc: 0.7025\n",
      "Epoch 6/30\n",
      "63/63 [==============================] - 28s 452ms/step - loss: 0.4491 - acc: 0.8011 - val_loss: 0.6059 - val_acc: 0.6613\n"
     ]
    }
   ],
   "source": [
    "history2 = model2.fit_generator(\n",
    "    train, validation_data=valid, epochs=30,\n",
    "    callbacks=[\n",
    "        EarlyStopping(monitor = \"val_loss\", patience=2),\n",
    "        TensorBoard(log_dir='log_model2')\n",
    "    ])"
   ]
  },
  {
   "cell_type": "markdown",
   "metadata": {},
   "source": [
    "# 11.4.4. 데이터 증강"
   ]
  },
  {
   "cell_type": "code",
   "execution_count": 25,
   "metadata": {
    "collapsed": false
   },
   "outputs": [
    {
     "name": "stdout",
     "output_type": "stream",
     "text": [
      "Found 2000 images belonging to 2 classes.\n"
     ]
    }
   ],
   "source": [
    "img_gen = ImageDataGenerator(\n",
    "        rescale=1./255,\n",
    "        rotation_range=40,      # 40도까지 회전\n",
    "        width_shift_range=0.2,  # 20%까지 좌우 이동\n",
    "        height_shift_range=0.2, # 20%까지 상하 이동\n",
    "        shear_range=0.2,        # 20%까지 기울임\n",
    "        zoom_range=0.2,         # 20%까지 확대\n",
    "        horizontal_flip=True,   # 좌우 뒤집기\n",
    "    )\n",
    "\n",
    "train_ag = img_gen.flow_from_directory(\n",
    "        'dog-vs-cat/train',\n",
    "        target_size=(100, 100),\n",
    "        class_mode='binary')"
   ]
  },
  {
   "cell_type": "code",
   "execution_count": 26,
   "metadata": {
    "collapsed": true
   },
   "outputs": [],
   "source": [
    "model3 = Sequential()\n",
    "model3.add(Conv2D(32, (3, 3), activation='relu', input_shape=(100, 100, 3)))\n",
    "model3.add(MaxPooling2D((2, 2)))\n",
    "model3.add(Conv2D(32, (3, 3), activation='relu'))\n",
    "model3.add(MaxPooling2D((2, 2)))\n",
    "model3.add(Flatten())\n",
    "model3.add(Dense(1, activation='sigmoid'))"
   ]
  },
  {
   "cell_type": "code",
   "execution_count": 27,
   "metadata": {
    "collapsed": false
   },
   "outputs": [
    {
     "name": "stdout",
     "output_type": "stream",
     "text": [
      "_________________________________________________________________\n",
      "Layer (type)                 Output Shape              Param #   \n",
      "=================================================================\n",
      "conv2d_6 (Conv2D)            (None, 98, 98, 32)        896       \n",
      "_________________________________________________________________\n",
      "max_pooling2d_6 (MaxPooling2 (None, 49, 49, 32)        0         \n",
      "_________________________________________________________________\n",
      "conv2d_7 (Conv2D)            (None, 47, 47, 32)        9248      \n",
      "_________________________________________________________________\n",
      "max_pooling2d_7 (MaxPooling2 (None, 23, 23, 32)        0         \n",
      "_________________________________________________________________\n",
      "flatten_5 (Flatten)          (None, 16928)             0         \n",
      "_________________________________________________________________\n",
      "dense_5 (Dense)              (None, 1)                 16929     \n",
      "=================================================================\n",
      "Total params: 27,073\n",
      "Trainable params: 27,073\n",
      "Non-trainable params: 0\n",
      "_________________________________________________________________\n"
     ]
    }
   ],
   "source": [
    "model3.summary()"
   ]
  },
  {
   "cell_type": "code",
   "execution_count": 28,
   "metadata": {
    "collapsed": true
   },
   "outputs": [],
   "source": [
    "model3.compile(loss='binary_crossentropy', metrics=['accuracy'], optimizer=Adam())"
   ]
  },
  {
   "cell_type": "code",
   "execution_count": 29,
   "metadata": {
    "collapsed": false
   },
   "outputs": [
    {
     "name": "stdout",
     "output_type": "stream",
     "text": [
      "Epoch 1/30\n",
      "63/63 [==============================] - 30s 476ms/step - loss: 0.6936 - acc: 0.5496 - val_loss: 0.6797 - val_acc: 0.5537\n",
      "Epoch 2/30\n",
      "63/63 [==============================] - 29s 467ms/step - loss: 0.6505 - acc: 0.6220 - val_loss: 0.6323 - val_acc: 0.6813\n",
      "Epoch 3/30\n",
      "63/63 [==============================] - 28s 444ms/step - loss: 0.6098 - acc: 0.6786 - val_loss: 0.6139 - val_acc: 0.6863\n",
      "Epoch 4/30\n",
      "63/63 [==============================] - 31s 499ms/step - loss: 0.5591 - acc: 0.7242 - val_loss: 0.6000 - val_acc: 0.6925\n",
      "Epoch 5/30\n",
      "63/63 [==============================] - 34s 537ms/step - loss: 0.4936 - acc: 0.7584 - val_loss: 0.5977 - val_acc: 0.6975\n",
      "Epoch 6/30\n",
      "63/63 [==============================] - 33s 523ms/step - loss: 0.4555 - acc: 0.7872 - val_loss: 0.5870 - val_acc: 0.6975\n",
      "Epoch 7/30\n",
      "63/63 [==============================] - 28s 442ms/step - loss: 0.3964 - acc: 0.8249 - val_loss: 0.5852 - val_acc: 0.7113\n",
      "Epoch 8/30\n",
      "63/63 [==============================] - 28s 446ms/step - loss: 0.3496 - acc: 0.8517 - val_loss: 0.6230 - val_acc: 0.7000\n",
      "Epoch 9/30\n",
      "63/63 [==============================] - 29s 455ms/step - loss: 0.3025 - acc: 0.8730 - val_loss: 0.6421 - val_acc: 0.7037\n"
     ]
    }
   ],
   "source": [
    "history3 = model3.fit_generator(\n",
    "    train, validation_data=valid, epochs=30,\n",
    "    callbacks=[\n",
    "        EarlyStopping(monitor = \"val_loss\", patience=2),\n",
    "        TensorBoard(log_dir='log_model3')\n",
    "    ])"
   ]
  },
  {
   "cell_type": "markdown",
   "metadata": {},
   "source": [
    "# 11.4.5. 드롭아웃과 학습률 조정 그리고 ModelCheckpoint"
   ]
  },
  {
   "cell_type": "code",
   "execution_count": 30,
   "metadata": {
    "collapsed": true
   },
   "outputs": [],
   "source": [
    "from keras.layers import Dropout\n",
    "from keras.callbacks import ModelCheckpoint"
   ]
  },
  {
   "cell_type": "code",
   "execution_count": 31,
   "metadata": {
    "collapsed": true
   },
   "outputs": [],
   "source": [
    "model4 = Sequential()\n",
    "model4.add(Conv2D(32, (3, 3), activation='relu', input_shape=(100, 100, 3)))\n",
    "model4.add(MaxPooling2D((2, 2)))\n",
    "model4.add(Conv2D(64, (3, 3), activation='relu'))\n",
    "model4.add(MaxPooling2D((2, 2)))\n",
    "model4.add(Conv2D(128, (3, 3), activation='relu'))\n",
    "model4.add(MaxPooling2D((2, 2)))\n",
    "model4.add(Flatten())\n",
    "model4.add(Dropout(0.5))\n",
    "model4.add(Dense(512, activation='relu'))\n",
    "model4.add(Dense(1, activation='sigmoid'))"
   ]
  },
  {
   "cell_type": "code",
   "execution_count": 32,
   "metadata": {
    "collapsed": true
   },
   "outputs": [],
   "source": [
    "model4.compile(loss='binary_crossentropy', metrics=['accuracy'], optimizer=RMSprop(lr=0.0001))"
   ]
  },
  {
   "cell_type": "code",
   "execution_count": 33,
   "metadata": {
    "collapsed": false
   },
   "outputs": [
    {
     "name": "stdout",
     "output_type": "stream",
     "text": [
      "Epoch 1/30\n",
      "63/63 [==============================] - 58s 917ms/step - loss: 0.6954 - acc: 0.5352 - val_loss: 0.6880 - val_acc: 0.5075\n",
      "Epoch 2/30\n",
      "63/63 [==============================] - 62s 986ms/step - loss: 0.6690 - acc: 0.6032 - val_loss: 0.6771 - val_acc: 0.5525\n",
      "Epoch 3/30\n",
      "63/63 [==============================] - 57s 904ms/step - loss: 0.6351 - acc: 0.6419 - val_loss: 0.6379 - val_acc: 0.6338\n",
      "Epoch 4/30\n",
      "63/63 [==============================] - 55s 876ms/step - loss: 0.6038 - acc: 0.6741 - val_loss: 0.6357 - val_acc: 0.6562\n",
      "Epoch 5/30\n",
      "63/63 [==============================] - 56s 881ms/step - loss: 0.5813 - acc: 0.6925 - val_loss: 0.6127 - val_acc: 0.6763\n",
      "Epoch 6/30\n",
      "63/63 [==============================] - 55s 879ms/step - loss: 0.5411 - acc: 0.7332 - val_loss: 0.6204 - val_acc: 0.6613\n",
      "Epoch 7/30\n",
      "63/63 [==============================] - 55s 868ms/step - loss: 0.5257 - acc: 0.7306 - val_loss: 0.6121 - val_acc: 0.6763\n",
      "Epoch 8/30\n",
      "63/63 [==============================] - 54s 861ms/step - loss: 0.4944 - acc: 0.7679 - val_loss: 0.5944 - val_acc: 0.6763\n",
      "Epoch 9/30\n",
      "63/63 [==============================] - 55s 870ms/step - loss: 0.4753 - acc: 0.7788 - val_loss: 0.5790 - val_acc: 0.6987\n",
      "Epoch 10/30\n",
      "63/63 [==============================] - 61s 961ms/step - loss: 0.4590 - acc: 0.7857 - val_loss: 0.6012 - val_acc: 0.6987\n",
      "Epoch 11/30\n",
      "63/63 [==============================] - 61s 969ms/step - loss: 0.4385 - acc: 0.7986 - val_loss: 0.6008 - val_acc: 0.6850\n",
      "Epoch 12/30\n",
      "63/63 [==============================] - 58s 916ms/step - loss: 0.4279 - acc: 0.8085 - val_loss: 0.5777 - val_acc: 0.6963\n",
      "Epoch 13/30\n",
      "63/63 [==============================] - 57s 908ms/step - loss: 0.4122 - acc: 0.8090 - val_loss: 0.5865 - val_acc: 0.7100\n",
      "Epoch 14/30\n",
      "63/63 [==============================] - 61s 967ms/step - loss: 0.3885 - acc: 0.8338 - val_loss: 0.6101 - val_acc: 0.6900\n",
      "Epoch 15/30\n",
      "63/63 [==============================] - 61s 966ms/step - loss: 0.3813 - acc: 0.8383 - val_loss: 0.5810 - val_acc: 0.7163\n",
      "Epoch 16/30\n",
      "63/63 [==============================] - 62s 980ms/step - loss: 0.3650 - acc: 0.8487 - val_loss: 0.7097 - val_acc: 0.6713\n",
      "Epoch 17/30\n",
      "63/63 [==============================] - 60s 957ms/step - loss: 0.3539 - acc: 0.8477 - val_loss: 0.5860 - val_acc: 0.7163\n",
      "Epoch 18/30\n",
      "63/63 [==============================] - 58s 916ms/step - loss: 0.3297 - acc: 0.8621 - val_loss: 0.6171 - val_acc: 0.7113\n",
      "Epoch 19/30\n",
      "63/63 [==============================] - 61s 973ms/step - loss: 0.3133 - acc: 0.8651 - val_loss: 0.5938 - val_acc: 0.7200\n",
      "Epoch 20/30\n",
      "63/63 [==============================] - 55s 871ms/step - loss: 0.3197 - acc: 0.8616 - val_loss: 0.5946 - val_acc: 0.7188\n",
      "Epoch 21/30\n",
      "63/63 [==============================] - 55s 866ms/step - loss: 0.2970 - acc: 0.8834 - val_loss: 0.5856 - val_acc: 0.7150\n",
      "Epoch 22/30\n",
      "63/63 [==============================] - 61s 962ms/step - loss: 0.2889 - acc: 0.8814 - val_loss: 0.6666 - val_acc: 0.7037\n",
      "Epoch 23/30\n",
      "63/63 [==============================] - 62s 989ms/step - loss: 0.2700 - acc: 0.8929 - val_loss: 0.6523 - val_acc: 0.7125\n",
      "Epoch 24/30\n",
      "63/63 [==============================] - 58s 923ms/step - loss: 0.2735 - acc: 0.8864 - val_loss: 0.6422 - val_acc: 0.7087\n",
      "Epoch 25/30\n",
      "63/63 [==============================] - 54s 863ms/step - loss: 0.2632 - acc: 0.8939 - val_loss: 0.6207 - val_acc: 0.7312\n",
      "Epoch 26/30\n",
      "63/63 [==============================] - 54s 855ms/step - loss: 0.2411 - acc: 0.9072 - val_loss: 0.6307 - val_acc: 0.7137\n",
      "Epoch 27/30\n",
      "63/63 [==============================] - 57s 900ms/step - loss: 0.2371 - acc: 0.9023 - val_loss: 0.6268 - val_acc: 0.7200\n",
      "Epoch 28/30\n",
      "63/63 [==============================] - 57s 904ms/step - loss: 0.2154 - acc: 0.9241 - val_loss: 0.6254 - val_acc: 0.7275\n",
      "Epoch 29/30\n",
      "63/63 [==============================] - 55s 879ms/step - loss: 0.2200 - acc: 0.9077 - val_loss: 0.6827 - val_acc: 0.7087\n",
      "Epoch 30/30\n",
      "63/63 [==============================] - 55s 866ms/step - loss: 0.2097 - acc: 0.9241 - val_loss: 0.6571 - val_acc: 0.7100\n"
     ]
    }
   ],
   "source": [
    "history4 = model4.fit_generator(\n",
    "    train, validation_data=valid, epochs=30,\n",
    "    callbacks=[\n",
    "        ModelCheckpoint('model4-{epoch:02d}.hdf5', save_best_only=True),\n",
    "        TensorBoard(log_dir='log_model4')\n",
    "    ])"
   ]
  },
  {
   "cell_type": "markdown",
   "metadata": {},
   "source": [
    "### 저장된 모델 목록 보기"
   ]
  },
  {
   "cell_type": "code",
   "execution_count": 34,
   "metadata": {
    "collapsed": true
   },
   "outputs": [],
   "source": [
    "import glob"
   ]
  },
  {
   "cell_type": "code",
   "execution_count": 35,
   "metadata": {
    "collapsed": true
   },
   "outputs": [],
   "source": [
    "model_files = glob.glob('model4-*.hdf5')"
   ]
  },
  {
   "cell_type": "code",
   "execution_count": 36,
   "metadata": {
    "collapsed": false
   },
   "outputs": [
    {
     "data": {
      "text/plain": [
       "['model4-02.hdf5',\n",
       " 'model4-03.hdf5',\n",
       " 'model4-12.hdf5',\n",
       " 'model4-04.hdf5',\n",
       " 'model4-08.hdf5',\n",
       " 'model4-09.hdf5',\n",
       " 'model4-05.hdf5',\n",
       " 'model4-07.hdf5',\n",
       " 'model4-01.hdf5']"
      ]
     },
     "execution_count": 36,
     "metadata": {},
     "output_type": "execute_result"
    }
   ],
   "source": [
    "model_files"
   ]
  },
  {
   "cell_type": "code",
   "execution_count": 37,
   "metadata": {
    "collapsed": true
   },
   "outputs": [],
   "source": [
    "last_model = sorted(model_files)[-1]"
   ]
  },
  {
   "cell_type": "code",
   "execution_count": 38,
   "metadata": {
    "collapsed": false
   },
   "outputs": [
    {
     "data": {
      "text/plain": [
       "'model4-12.hdf5'"
      ]
     },
     "execution_count": 38,
     "metadata": {},
     "output_type": "execute_result"
    }
   ],
   "source": [
    "last_model"
   ]
  },
  {
   "cell_type": "markdown",
   "metadata": {},
   "source": [
    "### Colab에서 다운로드 받기"
   ]
  },
  {
   "cell_type": "code",
   "execution_count": 39,
   "metadata": {
    "collapsed": false
   },
   "outputs": [
    {
     "ename": "ImportError",
     "evalue": "No module named 'google.colab'",
     "output_type": "error",
     "traceback": [
      "\u001b[0;31m---------------------------------------------------------------------------\u001b[0m",
      "\u001b[0;31mImportError\u001b[0m                               Traceback (most recent call last)",
      "\u001b[0;32m<ipython-input-39-e268b19925f4>\u001b[0m in \u001b[0;36m<module>\u001b[0;34m()\u001b[0m\n\u001b[0;32m----> 1\u001b[0;31m \u001b[0;32mfrom\u001b[0m \u001b[0mgoogle\u001b[0m\u001b[0;34m.\u001b[0m\u001b[0mcolab\u001b[0m \u001b[0;32mimport\u001b[0m \u001b[0mfiles\u001b[0m\u001b[0;34m\u001b[0m\u001b[0m\n\u001b[0m\u001b[1;32m      2\u001b[0m \u001b[0;34m\u001b[0m\u001b[0m\n\u001b[1;32m      3\u001b[0m \u001b[0mfiles\u001b[0m\u001b[0;34m.\u001b[0m\u001b[0mdownload\u001b[0m\u001b[0;34m(\u001b[0m\u001b[0mlast_model\u001b[0m\u001b[0;34m)\u001b[0m\u001b[0;34m\u001b[0m\u001b[0m\n",
      "\u001b[0;31mImportError\u001b[0m: No module named 'google.colab'"
     ]
    }
   ],
   "source": [
    "from google.colab import files\n",
    "\n",
    "files.download(last_model)\n"
   ]
  },
  {
   "cell_type": "markdown",
   "metadata": {},
   "source": [
    "### 모델 다시 불러오기"
   ]
  },
  {
   "cell_type": "code",
   "execution_count": null,
   "metadata": {
    "collapsed": true
   },
   "outputs": [],
   "source": [
    "import keras.models"
   ]
  },
  {
   "cell_type": "code",
   "execution_count": null,
   "metadata": {
    "collapsed": true
   },
   "outputs": [],
   "source": [
    "model5 = keras.models.load_model(last_model)"
   ]
  },
  {
   "cell_type": "code",
   "execution_count": null,
   "metadata": {
    "collapsed": true
   },
   "outputs": [],
   "source": []
  }
 ],
 "metadata": {
  "anaconda-cloud": {},
  "kernelspec": {
   "display_name": "Python [conda root]",
   "language": "python",
   "name": "conda-root-py"
  },
  "language_info": {
   "codemirror_mode": {
    "name": "ipython",
    "version": 3
   },
   "file_extension": ".py",
   "mimetype": "text/x-python",
   "name": "python",
   "nbconvert_exporter": "python",
   "pygments_lexer": "ipython3",
   "version": "3.5.4"
  }
 },
 "nbformat": 4,
 "nbformat_minor": 1
}
