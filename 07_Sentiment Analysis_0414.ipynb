{
 "cells": [
  {
   "cell_type": "markdown",
   "metadata": {},
   "source": [
    "# # 네이버 영화 ex) 신 고질라"
   ]
  },
  {
   "cell_type": "markdown",
   "metadata": {},
   "source": [
    "https://movie.naver.com/movie/bi/mi/point.nhn?code=150689#pointAfterTab"
   ]
  },
  {
   "cell_type": "markdown",
   "metadata": {},
   "source": [
    "페이지 우클릭!"
   ]
  },
  {
   "cell_type": "markdown",
   "metadata": {},
   "source": [
    "https://movie.naver.com/movie/bi/mi/pointWriteFormList.nhn?code=150689&type=after&isActualPointWriteExecute=false&isMileageSubscriptionAlready=false&isMileageSubscriptionReject=false&page=5"
   ]
  },
  {
   "cell_type": "markdown",
   "metadata": {},
   "source": [
    "검사"
   ]
  },
  {
   "cell_type": "code",
   "execution_count": 1,
   "metadata": {
    "collapsed": true
   },
   "outputs": [],
   "source": [
    "import requests\n",
    "import lxml.html"
   ]
  },
  {
   "cell_type": "code",
   "execution_count": 2,
   "metadata": {
    "collapsed": true
   },
   "outputs": [],
   "source": [
    "res = requests.get('https://movie.naver.com/movie/bi/mi/pointWriteFormList.nhn?code=150689&type=after&isActualPointWriteExecute=false&isMileageSubscriptionAlready=false&isMileageSubscriptionReject=false&page=5')"
   ]
  },
  {
   "cell_type": "code",
   "execution_count": 3,
   "metadata": {
    "collapsed": true
   },
   "outputs": [],
   "source": [
    "root = lxml.html.fromstring(res.text)"
   ]
  },
  {
   "cell_type": "code",
   "execution_count": 4,
   "metadata": {
    "collapsed": false
   },
   "outputs": [
    {
     "data": {
      "text/plain": [
       "[<Element p at 0x10db09ef8>,\n",
       " <Element p at 0x10db09f48>,\n",
       " <Element p at 0x10db09f98>,\n",
       " <Element p at 0x10db10048>,\n",
       " <Element p at 0x10db10098>,\n",
       " <Element p at 0x10db100e8>,\n",
       " <Element p at 0x10db10138>,\n",
       " <Element p at 0x10db10188>,\n",
       " <Element p at 0x10db101d8>,\n",
       " <Element p at 0x10db10228>]"
      ]
     },
     "execution_count": 4,
     "metadata": {},
     "output_type": "execute_result"
    }
   ],
   "source": [
    "root.cssselect('.score_reple p')"
   ]
  },
  {
   "cell_type": "code",
   "execution_count": 5,
   "metadata": {
    "collapsed": false
   },
   "outputs": [
    {
     "name": "stdout",
     "output_type": "stream",
     "text": [
      "씨발 다카포나 만들라고 안노새끼야  \n",
      "일본의 SF 영화들은 테러 수준이다.  \n",
      "정말 지금까지 본 영화중에 최악이다... 알바탈 쒸우고 한거 티나고 무슨 지구방위대 후뢰시맨 보는 느낌이든다.... 너무하다  \n",
      "역대 고지라가 액션과 싸움을 중요시했다면 이번 고질라는 공포와 흉악함을 드러낸다는, 절로 소름이 끼치게 되는 영화. 브금도 한몫.  괴수 영화가 아니라 공포영화 보는 줄  \n",
      "연출은좋음 긴장감씨지는 떨어짐소개가 좋긴함 근데 분위기가 에반게리온사도 없애는 분위기  \n",
      "초등학생의 눈으로 재미있게 볼 수 있을 듯  \n",
      "고질라가...넘 인형같았어요...마치 80년대 태권브이에 악당으로 나오는 그런 로봇같은 ..디테일이 좀 떨어지네요...좀 아쉬워요..  \n",
      "하나를 만들어도 어떻게 이렇게 조잡하고 유치하게 만들까 비웃음만  \n",
      "평점이 왜 좋은거지? 정치풍자가 좋았다고? 이영화 보는 사람들은 이렇게 신파적인 영화를 보고도...정치적 내용도 순전히 일본 자기방어용이고, 자기들은 완전 피해자라는 식으로.  \n",
      "와 이번 고질라 너무했다 거의 그래픽이 장난감이 움직이는것 같네 이번 영화망했어  \n"
     ]
    }
   ],
   "source": [
    "for review in root.cssselect('.score_reple p'):\n",
    "    print(review.text_content())"
   ]
  },
  {
   "cell_type": "code",
   "execution_count": 44,
   "metadata": {
    "collapsed": false
   },
   "outputs": [
    {
     "name": "stdout",
     "output_type": "stream",
     "text": [
      "1\n",
      "2\n",
      "1\n",
      "9\n",
      "7\n",
      "4\n",
      "5\n",
      "1\n",
      "1\n",
      "1\n"
     ]
    }
   ],
   "source": [
    "for score in root.cssselect('.score_result .star_score em'):\n",
    "    print(score.text_content())"
   ]
  },
  {
   "cell_type": "code",
   "execution_count": 46,
   "metadata": {
    "collapsed": false
   },
   "outputs": [],
   "source": [
    "reviews = []\n",
    "scores =[]\n",
    "\n",
    "for review in root.cssselect('.score_reple p'):\n",
    "    reviews.append(review.text_content())\n",
    "\n",
    "for score in root.cssselect('.score_result .star_score em'):\n",
    "    scores.append(score.text_content())"
   ]
  },
  {
   "cell_type": "code",
   "execution_count": 47,
   "metadata": {
    "collapsed": false
   },
   "outputs": [
    {
     "data": {
      "text/plain": [
       "['씨발 다카포나 만들라고 안노새끼야  ',\n",
       " '일본의 SF 영화들은 테러 수준이다.  ',\n",
       " '정말 지금까지 본 영화중에 최악이다... 알바탈 쒸우고 한거 티나고 무슨 지구방위대 후뢰시맨 보는 느낌이든다.... 너무하다  ',\n",
       " '역대 고지라가 액션과 싸움을 중요시했다면 이번 고질라는 공포와 흉악함을 드러낸다는, 절로 소름이 끼치게 되는 영화. 브금도 한몫.  괴수 영화가 아니라 공포영화 보는 줄  ',\n",
       " '연출은좋음 긴장감씨지는 떨어짐소개가 좋긴함 근데 분위기가 에반게리온사도 없애는 분위기  ',\n",
       " '초등학생의 눈으로 재미있게 볼 수 있을 듯  ',\n",
       " '고질라가...넘 인형같았어요...마치 80년대 태권브이에 악당으로 나오는 그런 로봇같은 ..디테일이 좀 떨어지네요...좀 아쉬워요..  ',\n",
       " '하나를 만들어도 어떻게 이렇게 조잡하고 유치하게 만들까 비웃음만  ',\n",
       " '평점이 왜 좋은거지? 정치풍자가 좋았다고? 이영화 보는 사람들은 이렇게 신파적인 영화를 보고도...정치적 내용도 순전히 일본 자기방어용이고, 자기들은 완전 피해자라는 식으로.  ',\n",
       " '와 이번 고질라 너무했다 거의 그래픽이 장난감이 움직이는것 같네 이번 영화망했어  ']"
      ]
     },
     "execution_count": 47,
     "metadata": {},
     "output_type": "execute_result"
    }
   ],
   "source": [
    "reviews"
   ]
  },
  {
   "cell_type": "code",
   "execution_count": 48,
   "metadata": {
    "collapsed": false
   },
   "outputs": [
    {
     "data": {
      "text/plain": [
       "['1', '2', '1', '9', '7', '4', '5', '1', '1', '1']"
      ]
     },
     "execution_count": 48,
     "metadata": {},
     "output_type": "execute_result"
    }
   ],
   "source": [
    "scores"
   ]
  },
  {
   "cell_type": "code",
   "execution_count": 49,
   "metadata": {
    "collapsed": true
   },
   "outputs": [],
   "source": [
    "url = 'https://movie.naver.com/movie/bi/mi/pointWriteFormList.nhn?code=150689&type=after&isActualPointWriteExecute=false&isMileageSubscriptionAlready=false&isMileageSubscriptionReject=false&page={}'"
   ]
  },
  {
   "cell_type": "code",
   "execution_count": 50,
   "metadata": {
    "collapsed": false
   },
   "outputs": [
    {
     "data": {
      "text/plain": [
       "'https://movie.naver.com/movie/bi/mi/pointWriteFormList.nhn?code=150689&type=after&isActualPointWriteExecute=false&isMileageSubscriptionAlready=false&isMileageSubscriptionReject=false&page=1'"
      ]
     },
     "execution_count": 50,
     "metadata": {},
     "output_type": "execute_result"
    }
   ],
   "source": [
    "url.format(1)"
   ]
  },
  {
   "cell_type": "code",
   "execution_count": 52,
   "metadata": {
    "collapsed": false
   },
   "outputs": [
    {
     "data": {
      "text/plain": [
       "'https://movie.naver.com/movie/bi/mi/pointWriteFormList.nhn?code=150689&type=after&isActualPointWriteExecute=false&isMileageSubscriptionAlready=false&isMileageSubscriptionReject=false&page=2'"
      ]
     },
     "execution_count": 52,
     "metadata": {},
     "output_type": "execute_result"
    }
   ],
   "source": [
    "url.format(2)"
   ]
  },
  {
   "cell_type": "code",
   "execution_count": 51,
   "metadata": {
    "collapsed": false
   },
   "outputs": [
    {
     "data": {
      "text/plain": [
       "'https://movie.naver.com/movie/bi/mi/pointWriteFormList.nhn?code=150689&type=after&isActualPointWriteExecute=false&isMileageSubscriptionAlready=false&isMileageSubscriptionReject=false&page=3'"
      ]
     },
     "execution_count": 51,
     "metadata": {},
     "output_type": "execute_result"
    }
   ],
   "source": [
    "url.format(3)"
   ]
  },
  {
   "cell_type": "code",
   "execution_count": 53,
   "metadata": {
    "collapsed": false
   },
   "outputs": [
    {
     "name": "stdout",
     "output_type": "stream",
     "text": [
      "https://movie.naver.com/movie/bi/mi/pointWriteFormList.nhn?code=150689&type=after&isActualPointWriteExecute=false&isMileageSubscriptionAlready=false&isMileageSubscriptionReject=false&page=1\n",
      "https://movie.naver.com/movie/bi/mi/pointWriteFormList.nhn?code=150689&type=after&isActualPointWriteExecute=false&isMileageSubscriptionAlready=false&isMileageSubscriptionReject=false&page=2\n",
      "https://movie.naver.com/movie/bi/mi/pointWriteFormList.nhn?code=150689&type=after&isActualPointWriteExecute=false&isMileageSubscriptionAlready=false&isMileageSubscriptionReject=false&page=3\n",
      "https://movie.naver.com/movie/bi/mi/pointWriteFormList.nhn?code=150689&type=after&isActualPointWriteExecute=false&isMileageSubscriptionAlready=false&isMileageSubscriptionReject=false&page=4\n",
      "https://movie.naver.com/movie/bi/mi/pointWriteFormList.nhn?code=150689&type=after&isActualPointWriteExecute=false&isMileageSubscriptionAlready=false&isMileageSubscriptionReject=false&page=5\n",
      "https://movie.naver.com/movie/bi/mi/pointWriteFormList.nhn?code=150689&type=after&isActualPointWriteExecute=false&isMileageSubscriptionAlready=false&isMileageSubscriptionReject=false&page=6\n",
      "https://movie.naver.com/movie/bi/mi/pointWriteFormList.nhn?code=150689&type=after&isActualPointWriteExecute=false&isMileageSubscriptionAlready=false&isMileageSubscriptionReject=false&page=7\n",
      "https://movie.naver.com/movie/bi/mi/pointWriteFormList.nhn?code=150689&type=after&isActualPointWriteExecute=false&isMileageSubscriptionAlready=false&isMileageSubscriptionReject=false&page=8\n",
      "https://movie.naver.com/movie/bi/mi/pointWriteFormList.nhn?code=150689&type=after&isActualPointWriteExecute=false&isMileageSubscriptionAlready=false&isMileageSubscriptionReject=false&page=9\n",
      "https://movie.naver.com/movie/bi/mi/pointWriteFormList.nhn?code=150689&type=after&isActualPointWriteExecute=false&isMileageSubscriptionAlready=false&isMileageSubscriptionReject=false&page=10\n",
      "https://movie.naver.com/movie/bi/mi/pointWriteFormList.nhn?code=150689&type=after&isActualPointWriteExecute=false&isMileageSubscriptionAlready=false&isMileageSubscriptionReject=false&page=11\n",
      "https://movie.naver.com/movie/bi/mi/pointWriteFormList.nhn?code=150689&type=after&isActualPointWriteExecute=false&isMileageSubscriptionAlready=false&isMileageSubscriptionReject=false&page=12\n",
      "https://movie.naver.com/movie/bi/mi/pointWriteFormList.nhn?code=150689&type=after&isActualPointWriteExecute=false&isMileageSubscriptionAlready=false&isMileageSubscriptionReject=false&page=13\n",
      "https://movie.naver.com/movie/bi/mi/pointWriteFormList.nhn?code=150689&type=after&isActualPointWriteExecute=false&isMileageSubscriptionAlready=false&isMileageSubscriptionReject=false&page=14\n",
      "https://movie.naver.com/movie/bi/mi/pointWriteFormList.nhn?code=150689&type=after&isActualPointWriteExecute=false&isMileageSubscriptionAlready=false&isMileageSubscriptionReject=false&page=15\n",
      "https://movie.naver.com/movie/bi/mi/pointWriteFormList.nhn?code=150689&type=after&isActualPointWriteExecute=false&isMileageSubscriptionAlready=false&isMileageSubscriptionReject=false&page=16\n",
      "https://movie.naver.com/movie/bi/mi/pointWriteFormList.nhn?code=150689&type=after&isActualPointWriteExecute=false&isMileageSubscriptionAlready=false&isMileageSubscriptionReject=false&page=17\n",
      "https://movie.naver.com/movie/bi/mi/pointWriteFormList.nhn?code=150689&type=after&isActualPointWriteExecute=false&isMileageSubscriptionAlready=false&isMileageSubscriptionReject=false&page=18\n",
      "https://movie.naver.com/movie/bi/mi/pointWriteFormList.nhn?code=150689&type=after&isActualPointWriteExecute=false&isMileageSubscriptionAlready=false&isMileageSubscriptionReject=false&page=19\n",
      "https://movie.naver.com/movie/bi/mi/pointWriteFormList.nhn?code=150689&type=after&isActualPointWriteExecute=false&isMileageSubscriptionAlready=false&isMileageSubscriptionReject=false&page=20\n",
      "https://movie.naver.com/movie/bi/mi/pointWriteFormList.nhn?code=150689&type=after&isActualPointWriteExecute=false&isMileageSubscriptionAlready=false&isMileageSubscriptionReject=false&page=21\n",
      "https://movie.naver.com/movie/bi/mi/pointWriteFormList.nhn?code=150689&type=after&isActualPointWriteExecute=false&isMileageSubscriptionAlready=false&isMileageSubscriptionReject=false&page=22\n",
      "https://movie.naver.com/movie/bi/mi/pointWriteFormList.nhn?code=150689&type=after&isActualPointWriteExecute=false&isMileageSubscriptionAlready=false&isMileageSubscriptionReject=false&page=23\n",
      "https://movie.naver.com/movie/bi/mi/pointWriteFormList.nhn?code=150689&type=after&isActualPointWriteExecute=false&isMileageSubscriptionAlready=false&isMileageSubscriptionReject=false&page=24\n",
      "https://movie.naver.com/movie/bi/mi/pointWriteFormList.nhn?code=150689&type=after&isActualPointWriteExecute=false&isMileageSubscriptionAlready=false&isMileageSubscriptionReject=false&page=25\n",
      "https://movie.naver.com/movie/bi/mi/pointWriteFormList.nhn?code=150689&type=after&isActualPointWriteExecute=false&isMileageSubscriptionAlready=false&isMileageSubscriptionReject=false&page=26\n",
      "https://movie.naver.com/movie/bi/mi/pointWriteFormList.nhn?code=150689&type=after&isActualPointWriteExecute=false&isMileageSubscriptionAlready=false&isMileageSubscriptionReject=false&page=27\n",
      "https://movie.naver.com/movie/bi/mi/pointWriteFormList.nhn?code=150689&type=after&isActualPointWriteExecute=false&isMileageSubscriptionAlready=false&isMileageSubscriptionReject=false&page=28\n",
      "https://movie.naver.com/movie/bi/mi/pointWriteFormList.nhn?code=150689&type=after&isActualPointWriteExecute=false&isMileageSubscriptionAlready=false&isMileageSubscriptionReject=false&page=29\n"
     ]
    }
   ],
   "source": [
    "for page in range(1,30):\n",
    "    print(url.format(page))"
   ]
  },
  {
   "cell_type": "code",
   "execution_count": 55,
   "metadata": {
    "collapsed": true
   },
   "outputs": [],
   "source": [
    "reviews = []\n",
    "scores =[]\n",
    "\n",
    "for page in range(1,30):\n",
    "    res = requests.get(url.format(page))\n",
    "    root = lxml.html.fromstring(res.text)\n",
    "    \n",
    "    for review in root.cssselect('.score_reple p'):\n",
    "        reviews.append(review.text_content())\n",
    "\n",
    "    for score in root.cssselect('.score_result .star_score em'):\n",
    "        scores.append(score.text_content())"
   ]
  },
  {
   "cell_type": "code",
   "execution_count": 57,
   "metadata": {
    "collapsed": false
   },
   "outputs": [
    {
     "data": {
      "text/plain": [
       "290"
      ]
     },
     "execution_count": 57,
     "metadata": {},
     "output_type": "execute_result"
    }
   ],
   "source": [
    "len(reviews)"
   ]
  },
  {
   "cell_type": "code",
   "execution_count": 56,
   "metadata": {
    "collapsed": false,
    "scrolled": true
   },
   "outputs": [
    {
     "data": {
      "text/plain": [
       "['영화는 괜찮음 생각보다. 근데 얘네는 왜 핵얘기 나올때마다 지들이 진주만 공격한건 생각을 안하지? 미국을 악의축으로 그리고 일본은 억울하게 당하는 피해자처럼 그려내는게 참 환상적이네  ',\n",
       " '관람객이시하라 사토미 예쁘다  ',\n",
       " '이래서 일본은 애니를 보나보다.  ',\n",
       " '야 진짜 무슨 구연동화냐 겁나 허접한게 느껴짐  ',\n",
       " '뭐? 인도를 위한 왕국정치??? 니들이 시작한 전쟁은?어떻게 보면 일뽕 영홥니다  ',\n",
       " '호불호 소리는 많이 들었지만 난 불호다. 고질라가 때려부수는거 보러갔더니 일본애들이 입만 엄청나게 터는 영화임.  ',\n",
       " '정체불명의 괴수 !! 그것을 담은 정체불명의 영화 !!  ',\n",
       " 'CG가 부족한건 어쩔수 없다.지만 지루한건 못참겠다. 정치풍자극으로 갈꺼면 고질라는 왜필요한가  ',\n",
       " '일본특유의 오글거리는 연기를 견디지 못하면 관람을 포기해야할지도 모름  ',\n",
       " '덕후에의한 덕후만을 위한.. 일반인은 눈이썩음  ',\n",
       " '이걸 2시간 가까이 본 내가 대단해서 ..  ',\n",
       " '일본 덕후들의 감성평점  !!  존중합니다!  ',\n",
       " '양심상으로 cg론 못까내리겠다.   내용면에서는 국가재난시스템 구조를 잘 알 수 있어서 좋았고, 신파가 없어서 좋았음.  고질라 가공격하는  연출은  해외에서도 호평이 많다.  근데 마지막 장면인 꼬리는 머냐?  누가 좀 설명좀....  ',\n",
       " '정치풍자극같은 느낌의 재해영화로서는 충분한 수작.고전적인 괴수영화로서도 수작.퍼시픽림이나 2014고질라같은 걸 기대하는 사람들에겐 망작.어차피 해외에서는 안 먹히는 감성의 작품입니다.  ',\n",
       " '고질라 음독살해 ㅋㅋㅋ  ',\n",
       " '이게 재밌다는 사람들은 매니아들인가? 일반인은 전혀 공감이 안됀다.  ',\n",
       " '평점을 후하게 준 자들의 닉네임을 보면 그 이유를 알 수 있다  ',\n",
       " '저렇게 팔이 짧은 진화라면 자살하겠다  ',\n",
       " '제작비 빵빵한 헐리웃영화들에 비해 cg가 딸리는 건 어쩔 수 없다.2014 고질라 밖에 안봐서 구작들은 모르겠지만 괴수영화보다는 현실성있는 재난영화. 고질라보다는 일본정부의 대응에 초점을두고 보는 영화. 그리고 에반게리온의 느낌이 많다. 브금과 사키엘  ',\n",
       " '영화는 호불호가 갈릴 수 있는데... 댓글에 에바 드립은 좀 그만 보고 싶다. 만들고 있다잖아. -_-;  ',\n",
       " '미국이 고질라 때문에 도쿄에 핵투하 할려고 하니까 일본이 모든 방법을 동원해서 고질라를 쓰러트린다는 유치한 이야기. 고질라가 등돌기,입,꼬리로 레이저 빔을 난사하는 장면에선 폭소. 일본 최고 에니메이션 감독의 수준에 실망함. 안노 히데아키가 싼 큰 똥  ',\n",
       " '이거 보니까 일부러 허접하게 만든듯 원작 고질라를 추억하면서 만든 영화인듯하다 원작을 보신분들이라면 추억을 처음 보는 분들은 허접하게 보일듯한 영화  ',\n",
       " '관람객괴수영화이지만 재난영화에 더 가까움. 일본 정치계의 관료주의적인 면의 장단점이 고스란히 드러난다. 실제로 영화같이 할것같은게 소오름...아, 고질라는 제대로 괴수스러웠습니다. 그건 맘에 드네요.아마 역대 최강의 고질라일듯?  ',\n",
       " '관람객일본 괴수물의 전통을 잇는 작품이지만 그렇기 때문에 한국에서 대중적인 인기를 끌기는 어려울듯 싶네요. 의도적인 것으로 보이지만 고질라의 CG도 보통 사람들이 보기엔 엉성해 보일테고 대사 처리도 그렇습니다. 저는 평작 정도 점수를 주겠습니다.  ',\n",
       " '고질라 중간에 노래나오면서 빔쏘는 장면에서 눈물나옴 뭔가 애달프고 멋짐  ',\n",
       " '관람객이렇게까지 저평가받을 영화는 아님  ',\n",
       " '딱 안노 히데야키가 만든 일본인 + 덕후용 영화. 안도로이드 재판  ',\n",
       " '괴수의 눈이 동태눈X 같습니다. 이렇게 솔직한 괴수 영화는 처음인듯...  ',\n",
       " '관람객괴수영화를 빙자한 일본사회의 비판과 해결방식을 나타낸 영화, 괴수가 뚜들겨 부수는 장면은 생각보다 적고 그래픽은 저질이다. 인물간 갈등과 혐력이 대부분이니 순수히 굇수영화를 보고 싶다면 콩. 안노감독 연출을 좋아한다면 실망하진 않을것이다  ',\n",
       " '관람객훌륭한 정치 풍자극. 기대 이상이었다.  ',\n",
       " ' 관료제 까는게 많다길래봤음. 관료제, 문서주의는 잘깠는데 교묘하게 전쟁피해의식을 슬그머니 쳐넣더라  ',\n",
       " '정치풍자한 건 알겠는데, 왜 이게 훌륭한 정치극이라는 거지?  ',\n",
       " '관람객일본 사회와 인물에 대한 꼼꼼한 묘사는 하나하나 볼만한 구경거리지만 전체적인 완성도는 좀 부족한 영화이다. 일본에서 큰 인기를 끌었던 건 동일본 재해에 대한 트라우마를 다루고 있기 때문일 듯.  ',\n",
       " '재난영화로써의 소스는 좋다 그러나 괴수영화로써 스릴감은 뭔가 아쉽네 주인공이 현장밀착형이 아니라 그런가. . .;  ',\n",
       " '관료주의의 병폐와 그 안의 정치놀음 한판을 보여주는 이상한 괴수영화가 있다.  ',\n",
       " '관람객은 모두 알바입니다.관람객 평점 8점 실화냐?  ',\n",
       " '동네 문구점보다 못한  CG  ',\n",
       " '네티즌평점이기자평론가보다더적은영화첨보네  ',\n",
       " '우경화 옹호 작품이라 보는내내 껄끄러웠다.단지 재난, 괴수 영화가 아닌제대로 전쟁 준비를 하지 못 해서 300만명 죽었다는 대목에서 반성이 아닌 아쉬움이 느껴졌음.미국, 유럽 국가들을  일본을 압제하는 서구열강 처럼 표현함자위군 옹호 영화극혐  ',\n",
       " '단순히 내용은 좋은데, 눈동자 움직이지도 않고 ㅋㅋ 뭔가 실감도 안남... 제일문제는 CG인데 신고질라 보고 눈 썩느니 대호 보겠다.  ',\n",
       " '씨발 다카포나 만들라고 안노새끼야  ',\n",
       " '일본의 SF 영화들은 테러 수준이다.  ',\n",
       " '정말 지금까지 본 영화중에 최악이다... 알바탈 쒸우고 한거 티나고 무슨 지구방위대 후뢰시맨 보는 느낌이든다.... 너무하다  ',\n",
       " '역대 고지라가 액션과 싸움을 중요시했다면 이번 고질라는 공포와 흉악함을 드러낸다는, 절로 소름이 끼치게 되는 영화. 브금도 한몫.  괴수 영화가 아니라 공포영화 보는 줄  ',\n",
       " '연출은좋음 긴장감씨지는 떨어짐소개가 좋긴함 근데 분위기가 에반게리온사도 없애는 분위기  ',\n",
       " '초등학생의 눈으로 재미있게 볼 수 있을 듯  ',\n",
       " '고질라가...넘 인형같았어요...마치 80년대 태권브이에 악당으로 나오는 그런 로봇같은 ..디테일이 좀 떨어지네요...좀 아쉬워요..  ',\n",
       " '하나를 만들어도 어떻게 이렇게 조잡하고 유치하게 만들까 비웃음만  ',\n",
       " '평점이 왜 좋은거지? 정치풍자가 좋았다고? 이영화 보는 사람들은 이렇게 신파적인 영화를 보고도...정치적 내용도 순전히 일본 자기방어용이고, 자기들은 완전 피해자라는 식으로.  ',\n",
       " '와 이번 고질라 너무했다 거의 그래픽이 장난감이 움직이는것 같네 이번 영화망했어  ',\n",
       " '신 고질라 라고 나온것 자체가 문제 입니다. 그러기 때문에 1점!!!낚시왕 고질라  ',\n",
       " '충격적일 정도로 허접한 cg와 그와는 반대되는 등장인물들의 리얼한 상황대처가 충돌을 일으킨다. 마치 꿈과 현실이 부딪히는 느낌이랄까.  ',\n",
       " '관람객사도가 쳐들어왔는데 에바가 없는 상황 오타쿠대장이 만든 영화답다 초반 블랙코메디 요소만 재밌음  ',\n",
       " '미국욕은 1+1처럼 꼭 해야 직성 풀리는 일본 풍자... 피해자 코스프레는 언제 끝마치고 자기반성 들어가려나  ',\n",
       " '괴수 영화가 아니라 정치영화. 무능하고 형식에만 얽매인 관료주의의 일본.  ',\n",
       " '관람객고질라 팬이라면 기존 고질라의 위상이 그대로 드러난다는 사실 자체에서 흥미를 느낄수있을것같다. 반면 괴수가 나오는 흔한 액션영화를 기대했다면 다소 지겹게 느낄수있을듯하다. 특히 후반부의 일본 미화 뉘앙스는 견디기 힘들지도  ',\n",
       " '관람객고지라사태의 긴박함을 잘 전달했지만 cg와 액션의 비중이 아쉽다  ',\n",
       " '갠적으로 솔직히 평가하네요 내용이 좋다고 해도 영화를보는 이유는 시각적인 면이 큰데 그걸 무시하는 고질라 인형은 2017년도 영화라는게 의문이 들정도...시각적인 면을 무시할려면 책을 읽어야죠 영화를 볼게 아니라 고질라 인형에 도저히 몰입이 안되네요.  ',\n",
       " '고질라가 레이저를 뿜을 때, 티라노의발톱과 같은 레벨의 수준이라는 걸 알게 되었음.  내용은 뭐,,,내수용으로는 괸찮은데 그래픽 수준이...  ',\n",
       " '개ㅂㅅ같은 영화 1점도 아깝다 퉤영화내내 인간들 회의만하는 영화  ',\n",
       " '인간적으로 너무 재미없다. 특촬물? 그래 나 특촬물 안본다. 그랬더니 이건 머 완전 재미없는 수준이하보다 더하다. 특촬물 본 사람만 봐야되는 영화인가보다.  ',\n",
       " '제발 문화수준 드러내지 말고 정당하게좀 평가하자.  ',\n",
       " '연출은 좋다.  지금 나온  고질라 영화중에  이번 고질라를 이길 고질라는 없을듯...  이 피지컬대로라면  킹콩 썰림  ',\n",
       " '불따로 봐놓고 CG만 논하는 평들을 보니 우스울 뿐. 근래 보기 힘들었던 훌륭한 정치극입니다.  ',\n",
       " '관람객초대 고지라를 현대적으로 잘 해석한, 개인적으로는 역대 고지라 영화중 최고  ',\n",
       " '현실사회의 문제점을 잘 지적했다 액션씬을 기대안하고 봤던지라 갠적으로 매우 좋았음  ',\n",
       " '관람객안노 스타일의 재난묘사가 실사영화에서도 충분히 통한다는 것을 보여준다.  ',\n",
       " '관람객왜 평점이 이따구냐? 괴수에 대응하는 컨트롤타워의 모습을 정말 제대로 보여주는데.  ',\n",
       " '관람객안노 총감독 작품이라 기대가 컸는데 기대이상이었습니다. 안노 특유의 데몰리션씬, 안노레이저 등등 안노 전매특허인 이펙트 장면에 스트레스가 다 날아가더군요. 안노 아니메퍈이라면 꼭 한번쯤 봐야하는 작품인데 역시나 국내에선 찬밥이군요...  ',\n",
       " '번치 풍자극으호는 훌륭하나, 괴수 영화에 대한 기대치를 가진 관객에겐 아쉬움이 클수도 있다. 그러나 매우 현실적인 고질라.  ',\n",
       " '와 내가 진짜 이런거 에 평점안하는데 진짜 쓰래기 영화내..  ',\n",
       " 'OOO 무슨 영구와 쮸쭈공룡 보는줄 ㅋㅋㅋ근데 ㄱㅐ 진지빠니까 너무 얼탱이없더라.. 정의로운척 오짐 ㅋㅋㅋㅋ 영화보는내내 후뢰시맨,울트라맨,영구와 공룡쭈쭈 생각남  ',\n",
       " '리메이크판 고질라 생각하고 기대햇는데 그냥 일본의 피해자코스프레와 일본은 위대하다의 사상과 뭐만하면 핵을 날리려는 미국의 무식함에 1점 줄려다가 카요코인가 미국대사관역을 맡은 여주가 넘 예뻐서 5점 준다  ',\n",
       " '2017년에  이런 영화가 나올 수 있다니신선한 충격이었다  ',\n",
       " '일본 자위대 홍보영상 같았음 ㅋ  ',\n",
       " '역대 모든 고지라시리즈를 다본 팬이지만  이건 고지라냐 특촬이냐를  넘어 그냥 영화라고 봐줄수도 없는 수준이다.  캐릭터들은 만화속에서 튀어나온것같고 대사와 연기, 상황등이 너무 어설프고 작위적이다.  ',\n",
       " 'ㅋㅋㅋㅋ 입에서 7옥타브로 레이저나감  ',\n",
       " '핵쓰레기.. 시간아까움  ',\n",
       " '평보고 안볼라다가 분노보고  일본 아카데미 뭐가받았나 검색하다가 이게 작품상 감독상인가 다수상했길레 한번봤는데 가관이네 애니는 그렇게잘만들면서 고질라는무슨 봉제 인형수준으로 만들어놨냐 주제는 괜찮았으나 시종일관 지루하고 뭐볼거리도 없는 일본뽀개는건볼만  ',\n",
       " \"일본의 고질라 시리즈의 전통대로 잘 만들었다. 물론 '전통대로' 잘 만든었다는거지, 시리즈를 모르는 일반관객들까지 만족시킬 정도의 완성도는 아니다.  \",\n",
       " '초기 버전의 고질라라고 하는데 많이 낯설고.. 연출도 일본 느낌이 많이 난다. 일본 국내용 인듯...  ',\n",
       " '일본애들 중2병 연기 이거 누가 좀 고쳐줘야 하는 거 아닌가? 진짜 이 정도일 줄은... 정신병이야 이거  ',\n",
       " '거대한 조잡한 장난감괴물 고질라를 상대로 진지하게 연기하는 인간들에 웃음만 ㅋㅋ  ',\n",
       " '관람객개인적으로는 별로였습니다  ',\n",
       " '일점두아깝다 진심ㅋㅋㅋ  ',\n",
       " '유치한걸 떠나 쓸데없는 대사들이 왜 이리도 많나. 일본영화 원래 이런가.  ',\n",
       " '최악 중 최악. 이영화를볼바엔 \"디워\"를 한번더봄  ',\n",
       " '한마디로   보지 마셈 ㅠㅠ  ',\n",
       " '내가 뭘 봤는지 모르겠는 영화  ',\n",
       " '90%가 회의하는 내용.희생이과 책임이 너무 맹목적이서위화감이 느껴짐...  ',\n",
       " '이게 괴수 영화냐 회의 영화냐 회의만 ㅈ나게 해 대네  ',\n",
       " '고질라 엉성한건 예전 특찰물방식이라 치고 스토리는 재해가 닥쳤을때 복잡한 명령 체계을 까는 스토리라 쳐도 마지막에 고질라 처리하는 방식은 OO이지 그건 쉴드가 안돼 ㅡ ㅡ  ',\n",
       " '로튼 87퍼,   이게  심형래꺼보단 낫다.   심형래는 해외,국내 둘다  평이  안좋거든  이건  그래도  일본,해외에서 평은  양호하고  북미평가도  나쁘지  않거든  cg로 평점까내리는건  우리나라  cg도  안좋기 때문에  그걸론  평 못까겄다  ',\n",
       " 'CG는 일부로 옛날 특촬 방식으로 만든거임. 나름의 결말과 스토리 라인을 가지고 갔음. 요즘 사람들 괴수물이라고 하면 무슨 카메라 흔들리고 건물 무너져 내리는 거밖에 모름. 일까들이 평점 테러하는거 꼬라지가 극혐이라서 10점준다  ',\n",
       " '원전과 쓰나미를 종합적으로 은유한 괴수를 통해 심하게 관료화된 상황을 풍자한 정치 군상 드라마로 읽힌다.  ',\n",
       " '제목이 왜 고질라냐 일본인 정치질영화지 용감한척 의로운척 쩌는 영화저기에 출연한 배우들은 돈만 많이받으면 그만이겠지만 개봉한거보고 자괴감 쩔겠네  ',\n",
       " '22년살면서 본영화중에 최악..도저히 못보겠어서 그냥 끔..  ',\n",
       " '고지라에 왜 인형 눈깔을 달아 놨나 했는데 다 설정이었다는구나...모르는 사람은 집중이 안되서 바로 채널 돌려버림  ',\n",
       " '아베가 밀어줬나. 보고있으면 거슬림. 일본영화는 본인들이 저지른일은 입 싹 닫고, 핵폭탄 피해본것만 알리려고한다는 점. 과거를 직시하고 저런말하면 동정이라도 하겠는데..허지웅이가 재밌다고 하던데. 쉬퐐라퐐이야.  ',\n",
       " '고질라영화는 98년에 장 르노 나오는 고질라가 제일 나음..  ',\n",
       " '무난하게 볼만하다. 고지라 시리즈 팬들은 좋아하겠지만 일반인들이 보면 지루할수있다.  ',\n",
       " \"레전더리 픽쳐스 때문에 빡쳐서 엄청난 캐스팅 물량공세와 '그' 에반게리온 감독까지 부른건 이해는 가지만 그냥 일본 자위대 영화잖아. 특촬물,고지라매니악, 에반게리온 매니아들만 공감할만하지 일반인들은 어떻게 받냐고  \",\n",
       " '포스터 부터 사이즈 나온다 일본영화는 스펙타클하게 디테일하게 폭넓게 만들수 없냐? 용가리보다 재미없다  ',\n",
       " '생각보다는 괜찮았음. 바쁘게 넘어가는 와중에 쓸데없이 설명하는 자막이 많았고 이펙트 자체는 cg로 잘 얼버무렸는데 고질라 자체가 너무 피규어 걸어다니는 것 같이 생동감이 없음. 무엇보다 자국뽕이 잔뜩 들어가서 개소리를 좔좔하기에 볼 사람은 유의할 것  ',\n",
       " '장난감들이 고질라에게 약 먹인다. ㅋ  ',\n",
       " '맘마 먹고 잠자는 도시 속의 고지라  ',\n",
       " '이건 괴수 영화라기보단 정치풍자영화인거같네요. 그쪽으로 보기엔 한번은 볼만한 영화같아요. 물론 고질라 cg는 20년전 영화를 보는거같앗지만.... 너무 엉성하고 극혐..헐리우드에 익숙해져서 그런지.. 암튼 cg 빼고 나머지는 볼만함.  ',\n",
       " 'SF와 액션적인 요소를 다 배제하고 객관적인 시점으로 영화를 보더라도, 그냥 진부하게 봐왔던 일본 특유의 흔한 캐릭터와 풍자. 공감하고 느끼기 정말 힘들었다.  ',\n",
       " '‘고질라’가 선보이는 파괴의 액션보다는 그 액션의 후유증을 더 많이 보여준다. 마구잡이로 몰아치는 공격 대신 많은 토론과 계획으로 ‘고질라’에 맞서는 모습은 새롭기도 하고 지루하기도 하다.  ',\n",
       " '안노 감독의 심미적인 카메라 구도가 인상적이었다.가끔 배우들의 진지빠는 대사의 오글거림이 느끼했다.  ',\n",
       " ' 지금 케이블에서 틀어줘서 보는중인데 이게 ㅋㅋㅋ 2017년에 개봉했다고?  1997년작품 아니고? ㅋㅋㅋㅋ 와 이게 뭔 코메디 일본애들 영화 잘만드네 아카데미 출품해라 ㅋㅋㅋㅋ  ',\n",
       " '전범국가가 피해자 코스프레하는거 오지구요지리구요레딛고요  ',\n",
       " '원폭피해자인척 하는건 별로지만...  ',\n",
       " '피해자 코스프레로 무장한 내수용 정치 풍자  ',\n",
       " '그냥 정치영화였습니다.  ',\n",
       " '이런쪽 팬 아니면 안보는거 추천. 정치풍자쪽으로 보는게 더 재밌다. 고질라 잘 모르는 나같은 일반인은 풍자가 어쨌든 괴수영화의 본질인 매니악함을 극복하고 볼만큼의 메리트는 없다.  ',\n",
       " '괴수를 보러 왔다면3점 괴수에 의해 밝혀지는 무능한 정부와 관료주의 그리고 인간의 분투를 보러 왔다면 8점  ',\n",
       " '전범국가 주제에, 영화 내에서 자신들의 2차대전을 정당화하려는 의도가 많이 보이네 대사중에 미국의 히로시마, 나가사키 핵공격을 비꼬며 비판하는듯한 모습도 보이고, 후반부 기차 테러는 마치 가미가제 공격을 연상시키는? 일본놈들은 양심이란건 팔고 없나?  ',\n",
       " '너무 나대는 비호감 남녀주인공부터  짜증이 밀려오고  영화 퀄리티 스토리 연기 전부 엉망이다.  제작비는 드럽게 많이 들었을 것 같은데   결과물이  심각하다.  초반에 나온 귀여운 고질라만이 유일한 호감.  ',\n",
       " '사회비판은 둘째 치고 너무 재미가 없다. 개성 넘치는 천재들이 나라 구한다는 진부한 내용에 배우들 대사, 몸짓 엄청 오글거리고, 고질라가 도시를 파괴하는 장면에서도 별 박진감이 느껴지지 않음.  ',\n",
       " '역대 괴수물중 최악...고질라 도시 돌아다니는 장면들은 그 옛날 파워레인저,  울트라맨을 떠오르게했음. 괴수물인데 긴장감도 떨어짐 차라리 최근 개봉한 콩이 몇천배 나을지경. 일본 좋아하는 사람들이 좋다고 감싸는듯  ',\n",
       " 'ㅋㅋㅋ 도대체 이딴걸 왜 만든거지? 60년대 수준이네 ㅋㅋ 맨날 고지라 고지라 빨아재끼더만 매번 미국이 만든 고질라가 훨씬 재밌네. 뭔 향수를 불러일으킨다는건지 ㅋㅋ 이거 보고 자란 사람들은 이미 다 늙어죽었음  ',\n",
       " '상당히 잘만들어진 영화인데 저평가된게 아쉽네. 90년대 특촬물 느낌도 잘 살린거같고 마지막 엔딩이 인상적이었다. 스포가 될 수도 있겠지만.. 꼬리부분의 모습으로 추측하건데 거대한 인간형상의 뭔가로 진화화려다 직전 단계에서 멈춘듯 보인다. 추천함.  ',\n",
       " '특촬물의 특성이니 뭐니하는 얘기를 하자는 게 아니다. 일본 영화의 한계를 본 느낌이다. 하나를 꼽자면 캐릭터, 현실을 비꼰다고 하면서 일본 애니에서나 봐왔던 진부한 캐릭터들. 나에게 있어서는 고질라의  존재보다 더욱 비현실성을 느끼게 한 부분이었다.  ',\n",
       " '최악이다 돈이 아깝다 영화보고 깜놀 지루해  ',\n",
       " '괴수영화, 재난영화 절대 아니고 풍자 블랙코미디입니다. 이것만 알고 가세요  ',\n",
       " '매니악한 면이 있긴 하지만 고질라의 도시 파괴장면은 굉장히 매력적임. 하지만 맥빠지는 고질라 격퇴장면은 정말 그게 최선인지 묻고 싶음....  ',\n",
       " '최근 본 영화 중 최고핵에 관한 일본 내의 정서가 확실히 드러났고, 세계 정세와 정부의 무능함이 인상 깊음. 세상 돌아가는 시스템을 아는 사람이 만들 수 있는 영화. 가족 신파극이 빠져서 맘에 들었다.  ',\n",
       " '관람객괴물과 같지만 방향성은 다른 영화 <괴물>의 정부가 개돼지라면 <신고지라>의 정부는 밥값은 한다.  ',\n",
       " '이 영화에 10점 준사람은 백퍼 이시하라사토미때문이다...ㅡㅡ;;;;영화내용이야 볼만하다고 치자..제목이 고질라인 괴수영화에 고질라가 나오는 순간 웃음만 난다...ㅡㅡ;;;..  ',\n",
       " '심형래 감독이 만든 영구와 공룡 쮸쮸가 생각나네요.. 고질라 눈을 보고 놀랬습니다.  역시 일본 영화는 그냥 실사애니가  갑인듯. 이런 실사영화는 아닌거 같네요.  ',\n",
       " '진짜 콩보고 이거 보니까 너무 구린느낌이 특히 에반게리온 OST 비슷한거 나오기는한데 뭔가이렇다할 결과도 없고 ㄷㄷ  ',\n",
       " '로건보고나서 보니 1점도 아깝다  ',\n",
       " '고지라로 보여준 인류가 자초한 재앙의 무서움.  ',\n",
       " '알바시키들... 꼭 이렇게 해야하나..??  ',\n",
       " '고질라는 영어로 Godzilla 입니다.영화를 보면 왜 고질라가 Godzilla인지 알수 있죠.  ',\n",
       " '일본이 만든 영화가 다 그렇지뭐  ',\n",
       " '이 영화 강추다!  나만 당할순 없다  ',\n",
       " '에반게리온 더 비기닝 : 신고지라 홍백가합전  ',\n",
       " '12년만에 부활한 일본 고질라!!!!ㅠㅠ 게다가 17년만에 정식 국내 개봉이라니ㅠㅠㅠㅠ  ',\n",
       " '<너의 이름은>과 유사한 주제, 전혀 다른 방향의 사회 비판, 동전의 양면.  ',\n",
       " 'ㅋㅋ간츠 오 를 그렇게 잘만들어 놓고.. 이건 과거에서 찍은 영상 30년만에 발견된 느낌은 뭐죠 ?  ',\n",
       " '블랙코미디같은 정치풍자극에 화끈한 괴수 액션 ...괴수영화포맷의 좋은 사래로 남을듯하다  ',\n",
       " '0점은 없나요? ㅋ 다행이다. 일본영화라서. ㅋ 한국에서 이딴 영화 만들었다면 엄청 욕 퍼부었을텐데ㅋ 무의미한 자음을 연속 사용했다고 키키키를 많이 못 쓰게 하네요. 키키키크크크 완전 우스워요. 한번 보세요. 크크크 영화평 쓰면서 현웃.  ',\n",
       " '과거 고질라는 일부러 그렇게 만든게 아니고 그당시 일본 기술로는 현재의 블럭버스터 급으로 만든거다 특촬물이라는 장르가 있는것도 아니고 메이저 sf영화 만들 능력이 안되니 그냥 어린이 영화 스타일로 만든거를 무슨 특촬물 장르인양 핑계대는 거지  ',\n",
       " '수상작품은 다 이유가 있다...어느덧 이 영화에서 CG의 퀄리티는 전혀 중요하지 않는다. 각본의 승리가 가져다준 정치영화..최고!  ',\n",
       " '많고 많은 괴수, 재난물 중에 가장 현실적이고 풍자적인 영화가 아니였나 싶음. 영화 자체가 특촬물인데다,(중후반부 전투씬을 보신 분들은 아시겠지만 바탕이 특촬이여서 그렇지CG는 양호한편) 이런저런 전문용어들이 휙휙 지나다녀서 호불호는 좀 갈리겠지만  ',\n",
       " '관람객최고입니다. 짱이에요  ',\n",
       " \"꽤 볼만했다. 일본답게 아니메스런 스토리와 연출이 있으니 헐리우드파에게는 '뭔가 이상해' 라고 말할지도 모르지만, 일본의 특촬영화는 그런 판타지의 재미로 보는 것이다. 헐리우드와는 다르다. 역대 가장 무섭고 괴기스런 고지라를 대화면으로 봐서 즐거웠다.  \",\n",
       " '이게 왜 콩:스컬아일랜드와 같은 시기에 개봉한거냐? 고질라 2014는 뭐가 되지? 고질라는 일본에서 만들어졌다는 프라이드로 이런 수준의 영화로 헐리우드란 스케일에 숟가락을 꽂겠다? 사실상 괴수판 어벤져스의 서막에 재를 뿌린 희대의 얌체같은 쓰레기ㅉㅉ  ',\n",
       " '3월 8일  12시 - 7시 사이 덧글 쳐단놈들 봐라.아주 급식충들 답게 재밌냐 평점 말아먹는 노답들아.보고 지껄여 ~~  ',\n",
       " '괴수물 팬으로 써 완벽했음  ',\n",
       " '관람객확실히 관객이 없긴하네요. 저포함 5명. 근데 평점보다는 괜찮은것 같아요. 킬링타임용. 여친은 재밌었다고 하네요.  ',\n",
       " '평이  낮아서 10점주는데,  솔직히  7광구 만들었던  나라에서  cg로  영화 까내리는건   양심도  없는거  같아서다 보고 평하자면  후반부 고질라  학살씬은 역대급이다.해외에서 평이  양호한 이유가 있음  ',\n",
       " '관람객보고 온 사람이다. 괴수영화 중 최고의 영화다 꼭 봐라.일본, 한국인이라면 꼭 봐야 할 괴수영화의 탈을 쓴 정치영화다.  ',\n",
       " '일본 관료주의에 대한 비판을 초점 맞춘것같지만, 과거고질라나 2016 년에 나온 영화 cg를 생각하면 b급영화 그 이상 이하도 아님  ',\n",
       " '와 무슨 국방부에서 만들었나 퀠리티가 왜이래?  ',\n",
       " '딱 요정도 점수정도 되는영화  ',\n",
       " '저 괴물의 초능력 보다 무서운 건 정부의 무능함이지 + 핵공격 맞은 국가는 일본이라 늘 피해자처럼 보이려는 꼼수 - 괴물 가만히 있다가 죽는 착한 괴물이라는 상상에 B급  ',\n",
       " '전형적인 일본의 국뽕영화 ㅋㅋ핵쏜 미국을 겁나 비난하지만 지들은 전범국가인걸 모름그리고 위기에 강한 일본으로 이미지를 잡고 있지만 실제로는 원자력 발전소 하나 관리 못하는 무능국.  ',\n",
       " 'CG가 엉성한게 실제 사람이 연기하는게 아니라 애니메이션 보는것같음...  ',\n",
       " '자위대 광고와 역사미화의 결정체  ',\n",
       " '딱...일본식 표현이네..미국은 건방지고 우월하고.위선적이고.자기들은 피해자고...인간적인면을 자의적으로 내세우고...그와중에 일본과 미국은 어깨를 나란히 하고...ㅋㅋ  ',\n",
       " 'TV유치원 인형극이네.. 레옹 뤽베송이 나온 옛날 고질라는 실감났는데 이건 특수효과라 할 수는 없지 인형눈깔도 흰종이에 까만색 칠하고 끝~!  ',\n",
       " '정말 재미있게 봤습니다. 보는 관점이 달라서 인지는 모르겠지만 저는 2014 고질라 보단 이쪽이 더 취향저격이네요 ㅎㅎ  재해상황이 터졌을 시에 일어날수있는 현실적인  사회 묘사들이나 과장되지않은 리얼한 군대 전투씬이 볼만했습니다.  ',\n",
       " '일본특유의 맛이라해도 나머지것에 집중하기 어렵다  ',\n",
       " '관람객관료제 엔터테인먼트.  ',\n",
       " '나름 볼만한데 장소나 계급 설명으로 자막을 제대로 못보고 대사가 너무 빨라 이해가 어려웠다  ',\n",
       " '대사 왜이리 빨라. 일본영화답지 않게. 화면을 봐야되는데 자막만 읽게만드네.  ',\n",
       " '사상 최악의 괴수 영화!!!  편집 연출이 고등학교 방송부 수준이며 일본 자위대의 능력이 이만큼 좋다라는 걸 어필하는 영화입니다.  ',\n",
       " '고질라 인형 입고 소형 세트에서 찍었던 흑백시대의 향수로 버텼다. 방사능과 관료주의 등 현실을 넣어봐야 유치한 소재에 진지하게 임하는 정치행정가들의 허세 저음과 재난에 대처하는 일본영화 특유의 멋진 척은 이질적이고 코미디.  ',\n",
       " '아이구..잘 가다가 왜 엄한데로 ??  ',\n",
       " '후쿠시마라는 명백한 위협을 바라보는 일본의 현실도피, 자위 딱 그 정도다. 현실에서는 보도통제와 회피, 영화에서는 목숨바쳐 구하겠다는 각오가 우습고 방사능의 반감기가 20일이라 기적처럼 희망을 품는 메세지는 너무나 작위적이다.  ',\n",
       " '고질라 보다  사람들 대화하는 빈도가 너무 많아서 지루하고  너무  옛 느낌에 추억팔이용 고질라  많이 아쉬움  ',\n",
       " '정부를 비판하고 싶다면 차라리 다큐멘터리를 만들지.. 주제나 의도만 좋다고 좋은 영화는 아니지 않을까 싶네.  ',\n",
       " '아 ..  그래 호불호갈리고 다인정한다..근데 선진영화들은 전개가 다소 명확한데일본영화 애니 드라마는 밑도끝도없고본인만알고 남들은 모를거라는사상 때문에오글거림..  유치함..  영화도 만화같음..  오타쿠..  ',\n",
       " '본인도 고질라 좋아하긴 하는데 고질라 인형눈 볼때마다 깬다. 제작진들은 자기가 만든 영화 보면서 이런 기분 안드나?  ',\n",
       " '그냥 애니보는게 나을 것 같다. . 이걸보니 한국CG가 정말 좋다는걸 느낌  ',\n",
       " '자위대 홍보영화...즐~~  ',\n",
       " '다들 알바여? ㅡㅡ 본거맞나?  ',\n",
       " '이걸 영화라고? 고질라 인형 사다가 찍었네. 일본 수준이 이정도 밖에 안되네. 이러니 소니가 망하지 ㅋㅋㅋ 일본은 점점 뒤쳐지네. 그런데도 일본 찬양하는 친일파 쪽바리 자식들이 많다는 증거다. 한심하다.  ',\n",
       " '생각한거보다 더 나쁘다  ',\n",
       " '난 2014 고질라를 기대하고 봤거등....내용 따위 아무래도 상관없었다고...  ',\n",
       " '평점 높게준놈들은 혼자 당할수없다 이런 심보로 박은거냐?  ',\n",
       " '관람객고지라는 좋지만 영화는 아쉽다  ',\n",
       " '이.. 소재로 이것뿐이 못살렷다는게..  ',\n",
       " '조조로 봤지만 너무나도 돈이 아까운 영화  ',\n",
       " '1점도 아까운 영화.디워가 훨씬 잘 만들었다는 생각이 들게 하는 최초의 영화임.  ',\n",
       " '여기 댓글은 모두 일본인이 다는거같다~~ 딱 용가리급! 영화 시작해서 고질라 나오면 완전 헐!! 완구점에 가면 있는 괴수를 보았다!!!  ',\n",
       " '역시 믿고거르는 히구치신지  ',\n",
       " '괴수(고질라) 영화를 가장한 정치 영화였네 감독 때문에 에반게리온 색채를 지울수가 없다 전체적으로 나쁘진 않은데 지루한게 흠  ',\n",
       " '현실성을 추구한 S급 특촬물. 과장된 연기가 흠이었다. 대체 고질라는 무엇이고 왜 나타난 걸까.  ',\n",
       " '고질라 공격시  관료주의에 의한 미온적인 대응책이 세월호 사고당시 비상 대책대응반과 오마쥬 된다.  ',\n",
       " '굳이 옛날 특촬물초럼 찍을 필요가 있었나....정부측 사람들 연기는 좋앗는데 고질라 연구하던 연구원들보면 로봇인줄 알았네 고질라 없이 그냥 정치영화로 만들엇으면 더 인기 많앗겟다  ',\n",
       " '괴수 영화라 cg를 보러갔다면 별로. 하지만 이 영화는 괴수 영화가 아님.  ',\n",
       " '재난에 따른 대응 관점으로 영화를 보면 7점.. CG와 고질라 관점으로 보면 1점입니다. 헐리웃식 괴수영화 기대하시면 안보시는게 나을수 있습니다.  ',\n",
       " '17년도에 이 cg 실화냐  ',\n",
       " '일본은 이런 졸작 찍어낼꺼면 그냥 찌그러져 있어라..  ',\n",
       " '디워보다 백배는 구림; 평점 1점도 아깝다  ',\n",
       " '뭐 이딴영화가있지 시대가 어느땐데 고질라 눈도 장난감 인형눈 마냥 초점도없고 그냥 흰자에 검은색 박아놓고 연출도 쓰레기10년전에 나온 괴물보다 cg효과가 구림  ',\n",
       " '놀라운 영화, 그러나 권하긴 어렵다.  ',\n",
       " 'CG가 특촬식이든 일부러그랬든 뭐든간에 그냥 관람객 입장에서는 재미가 없고 유치하다 화면도 후지고. 우리가 왜 영화 하나 보는데 그 역사를 알아야하고 감독이 일부러 어떻게 만들었느니 그런걸 알아야 되는거냐? 그냥 영화를 보고나서의 느낌 자체가 별로야  ',\n",
       " '일본인들을 위한 영화 확실히 특유의 정치풍자(세세하다 못해 메뉴얼 이상의 상황이 닥치면 어영부영 하다가 아무것도 못한다는점, 피난 능력은 뛰어난데 법 관료제 때문에 피난 명령을 못내린다는점)는 상당히 감명 깊었습니다만 이런데 관심없으면 흠...  ',\n",
       " '안노히데아키라는 거장이 만든 재난 영화의 새로운 특수성과 현실적인 접근으로 보통의 재난물에서 진화한 영화 자국에 대한 비판과 풍자가 날카롭고 나아가 미래 세대를 위한 메시지 또한 충분했다  ',\n",
       " '정말 재미있게 보고 왔습니다.커다란 재앙이 닥쳤을 때 우리는 어떻게 대처할 것인가. 고질라는 무엇을 의미하는가. 고질라를 안고 살아가야 하는 미래를 볼 수 있습니다.  Decisive Battle  ',\n",
       " '재밌음재밌음재밌음요  ',\n",
       " '관람객정말 진짜 최고 명작임 정말입니다 정말 정말 명작입니다  ',\n",
       " '영화 비평하는건 좋은데 작품의도와 성격 파악도 못하면서 지 입맛에 안 맞다고 비난하는건 참 웃기단 말이지  ',\n",
       " '이시하라사토미가이뻐서 2점자위대 광고영화임  ',\n",
       " '기대와 우려에서 탄성과 찬사로  ',\n",
       " '의외로 나쁘지 않은 완성도에 감탄. 성의없고, 생각없이 1점을 준 사람들에게 한숨.  ',\n",
       " '재밌는 사람한텐 재밌다고 생각하지만 매니악한 취향을 타는 느낌이라 타인에게 추천해주기 망설여지는부분은 있었습니다. 평점시스템은 믿고 거르는편이지만 일본거라고 무조건 평점깎고보거나 에바 안만들고 이거나 만들었다고 평점깎는건 좀 반성들 하시는게 어떠신지  ',\n",
       " '수면제다 이건 수면제야  ',\n",
       " '일본인이나 매니악한 고질라 팬 외에는 어필할 구석이 적다.  ',\n",
       " '기대한거에 비해 별로 였음. 소재는 괜찮지만 그걸 표현하는 방식에서 좀 아쉬운건 어쩔 수 없었음. CG나 표현을 일부러 그랬다고 하지만 현대 영화에서는 좀 거부감이 있었다 할까..예고편에서는 급박한 긴장감을 표현했는데 그걸 기대하고 보는것 오바인듯  ',\n",
       " 'http://m.movie.naver.com/m/endpage/movie/ReviewView.nhn?nid=4474802&sort=rsno&page=1 [추천하기] 바이러스//CG는 감독의 색깔로 이해해라! 원조 1954년 고지라 영향으로 미국팬들만듬  ',\n",
       " '하하.. 좋은 메시지도 말아먹는 괴수영화  ',\n",
       " '심각하다..괴수영화로서는 완벽한 낙제점이다 cg와 연출은 심형래의  어이없는 망작인 디워보다도 못하다 괴수영화를 보러간거지 일본 정치,자위대 얘기를 보러간게 아니다 심지어 그 얘기조차 재미없다 고지라면 무조건 좋다,일빠다,에바감독빠다 외엔 절대 비추다  ',\n",
       " \"이 영화는 아무리 후하게 점수를 줘봐야 '티라노의 발톱' 수준이닷!ㅋㅋㅋ  \",\n",
       " '와~진짜 대박임~cg는 둘째치고고질라 거의 안나옴..정신없이 산만하고지루하고 긴장감도 없다..올해 영화 중 최악의 영화~  ',\n",
       " '관람객큰 기대 안하고 그냥 봤는데! 결론은!!! 진짜 대박 재미나요 !!일본 정치 , 관료주의에 대한 스토리도 재밌고 ! 웅장한 규모의 초대형 괴수 재난영화의 진미내요 ^^  ',\n",
       " '호불호 갈리는게 아니라 영상적으로 0점이다-_-;  ',\n",
       " '알바들 참.... 돈별려고 애쓴다.일본 정부 얘기 1시간 고질라 10분게다가  조잡한 cg... 그래 원작을 추억하며 일부러 옛날 방식으로 만든거겠지  ',\n",
       " '감독이랑 제작진이 90년대 기술로 만든거 같은데  ',\n",
       " '이걸10점주는사람은 뭐지? 진심 2017년영화인가싶은영화를... 80-90년대수준의영화다  ',\n",
       " '안노가 그려낸 가장 고질라 다운 고질라의 탄생  ',\n",
       " \"이 영화를 신파 재해물 판도라랑 비교하는 사람도 있네..뭐  이 영화는 신파 따위는 없는  '일본 정치' 풍자극 입니다일본 정치에 관심 없는 사람은 별로 일 가능성이 꽤 되지요 한 가지 확실한 건 후반부 cg신은 지리고  신파는 없다는 것  \",\n",
       " '1-3점 주는 분들 정말 무식함. 묘리/원조 고지라(1954) 혼다이시로 감독 작품부터 알고!! 그 심형래씨도 영향을 받아서 용가리를 만든거다. 1967년 김기덕 감독(대괴수용가리)도 영향을 받은 작품이다. CG는 의도적 그런느낌으로 특촬물 전통방식  ',\n",
       " '안도!! 에바는 언제 만들꺼야!!  ',\n",
       " '2014 고질라이후에 이딴걸..이시하라 사토미 나올때마다 빵터짐 연기 진짜 못하고 갓~질라 대사칠때 오글거려서 손가락 경련올뻔함. cg는 슈트액션의 향수니어쩌니 그딴 오덕질은 알바 아니고 진짜 고지라발에 바퀴달아서 사람이 뒤에서 미는거같음.오덕전용영화  ',\n",
       " '아주 굿 재미있어요,,  ',\n",
       " '괴수 영화라기 보다는 괴수의 행정학/사회학 영화에 가깝다.  ',\n",
       " '고질라가 귀여워 보인다  ',\n",
       " '대부분 보지도 않고 평점 주네 ㅋㅋㅋ  ',\n",
       " '고질라를 이용한 재난영화. 그리고 초점은 일본정부가 어떻게 대응 하는지로 맞춰져있음.  고질라 특유의 특촬 빙식을 잘 담아낸것 같음. 1998년도 헐리우드 고질라가 더 재밌다는 개소릴 하는 저능아들이 있던데 절대 그런 영화는 아님.  ',\n",
       " '일본미화 정치영화...  ',\n",
       " '일본다운 괴수영화가 아닌 정치 그리고 재난대응영화이다. 일본도 미국의 안보가 위협받으면  핵을 쓸 것을 잘 알고 있다. 핵은 처음 시작이 어려울 뿐 그 이후는 대상지가 본토만 아니라면 사용할 것이다. 북미회담을 앞둔 상황에서 시사점이 있는 영화다.  ',\n",
       " '별도 아깝다ㅡㅡ 어휴 내가 이걸 왜 봤지  ',\n",
       " '일부러 B급으로 간거 아닌가jQuery22405006803506342408_1521910734909? 등장인물들도 대사도 불랙코미디 같은 느낌을 지울 수 없었는데?? 만약 진지하게 만든거라면 미안행.. ㅋㅋㅋㅋ 고질라 나올때마다 개 웃었네...ㅋㅋ  ',\n",
       " 'ㅋㅋ어이가 없어서 말도 안나옴 두시간 동안 과제를 했겠다.  ',\n",
       " '이제 핵은 일본이든 북한이든 이란이든 더이상 발사되거나 폭격되거나 하면 안되는건 맞음.. 끔찍한 무차별적 살육과 말도 안되는 엄청난 사상자 등을 생각해서라도 더이상의 핵은 발사되면 안됨.. 단지 일본정부 입장을 조금 더 뺀 영화라면 더 좋았을듯..  ',\n",
       " '애니보세요 이건 아닌듯  ',\n",
       " '고질라 눈좀 감겨줘 닭같잖아  ',\n",
       " '고질라로 갈려면 고질라 자체로 가야지..  정치, 이념, 평화등등 다 잡아넣어서 만들려고 보니 영화가 지루하다.  ',\n",
       " \"어찌보면 블랙 코미디. 일본 정치와 사회를 속도감있게 '설명'한다. 이시하라 사토미의 연기와 그녀가 연기한 캐릭터만 없었어도 더 좋았을 작품.  \",\n",
       " '파괴는 진화의 시작이다!!!  ',\n",
       " '유치찬란 개그와 CG, 적절한 풍자와 전개  ',\n",
       " '인간측에게는 신파없는 버프를, 고지라에겐 진화의 버프를  ',\n",
       " '에바없는 에반게리온~~~  ',\n",
       " ' 신고질라 계속 진하하면 상상도 못할듯  ',\n",
       " 'SF적인 요소보다 재난에 대응하는 일본정부의 모습등이 생각보다 사실적이고 현실적이라 나쁘지 않음.  ',\n",
       " '아무리 좋게 봐줄래도 그래픽이.. 2000년대 초반의 수준임..  ',\n",
       " '박진감이 없어요...ㅠㅠ 내용은 보면 이해는 하는데...몰입이 안되서 아쉬웠던 영화  ',\n",
       " '고질라 를 너무좋아서 ☆10개!!  ',\n",
       " '대사는아웃사이더마냥 졸라빨라서 일본현지인들도 못알아먹을거같고 말끝마다 오글거리는 어투에 그래픽예전에만든 아바타 발톱 때만큼도 안되고 도쿄에 핵쏜다니까 전쟁때 핵 맞은거가지고 피해자 행세 보는내내 기분더러웠고 쓸데없는정치질이야기에 없었던몰입감 더없어짐  ',\n",
       " '아 왜 최신작 신고질라가 전작 14년작 보다 cg가 엉망인가 했더니 전작은 할리우드작품이었구나.. 일본 cg기술은 하.. 도대체 언제 발전하려나  ',\n",
       " '씬으로  등장인물 성격이 파악되는게 아니라 등장인물설정과 환경을 자막으로 가르쳐준 직급과 이름의사람이 줄줄 읽어줌 ㅡㅡ이럴거면 그냥 소설을 팔던가 기본적으로 영화라는 영역을 모르는 감독이 소설의 지문까지 대사로 만들어 케릭터들이 읊조리곤 영화 함  ',\n",
       " '평론가처럼 볼거면 봐도 무방하지만 일반 관객처럼 볼거면 시간이 아깝다  ',\n",
       " '고질라의 명예를 더럽혔어  ',\n",
       " ' 전체적으로 정말 신선했다. 새로운느낌을 원하는 관객들에게 강략추천한다. 개인적으론 cg도 괜찮았고 국내외 정치상황을 그렇게까지 디테일하게 묘사할 수 있다는 게 정말 놀라웠다. (오글거리는 멘트..는 살짝 감수해주자.)  ',\n",
       " '재밌게봤습니다. 고전풍이 너무나 좋았읍니다.  ',\n",
       " '아 몰랑 난 재밌게 봤으니까 된거야  ',\n",
       " '전투씬은 잘만들었던대.. 무기사용이나 그런것들 폭탄 터지는소리랑 건물 부수고 그런건 수준급임 고질라 아는분들은 이영화 cg가지고 욕안할듯 잘만듬  ',\n",
       " '일본영화답지 않게 스케일 크고 다때려부수는 장면은 꽤 볼만함  영화의 약 70%를 차지하고있는 입터는장면을 줄이고 장난같은 고질라모습만 아님 더 괜찮았을텐데 ㅉㅉ  ',\n",
       " '빵 터지게 한번은 웃을 수 있다. 음악이 추억 돋게 좋았다. 다음 편을 예고하듯 끝나서 더 좋다.  ',\n",
       " '그럭저럭 볼만함....고질라 이름값은 함...  ',\n",
       " '고질라 본체는 CG인지 분장인지도 모를정도로 너무 허접하지만 나머지 CG는 괜찮다. 일본 국뽕기도 좀 있다. 그래도 괴수 재난영화 좋아한다면 볼만하다.  ',\n",
       " '초중반부 고질라 내용은 좋은데 자위대 장군복 욱일기에 2차대전 원폭피해자내용 잠깐 나오는거 보고 실소가나옴  ',\n",
       " '생각보다 훨 괜찮음. 완급조절이나 각료주의, 계급사회의 묘사가 재밌게 되어 있고, 재난물로서의 면모도 지금까지의 일본 영화 특수효과 생각하며 괜찮다... 근데 핵폭탄 얘기나올 때 감성팔이하지 마라 OO들아. 이시하라 사토미 덕분에 참고 넘겼다.  ',\n",
       " '신 고질라같은거 만들지말고 원전 냉각수나 빨리 멈춰서 방사능이나 빨리 막으라고 아나 씨 펄 아니면 폴아웃5 후쿠시마 내놓던가 ㅉㅉ  ',\n",
       " '과유불급 너무 많은걸 보여주려했다 결국 의도는 한가진데 그곳으로 향하는 과정에서 가지들이 너무 많았음  ',\n",
       " '일본 싫고 좋음을 떠나서 아직까진 그래픽이 허술하다고질라와 인간과의 멋진 액션같은건 없고 그냥 빛만 날뿐..  ',\n",
       " '연출의 의도는 알겠으나. 기본적으로, 너무 나불대고 대사가 많아. 오리지날의 오마쥬에 너무 치우치느라 오히려 옛날 영화보다 재미없어짐.  ',\n",
       " '일본의 관료주의를 잘 나타내고 있음. 액션도 기대 이상으로 잘 만든듯. 실험적인 연출도 돋보이지만 이시하라 사토미 캐릭만..  ',\n",
       " '괴수 특촬 영화의 탈을 쓴 정치 드라마, 속칭 안노빔 이라 불리는 버스터빔의 고지라 버전은 예술, 미니멀한 마무리도 굳  ',\n",
       " '고전 특촬느낌을 살린 상태에서 아주 재밌게 잘만들었다  ',\n",
       " '일본의 많은 배우들이 다양하게 등장해서 대사 보는 맛에 더 재밌었음. 특히 인형 같은 고질라 넘어 뜨리고 기중기 소대가 시멘트 붓는 주입구로 고질라 입에 약물 주입하는데 고질라가 광선 휘갈기고 기중기들 입에 문채로 일어설 때 레알 장난감들인 줄ㅋㅋㅋㅋ  ',\n",
       " '괴수가 때려 부수는 재난영화 기대했다면 실망할 것. 이 영화는 인간들을 봐야 한다.  ',\n",
       " '지루한 스토리. 80년대 CG, 에반게리온 BGM... 구고질라... 어르신들의 향수 자극 영화인가...  ',\n",
       " '괴수영화라기보다는 재난영화로서 잘 만든영화다. 실제로 일어날수있겠다는 생각이 듬. 헐리우드같은 CG가 아니라 현실감있는 영상이라 더 좋았음.  ',\n",
       " '영화는  한국이 100배 낫다  ',\n",
       " \"'고질라'의 영화라기보다는, 고질라를 수단으로 한 재난영화에 더 가까운. 어두운 밤에 포효하며 도시를 불사르는 장면은 꽤 명장면이다.  \",\n",
       " '난 재미있게 봤음. 고질라가 파란 불빛 뿜으며 공격할때 난 왜 슬픔이 느껴졌을까.  ',\n",
       " '예상외로 재밌다.고질라가 더 포스 있었으면 했지만 풍자영화, 괴수 영화로도 훌륭했다  ',\n",
       " '무슨 30년전 영화보는듯..얘네 영화기술이 이것밖에안되??  ',\n",
       " '어휴. 2017년 개봉에 고질라 흐물흐물 거리는거 보소! 스토리고 나발이고 고질라가 대놓고 인형이다. 쯧쯧  ',\n",
       " '아무 생각없이 보기 좋은 영화 일본 특유의 장치들이 재미있음  ',\n",
       " '미국판 리얼계 괴수영화와는 다른, 일본판 특촬물 특유의 분위기가 세련되게 살아있어서 좋았다. 매 장면장면이 장관. 미국 괴수영화처럼 괴수 대 주인공 1:1구도가 아니라 괴수대 나라라는 총체적 구도여서 신선. 현실적이고 사회파적인 명작 신 괴수영화  ',\n",
       " '0점 없나요101010  ',\n",
       " '생각보다 재미있었음. 블랙코미디에 쓸데없는 신파나 로맨스없는 빠른 전개. 미국특사는 좀 에러 ㅋ  ']"
      ]
     },
     "execution_count": 56,
     "metadata": {},
     "output_type": "execute_result"
    }
   ],
   "source": [
    "reviews"
   ]
  },
  {
   "cell_type": "code",
   "execution_count": 60,
   "metadata": {
    "collapsed": false
   },
   "outputs": [
    {
     "data": {
      "text/plain": [
       "290"
      ]
     },
     "execution_count": 60,
     "metadata": {},
     "output_type": "execute_result"
    }
   ],
   "source": [
    "len(scores)"
   ]
  },
  {
   "cell_type": "code",
   "execution_count": 59,
   "metadata": {
    "collapsed": false
   },
   "outputs": [
    {
     "data": {
      "text/plain": [
       "['6',\n",
       " '10',\n",
       " '1',\n",
       " '1',\n",
       " '1',\n",
       " '3',\n",
       " '1',\n",
       " '3',\n",
       " '1',\n",
       " '1',\n",
       " '1',\n",
       " '1',\n",
       " '8',\n",
       " '10',\n",
       " '6',\n",
       " '1',\n",
       " '1',\n",
       " '3',\n",
       " '9',\n",
       " '9',\n",
       " '4',\n",
       " '7',\n",
       " '9',\n",
       " '7',\n",
       " '10',\n",
       " '8',\n",
       " '5',\n",
       " '3',\n",
       " '7',\n",
       " '9',\n",
       " '6',\n",
       " '5',\n",
       " '6',\n",
       " '8',\n",
       " '9',\n",
       " '1',\n",
       " '2',\n",
       " '1',\n",
       " '1',\n",
       " '1',\n",
       " '1',\n",
       " '2',\n",
       " '1',\n",
       " '9',\n",
       " '7',\n",
       " '4',\n",
       " '5',\n",
       " '1',\n",
       " '1',\n",
       " '1',\n",
       " '1',\n",
       " '7',\n",
       " '10',\n",
       " '5',\n",
       " '5',\n",
       " '8',\n",
       " '8',\n",
       " '1',\n",
       " '1',\n",
       " '1',\n",
       " '1',\n",
       " '8',\n",
       " '7',\n",
       " '8',\n",
       " '10',\n",
       " '10',\n",
       " '10',\n",
       " '9',\n",
       " '10',\n",
       " '7',\n",
       " '1',\n",
       " '2',\n",
       " '5',\n",
       " '1',\n",
       " '6',\n",
       " '1',\n",
       " '3',\n",
       " '1',\n",
       " '5',\n",
       " '7',\n",
       " '6',\n",
       " '1',\n",
       " '1',\n",
       " '5',\n",
       " '1',\n",
       " '2',\n",
       " '1',\n",
       " '1',\n",
       " '3',\n",
       " '4',\n",
       " '1',\n",
       " '1',\n",
       " '8',\n",
       " '10',\n",
       " '7',\n",
       " '1',\n",
       " '1',\n",
       " '3',\n",
       " '1',\n",
       " '5',\n",
       " '8',\n",
       " '6',\n",
       " '3',\n",
       " '7',\n",
       " '3',\n",
       " '3',\n",
       " '6',\n",
       " '2',\n",
       " '6',\n",
       " '5',\n",
       " '1',\n",
       " '5',\n",
       " '8',\n",
       " '1',\n",
       " '5',\n",
       " '3',\n",
       " '6',\n",
       " '2',\n",
       " '5',\n",
       " '4',\n",
       " '2',\n",
       " '1',\n",
       " '10',\n",
       " '2',\n",
       " '1',\n",
       " '7',\n",
       " '7',\n",
       " '10',\n",
       " '8',\n",
       " '1',\n",
       " '1',\n",
       " '6',\n",
       " '1',\n",
       " '10',\n",
       " '10',\n",
       " '8',\n",
       " '1',\n",
       " '10',\n",
       " '10',\n",
       " '10',\n",
       " '10',\n",
       " '1',\n",
       " '10',\n",
       " '1',\n",
       " '1',\n",
       " '9',\n",
       " '9',\n",
       " '10',\n",
       " '8',\n",
       " '1',\n",
       " '10',\n",
       " '10',\n",
       " '9',\n",
       " '10',\n",
       " '10',\n",
       " '5',\n",
       " '1',\n",
       " '7',\n",
       " '5',\n",
       " '1',\n",
       " '5',\n",
       " '1',\n",
       " '3',\n",
       " '3',\n",
       " '10',\n",
       " '4',\n",
       " '8',\n",
       " '6',\n",
       " '1',\n",
       " '1',\n",
       " '5',\n",
       " '3',\n",
       " '5',\n",
       " '4',\n",
       " '5',\n",
       " '6',\n",
       " '1',\n",
       " '1',\n",
       " '1',\n",
       " '1',\n",
       " '1',\n",
       " '1',\n",
       " '1',\n",
       " '1',\n",
       " '10',\n",
       " '1',\n",
       " '1',\n",
       " '1',\n",
       " '1',\n",
       " '1',\n",
       " '6',\n",
       " '8',\n",
       " '7',\n",
       " '1',\n",
       " '8',\n",
       " '7',\n",
       " '1',\n",
       " '1',\n",
       " '1',\n",
       " '1',\n",
       " '8',\n",
       " '1',\n",
       " '8',\n",
       " '10',\n",
       " '10',\n",
       " '10',\n",
       " '10',\n",
       " '10',\n",
       " '2',\n",
       " '10',\n",
       " '7',\n",
       " '10',\n",
       " '1',\n",
       " '1',\n",
       " '2',\n",
       " '10',\n",
       " '1',\n",
       " '1',\n",
       " '1',\n",
       " '1',\n",
       " '10',\n",
       " '1',\n",
       " '1',\n",
       " '1',\n",
       " '1',\n",
       " '10',\n",
       " '8',\n",
       " '10',\n",
       " '2',\n",
       " '1',\n",
       " '10',\n",
       " '7',\n",
       " '4',\n",
       " '10',\n",
       " '8',\n",
       " '1',\n",
       " '8',\n",
       " '1',\n",
       " '8',\n",
       " '1',\n",
       " '8',\n",
       " '1',\n",
       " '1',\n",
       " '4',\n",
       " '5',\n",
       " '10',\n",
       " '6',\n",
       " '7',\n",
       " '6',\n",
       " '10',\n",
       " '6',\n",
       " '4',\n",
       " '6',\n",
       " '10',\n",
       " '1',\n",
       " '5',\n",
       " '1',\n",
       " '3',\n",
       " '2',\n",
       " '9',\n",
       " '10',\n",
       " '10',\n",
       " '8',\n",
       " '5',\n",
       " '10',\n",
       " '4',\n",
       " '7',\n",
       " '6',\n",
       " '8',\n",
       " '3',\n",
       " '6',\n",
       " '5',\n",
       " '3',\n",
       " '9',\n",
       " '9',\n",
       " '10',\n",
       " '7',\n",
       " '8',\n",
       " '6',\n",
       " '10',\n",
       " '2',\n",
       " '7',\n",
       " '10',\n",
       " '9',\n",
       " '1',\n",
       " '1',\n",
       " '10',\n",
       " '10',\n",
       " '1',\n",
       " '7']"
      ]
     },
     "execution_count": 59,
     "metadata": {},
     "output_type": "execute_result"
    }
   ],
   "source": [
    "scores"
   ]
  },
  {
   "cell_type": "code",
   "execution_count": 61,
   "metadata": {
    "collapsed": true
   },
   "outputs": [],
   "source": [
    "import pandas\n",
    "df = pandas.DataFrame({'score': scores, 'review': reviews})"
   ]
  },
  {
   "cell_type": "code",
   "execution_count": 62,
   "metadata": {
    "collapsed": true
   },
   "outputs": [],
   "source": [
    "df.to_csv('movie_review.csv', encoding='utf8', index=False)"
   ]
  },
  {
   "cell_type": "code",
   "execution_count": 68,
   "metadata": {
    "collapsed": false
   },
   "outputs": [],
   "source": [
    "import pandas\n",
    "df = pandas.read_csv('movie_review.csv', encoding='utf8') "
   ]
  },
  {
   "cell_type": "code",
   "execution_count": 69,
   "metadata": {
    "collapsed": false
   },
   "outputs": [
    {
     "data": {
      "text/html": [
       "<div>\n",
       "<style scoped>\n",
       "    .dataframe tbody tr th:only-of-type {\n",
       "        vertical-align: middle;\n",
       "    }\n",
       "\n",
       "    .dataframe tbody tr th {\n",
       "        vertical-align: top;\n",
       "    }\n",
       "\n",
       "    .dataframe thead th {\n",
       "        text-align: right;\n",
       "    }\n",
       "</style>\n",
       "<table border=\"1\" class=\"dataframe\">\n",
       "  <thead>\n",
       "    <tr style=\"text-align: right;\">\n",
       "      <th></th>\n",
       "      <th>review</th>\n",
       "      <th>score</th>\n",
       "    </tr>\n",
       "  </thead>\n",
       "  <tbody>\n",
       "    <tr>\n",
       "      <th>0</th>\n",
       "      <td>영화는 괜찮음 생각보다. 근데 얘네는 왜 핵얘기 나올때마다 지들이 진주만 공격한건 ...</td>\n",
       "      <td>6</td>\n",
       "    </tr>\n",
       "    <tr>\n",
       "      <th>1</th>\n",
       "      <td>관람객이시하라 사토미 예쁘다</td>\n",
       "      <td>10</td>\n",
       "    </tr>\n",
       "    <tr>\n",
       "      <th>2</th>\n",
       "      <td>이래서 일본은 애니를 보나보다.</td>\n",
       "      <td>1</td>\n",
       "    </tr>\n",
       "    <tr>\n",
       "      <th>3</th>\n",
       "      <td>야 진짜 무슨 구연동화냐 겁나 허접한게 느껴짐</td>\n",
       "      <td>1</td>\n",
       "    </tr>\n",
       "    <tr>\n",
       "      <th>4</th>\n",
       "      <td>뭐? 인도를 위한 왕국정치??? 니들이 시작한 전쟁은?어떻게 보면 일뽕 영홥니다</td>\n",
       "      <td>1</td>\n",
       "    </tr>\n",
       "  </tbody>\n",
       "</table>\n",
       "</div>"
      ],
      "text/plain": [
       "                                              review  score\n",
       "0  영화는 괜찮음 생각보다. 근데 얘네는 왜 핵얘기 나올때마다 지들이 진주만 공격한건 ...      6\n",
       "1                                  관람객이시하라 사토미 예쁘다       10\n",
       "2                                이래서 일본은 애니를 보나보다.        1\n",
       "3                        야 진짜 무슨 구연동화냐 겁나 허접한게 느껴짐        1\n",
       "4     뭐? 인도를 위한 왕국정치??? 니들이 시작한 전쟁은?어떻게 보면 일뽕 영홥니다        1"
      ]
     },
     "execution_count": 69,
     "metadata": {},
     "output_type": "execute_result"
    }
   ],
   "source": [
    "df.head()"
   ]
  },
  {
   "cell_type": "code",
   "execution_count": 67,
   "metadata": {
    "collapsed": false
   },
   "outputs": [
    {
     "data": {
      "text/html": [
       "<div>\n",
       "<style scoped>\n",
       "    .dataframe tbody tr th:only-of-type {\n",
       "        vertical-align: middle;\n",
       "    }\n",
       "\n",
       "    .dataframe tbody tr th {\n",
       "        vertical-align: top;\n",
       "    }\n",
       "\n",
       "    .dataframe thead th {\n",
       "        text-align: right;\n",
       "    }\n",
       "</style>\n",
       "<table border=\"1\" class=\"dataframe\">\n",
       "  <thead>\n",
       "    <tr style=\"text-align: right;\">\n",
       "      <th></th>\n",
       "      <th>review</th>\n",
       "      <th>score</th>\n",
       "    </tr>\n",
       "  </thead>\n",
       "  <tbody>\n",
       "    <tr>\n",
       "      <th>0</th>\n",
       "      <td>영화는 괜찮음 생각보다. 근데 얘네는 왜 핵얘기 나올때마다 지들이 진주만 공격한건 ...</td>\n",
       "      <td>6</td>\n",
       "    </tr>\n",
       "    <tr>\n",
       "      <th>1</th>\n",
       "      <td>관람객이시하라 사토미 예쁘다</td>\n",
       "      <td>10</td>\n",
       "    </tr>\n",
       "    <tr>\n",
       "      <th>2</th>\n",
       "      <td>이래서 일본은 애니를 보나보다.</td>\n",
       "      <td>1</td>\n",
       "    </tr>\n",
       "    <tr>\n",
       "      <th>3</th>\n",
       "      <td>야 진짜 무슨 구연동화냐 겁나 허접한게 느껴짐</td>\n",
       "      <td>1</td>\n",
       "    </tr>\n",
       "    <tr>\n",
       "      <th>4</th>\n",
       "      <td>뭐? 인도를 위한 왕국정치??? 니들이 시작한 전쟁은?어떻게 보면 일뽕 영홥니다</td>\n",
       "      <td>1</td>\n",
       "    </tr>\n",
       "    <tr>\n",
       "      <th>5</th>\n",
       "      <td>호불호 소리는 많이 들었지만 난 불호다. 고질라가 때려부수는거 보러갔더니 일본애들이...</td>\n",
       "      <td>3</td>\n",
       "    </tr>\n",
       "    <tr>\n",
       "      <th>6</th>\n",
       "      <td>정체불명의 괴수 !! 그것을 담은 정체불명의 영화 !!</td>\n",
       "      <td>1</td>\n",
       "    </tr>\n",
       "    <tr>\n",
       "      <th>7</th>\n",
       "      <td>CG가 부족한건 어쩔수 없다.지만 지루한건 못참겠다. 정치풍자극으로 갈꺼면 고질라는...</td>\n",
       "      <td>3</td>\n",
       "    </tr>\n",
       "    <tr>\n",
       "      <th>8</th>\n",
       "      <td>일본특유의 오글거리는 연기를 견디지 못하면 관람을 포기해야할지도 모름</td>\n",
       "      <td>1</td>\n",
       "    </tr>\n",
       "    <tr>\n",
       "      <th>9</th>\n",
       "      <td>덕후에의한 덕후만을 위한.. 일반인은 눈이썩음</td>\n",
       "      <td>1</td>\n",
       "    </tr>\n",
       "    <tr>\n",
       "      <th>10</th>\n",
       "      <td>이걸 2시간 가까이 본 내가 대단해서 ..</td>\n",
       "      <td>1</td>\n",
       "    </tr>\n",
       "    <tr>\n",
       "      <th>11</th>\n",
       "      <td>일본 덕후들의 감성평점  !!  존중합니다!</td>\n",
       "      <td>1</td>\n",
       "    </tr>\n",
       "    <tr>\n",
       "      <th>12</th>\n",
       "      <td>양심상으로 cg론 못까내리겠다.   내용면에서는 국가재난시스템 구조를 잘 알 수 있...</td>\n",
       "      <td>8</td>\n",
       "    </tr>\n",
       "    <tr>\n",
       "      <th>13</th>\n",
       "      <td>정치풍자극같은 느낌의 재해영화로서는 충분한 수작.고전적인 괴수영화로서도 수작.퍼시픽...</td>\n",
       "      <td>10</td>\n",
       "    </tr>\n",
       "    <tr>\n",
       "      <th>14</th>\n",
       "      <td>고질라 음독살해 ㅋㅋㅋ</td>\n",
       "      <td>6</td>\n",
       "    </tr>\n",
       "    <tr>\n",
       "      <th>15</th>\n",
       "      <td>이게 재밌다는 사람들은 매니아들인가? 일반인은 전혀 공감이 안됀다.</td>\n",
       "      <td>1</td>\n",
       "    </tr>\n",
       "    <tr>\n",
       "      <th>16</th>\n",
       "      <td>평점을 후하게 준 자들의 닉네임을 보면 그 이유를 알 수 있다</td>\n",
       "      <td>1</td>\n",
       "    </tr>\n",
       "    <tr>\n",
       "      <th>17</th>\n",
       "      <td>저렇게 팔이 짧은 진화라면 자살하겠다</td>\n",
       "      <td>3</td>\n",
       "    </tr>\n",
       "    <tr>\n",
       "      <th>18</th>\n",
       "      <td>제작비 빵빵한 헐리웃영화들에 비해 cg가 딸리는 건 어쩔 수 없다.2014 고질라 ...</td>\n",
       "      <td>9</td>\n",
       "    </tr>\n",
       "    <tr>\n",
       "      <th>19</th>\n",
       "      <td>영화는 호불호가 갈릴 수 있는데... 댓글에 에바 드립은 좀 그만 보고 싶다. 만들...</td>\n",
       "      <td>9</td>\n",
       "    </tr>\n",
       "    <tr>\n",
       "      <th>20</th>\n",
       "      <td>미국이 고질라 때문에 도쿄에 핵투하 할려고 하니까 일본이 모든 방법을 동원해서 고질...</td>\n",
       "      <td>4</td>\n",
       "    </tr>\n",
       "    <tr>\n",
       "      <th>21</th>\n",
       "      <td>이거 보니까 일부러 허접하게 만든듯 원작 고질라를 추억하면서 만든 영화인듯하다 원작...</td>\n",
       "      <td>7</td>\n",
       "    </tr>\n",
       "    <tr>\n",
       "      <th>22</th>\n",
       "      <td>관람객괴수영화이지만 재난영화에 더 가까움. 일본 정치계의 관료주의적인 면의 장단점이...</td>\n",
       "      <td>9</td>\n",
       "    </tr>\n",
       "    <tr>\n",
       "      <th>23</th>\n",
       "      <td>관람객일본 괴수물의 전통을 잇는 작품이지만 그렇기 때문에 한국에서 대중적인 인기를 ...</td>\n",
       "      <td>7</td>\n",
       "    </tr>\n",
       "    <tr>\n",
       "      <th>24</th>\n",
       "      <td>고질라 중간에 노래나오면서 빔쏘는 장면에서 눈물나옴 뭔가 애달프고 멋짐</td>\n",
       "      <td>10</td>\n",
       "    </tr>\n",
       "    <tr>\n",
       "      <th>25</th>\n",
       "      <td>관람객이렇게까지 저평가받을 영화는 아님</td>\n",
       "      <td>8</td>\n",
       "    </tr>\n",
       "    <tr>\n",
       "      <th>26</th>\n",
       "      <td>딱 안노 히데야키가 만든 일본인 + 덕후용 영화. 안도로이드 재판</td>\n",
       "      <td>5</td>\n",
       "    </tr>\n",
       "    <tr>\n",
       "      <th>27</th>\n",
       "      <td>괴수의 눈이 동태눈X 같습니다. 이렇게 솔직한 괴수 영화는 처음인듯...</td>\n",
       "      <td>3</td>\n",
       "    </tr>\n",
       "    <tr>\n",
       "      <th>28</th>\n",
       "      <td>관람객괴수영화를 빙자한 일본사회의 비판과 해결방식을 나타낸 영화, 괴수가 뚜들겨 부...</td>\n",
       "      <td>7</td>\n",
       "    </tr>\n",
       "    <tr>\n",
       "      <th>29</th>\n",
       "      <td>관람객훌륭한 정치 풍자극. 기대 이상이었다.</td>\n",
       "      <td>9</td>\n",
       "    </tr>\n",
       "    <tr>\n",
       "      <th>...</th>\n",
       "      <td>...</td>\n",
       "      <td>...</td>\n",
       "    </tr>\n",
       "    <tr>\n",
       "      <th>260</th>\n",
       "      <td>재밌게봤습니다. 고전풍이 너무나 좋았읍니다.</td>\n",
       "      <td>10</td>\n",
       "    </tr>\n",
       "    <tr>\n",
       "      <th>261</th>\n",
       "      <td>아 몰랑 난 재밌게 봤으니까 된거야</td>\n",
       "      <td>10</td>\n",
       "    </tr>\n",
       "    <tr>\n",
       "      <th>262</th>\n",
       "      <td>전투씬은 잘만들었던대.. 무기사용이나 그런것들 폭탄 터지는소리랑 건물 부수고 그런건...</td>\n",
       "      <td>8</td>\n",
       "    </tr>\n",
       "    <tr>\n",
       "      <th>263</th>\n",
       "      <td>일본영화답지 않게 스케일 크고 다때려부수는 장면은 꽤 볼만함  영화의 약 70%를 ...</td>\n",
       "      <td>5</td>\n",
       "    </tr>\n",
       "    <tr>\n",
       "      <th>264</th>\n",
       "      <td>빵 터지게 한번은 웃을 수 있다. 음악이 추억 돋게 좋았다. 다음 편을 예고하듯 끝...</td>\n",
       "      <td>10</td>\n",
       "    </tr>\n",
       "    <tr>\n",
       "      <th>265</th>\n",
       "      <td>그럭저럭 볼만함....고질라 이름값은 함...</td>\n",
       "      <td>4</td>\n",
       "    </tr>\n",
       "    <tr>\n",
       "      <th>266</th>\n",
       "      <td>고질라 본체는 CG인지 분장인지도 모를정도로 너무 허접하지만 나머지 CG는 괜찮다....</td>\n",
       "      <td>7</td>\n",
       "    </tr>\n",
       "    <tr>\n",
       "      <th>267</th>\n",
       "      <td>초중반부 고질라 내용은 좋은데 자위대 장군복 욱일기에 2차대전 원폭피해자내용 잠깐 ...</td>\n",
       "      <td>6</td>\n",
       "    </tr>\n",
       "    <tr>\n",
       "      <th>268</th>\n",
       "      <td>생각보다 훨 괜찮음. 완급조절이나 각료주의, 계급사회의 묘사가 재밌게 되어 있고, ...</td>\n",
       "      <td>8</td>\n",
       "    </tr>\n",
       "    <tr>\n",
       "      <th>269</th>\n",
       "      <td>신 고질라같은거 만들지말고 원전 냉각수나 빨리 멈춰서 방사능이나 빨리 막으라고 아나...</td>\n",
       "      <td>3</td>\n",
       "    </tr>\n",
       "    <tr>\n",
       "      <th>270</th>\n",
       "      <td>과유불급 너무 많은걸 보여주려했다 결국 의도는 한가진데 그곳으로 향하는 과정에서 가...</td>\n",
       "      <td>6</td>\n",
       "    </tr>\n",
       "    <tr>\n",
       "      <th>271</th>\n",
       "      <td>일본 싫고 좋음을 떠나서 아직까진 그래픽이 허술하다고질라와 인간과의 멋진 액션같은건...</td>\n",
       "      <td>5</td>\n",
       "    </tr>\n",
       "    <tr>\n",
       "      <th>272</th>\n",
       "      <td>연출의 의도는 알겠으나. 기본적으로, 너무 나불대고 대사가 많아. 오리지날의 오마쥬...</td>\n",
       "      <td>3</td>\n",
       "    </tr>\n",
       "    <tr>\n",
       "      <th>273</th>\n",
       "      <td>일본의 관료주의를 잘 나타내고 있음. 액션도 기대 이상으로 잘 만든듯. 실험적인 연...</td>\n",
       "      <td>9</td>\n",
       "    </tr>\n",
       "    <tr>\n",
       "      <th>274</th>\n",
       "      <td>괴수 특촬 영화의 탈을 쓴 정치 드라마, 속칭 안노빔 이라 불리는 버스터빔의 고지라...</td>\n",
       "      <td>9</td>\n",
       "    </tr>\n",
       "    <tr>\n",
       "      <th>275</th>\n",
       "      <td>고전 특촬느낌을 살린 상태에서 아주 재밌게 잘만들었다</td>\n",
       "      <td>10</td>\n",
       "    </tr>\n",
       "    <tr>\n",
       "      <th>276</th>\n",
       "      <td>일본의 많은 배우들이 다양하게 등장해서 대사 보는 맛에 더 재밌었음. 특히 인형 같...</td>\n",
       "      <td>7</td>\n",
       "    </tr>\n",
       "    <tr>\n",
       "      <th>277</th>\n",
       "      <td>괴수가 때려 부수는 재난영화 기대했다면 실망할 것. 이 영화는 인간들을 봐야 한다.</td>\n",
       "      <td>8</td>\n",
       "    </tr>\n",
       "    <tr>\n",
       "      <th>278</th>\n",
       "      <td>지루한 스토리. 80년대 CG, 에반게리온 BGM... 구고질라... 어르신들의 향...</td>\n",
       "      <td>6</td>\n",
       "    </tr>\n",
       "    <tr>\n",
       "      <th>279</th>\n",
       "      <td>괴수영화라기보다는 재난영화로서 잘 만든영화다. 실제로 일어날수있겠다는 생각이 듬. ...</td>\n",
       "      <td>10</td>\n",
       "    </tr>\n",
       "    <tr>\n",
       "      <th>280</th>\n",
       "      <td>영화는  한국이 100배 낫다</td>\n",
       "      <td>2</td>\n",
       "    </tr>\n",
       "    <tr>\n",
       "      <th>281</th>\n",
       "      <td>'고질라'의 영화라기보다는, 고질라를 수단으로 한 재난영화에 더 가까운. 어두운 밤...</td>\n",
       "      <td>7</td>\n",
       "    </tr>\n",
       "    <tr>\n",
       "      <th>282</th>\n",
       "      <td>난 재미있게 봤음. 고질라가 파란 불빛 뿜으며 공격할때 난 왜 슬픔이 느껴졌을까.</td>\n",
       "      <td>10</td>\n",
       "    </tr>\n",
       "    <tr>\n",
       "      <th>283</th>\n",
       "      <td>예상외로 재밌다.고질라가 더 포스 있었으면 했지만 풍자영화, 괴수 영화로도 훌륭했다</td>\n",
       "      <td>9</td>\n",
       "    </tr>\n",
       "    <tr>\n",
       "      <th>284</th>\n",
       "      <td>무슨 30년전 영화보는듯..얘네 영화기술이 이것밖에안되??</td>\n",
       "      <td>1</td>\n",
       "    </tr>\n",
       "    <tr>\n",
       "      <th>285</th>\n",
       "      <td>어휴. 2017년 개봉에 고질라 흐물흐물 거리는거 보소! 스토리고 나발이고 고질라가...</td>\n",
       "      <td>1</td>\n",
       "    </tr>\n",
       "    <tr>\n",
       "      <th>286</th>\n",
       "      <td>아무 생각없이 보기 좋은 영화 일본 특유의 장치들이 재미있음</td>\n",
       "      <td>10</td>\n",
       "    </tr>\n",
       "    <tr>\n",
       "      <th>287</th>\n",
       "      <td>미국판 리얼계 괴수영화와는 다른, 일본판 특촬물 특유의 분위기가 세련되게 살아있어서...</td>\n",
       "      <td>10</td>\n",
       "    </tr>\n",
       "    <tr>\n",
       "      <th>288</th>\n",
       "      <td>0점 없나요101010</td>\n",
       "      <td>1</td>\n",
       "    </tr>\n",
       "    <tr>\n",
       "      <th>289</th>\n",
       "      <td>생각보다 재미있었음. 블랙코미디에 쓸데없는 신파나 로맨스없는 빠른 전개. 미국특사는...</td>\n",
       "      <td>7</td>\n",
       "    </tr>\n",
       "  </tbody>\n",
       "</table>\n",
       "<p>290 rows × 2 columns</p>\n",
       "</div>"
      ],
      "text/plain": [
       "                                                review  score\n",
       "0    영화는 괜찮음 생각보다. 근데 얘네는 왜 핵얘기 나올때마다 지들이 진주만 공격한건 ...      6\n",
       "1                                    관람객이시하라 사토미 예쁘다       10\n",
       "2                                  이래서 일본은 애니를 보나보다.        1\n",
       "3                          야 진짜 무슨 구연동화냐 겁나 허접한게 느껴짐        1\n",
       "4       뭐? 인도를 위한 왕국정치??? 니들이 시작한 전쟁은?어떻게 보면 일뽕 영홥니다        1\n",
       "5    호불호 소리는 많이 들었지만 난 불호다. 고질라가 때려부수는거 보러갔더니 일본애들이...      3\n",
       "6                     정체불명의 괴수 !! 그것을 담은 정체불명의 영화 !!        1\n",
       "7    CG가 부족한건 어쩔수 없다.지만 지루한건 못참겠다. 정치풍자극으로 갈꺼면 고질라는...      3\n",
       "8             일본특유의 오글거리는 연기를 견디지 못하면 관람을 포기해야할지도 모름        1\n",
       "9                          덕후에의한 덕후만을 위한.. 일반인은 눈이썩음        1\n",
       "10                           이걸 2시간 가까이 본 내가 대단해서 ..        1\n",
       "11                          일본 덕후들의 감성평점  !!  존중합니다!        1\n",
       "12   양심상으로 cg론 못까내리겠다.   내용면에서는 국가재난시스템 구조를 잘 알 수 있...      8\n",
       "13   정치풍자극같은 느낌의 재해영화로서는 충분한 수작.고전적인 괴수영화로서도 수작.퍼시픽...     10\n",
       "14                                      고질라 음독살해 ㅋㅋㅋ        6\n",
       "15             이게 재밌다는 사람들은 매니아들인가? 일반인은 전혀 공감이 안됀다.        1\n",
       "16                평점을 후하게 준 자들의 닉네임을 보면 그 이유를 알 수 있다        1\n",
       "17                              저렇게 팔이 짧은 진화라면 자살하겠다        3\n",
       "18   제작비 빵빵한 헐리웃영화들에 비해 cg가 딸리는 건 어쩔 수 없다.2014 고질라 ...      9\n",
       "19   영화는 호불호가 갈릴 수 있는데... 댓글에 에바 드립은 좀 그만 보고 싶다. 만들...      9\n",
       "20   미국이 고질라 때문에 도쿄에 핵투하 할려고 하니까 일본이 모든 방법을 동원해서 고질...      4\n",
       "21   이거 보니까 일부러 허접하게 만든듯 원작 고질라를 추억하면서 만든 영화인듯하다 원작...      7\n",
       "22   관람객괴수영화이지만 재난영화에 더 가까움. 일본 정치계의 관료주의적인 면의 장단점이...      9\n",
       "23   관람객일본 괴수물의 전통을 잇는 작품이지만 그렇기 때문에 한국에서 대중적인 인기를 ...      7\n",
       "24           고질라 중간에 노래나오면서 빔쏘는 장면에서 눈물나옴 뭔가 애달프고 멋짐       10\n",
       "25                             관람객이렇게까지 저평가받을 영화는 아님        8\n",
       "26              딱 안노 히데야키가 만든 일본인 + 덕후용 영화. 안도로이드 재판        5\n",
       "27          괴수의 눈이 동태눈X 같습니다. 이렇게 솔직한 괴수 영화는 처음인듯...        3\n",
       "28   관람객괴수영화를 빙자한 일본사회의 비판과 해결방식을 나타낸 영화, 괴수가 뚜들겨 부...      7\n",
       "29                          관람객훌륭한 정치 풍자극. 기대 이상이었다.        9\n",
       "..                                                 ...    ...\n",
       "260                         재밌게봤습니다. 고전풍이 너무나 좋았읍니다.       10\n",
       "261                              아 몰랑 난 재밌게 봤으니까 된거야       10\n",
       "262  전투씬은 잘만들었던대.. 무기사용이나 그런것들 폭탄 터지는소리랑 건물 부수고 그런건...      8\n",
       "263  일본영화답지 않게 스케일 크고 다때려부수는 장면은 꽤 볼만함  영화의 약 70%를 ...      5\n",
       "264  빵 터지게 한번은 웃을 수 있다. 음악이 추억 돋게 좋았다. 다음 편을 예고하듯 끝...     10\n",
       "265                        그럭저럭 볼만함....고질라 이름값은 함...        4\n",
       "266  고질라 본체는 CG인지 분장인지도 모를정도로 너무 허접하지만 나머지 CG는 괜찮다....      7\n",
       "267  초중반부 고질라 내용은 좋은데 자위대 장군복 욱일기에 2차대전 원폭피해자내용 잠깐 ...      6\n",
       "268  생각보다 훨 괜찮음. 완급조절이나 각료주의, 계급사회의 묘사가 재밌게 되어 있고, ...      8\n",
       "269  신 고질라같은거 만들지말고 원전 냉각수나 빨리 멈춰서 방사능이나 빨리 막으라고 아나...      3\n",
       "270  과유불급 너무 많은걸 보여주려했다 결국 의도는 한가진데 그곳으로 향하는 과정에서 가...      6\n",
       "271  일본 싫고 좋음을 떠나서 아직까진 그래픽이 허술하다고질라와 인간과의 멋진 액션같은건...      5\n",
       "272  연출의 의도는 알겠으나. 기본적으로, 너무 나불대고 대사가 많아. 오리지날의 오마쥬...      3\n",
       "273  일본의 관료주의를 잘 나타내고 있음. 액션도 기대 이상으로 잘 만든듯. 실험적인 연...      9\n",
       "274  괴수 특촬 영화의 탈을 쓴 정치 드라마, 속칭 안노빔 이라 불리는 버스터빔의 고지라...      9\n",
       "275                    고전 특촬느낌을 살린 상태에서 아주 재밌게 잘만들었다       10\n",
       "276  일본의 많은 배우들이 다양하게 등장해서 대사 보는 맛에 더 재밌었음. 특히 인형 같...      7\n",
       "277   괴수가 때려 부수는 재난영화 기대했다면 실망할 것. 이 영화는 인간들을 봐야 한다.        8\n",
       "278  지루한 스토리. 80년대 CG, 에반게리온 BGM... 구고질라... 어르신들의 향...      6\n",
       "279  괴수영화라기보다는 재난영화로서 잘 만든영화다. 실제로 일어날수있겠다는 생각이 듬. ...     10\n",
       "280                                 영화는  한국이 100배 낫다        2\n",
       "281  '고질라'의 영화라기보다는, 고질라를 수단으로 한 재난영화에 더 가까운. 어두운 밤...      7\n",
       "282    난 재미있게 봤음. 고질라가 파란 불빛 뿜으며 공격할때 난 왜 슬픔이 느껴졌을까.       10\n",
       "283   예상외로 재밌다.고질라가 더 포스 있었으면 했지만 풍자영화, 괴수 영화로도 훌륭했다        9\n",
       "284                 무슨 30년전 영화보는듯..얘네 영화기술이 이것밖에안되??        1\n",
       "285  어휴. 2017년 개봉에 고질라 흐물흐물 거리는거 보소! 스토리고 나발이고 고질라가...      1\n",
       "286                아무 생각없이 보기 좋은 영화 일본 특유의 장치들이 재미있음       10\n",
       "287  미국판 리얼계 괴수영화와는 다른, 일본판 특촬물 특유의 분위기가 세련되게 살아있어서...     10\n",
       "288                                     0점 없나요101010        1\n",
       "289  생각보다 재미있었음. 블랙코미디에 쓸데없는 신파나 로맨스없는 빠른 전개. 미국특사는...      7\n",
       "\n",
       "[290 rows x 2 columns]"
      ]
     },
     "execution_count": 67,
     "metadata": {},
     "output_type": "execute_result"
    }
   ],
   "source": [
    "df"
   ]
  },
  {
   "cell_type": "code",
   "execution_count": 66,
   "metadata": {
    "collapsed": true
   },
   "outputs": [],
   "source": [
    "from konlpy.tag import Komoran\n",
    "tag = Komoran()"
   ]
  },
  {
   "cell_type": "markdown",
   "metadata": {},
   "source": [
    "#### Windows"
   ]
  },
  {
   "cell_type": "code",
   "execution_count": null,
   "metadata": {
    "collapsed": true
   },
   "outputs": [],
   "source": [
    "# !pip install --ignore-installed --upgrade tensorflow"
   ]
  },
  {
   "cell_type": "markdown",
   "metadata": {},
   "source": [
    "#### Mac"
   ]
  },
  {
   "cell_type": "code",
   "execution_count": null,
   "metadata": {
    "collapsed": true
   },
   "outputs": [],
   "source": [
    "# !pip install tensorflow"
   ]
  },
  {
   "cell_type": "code",
   "execution_count": 70,
   "metadata": {
    "collapsed": false
   },
   "outputs": [
    {
     "data": {
      "text/plain": [
       "['한글']"
      ]
     },
     "execution_count": 70,
     "metadata": {},
     "output_type": "execute_result"
    }
   ],
   "source": [
    "tag.nouns('아름다운 우리 한글을 잘 씁시다')"
   ]
  },
  {
   "cell_type": "markdown",
   "metadata": {},
   "source": [
    "# TDM"
   ]
  },
  {
   "cell_type": "code",
   "execution_count": 71,
   "metadata": {
    "collapsed": true
   },
   "outputs": [],
   "source": [
    "from sklearn.feature_extraction.text import CountVectorizer\n",
    "\n",
    "def kor_noun(text): \n",
    "    words = []\n",
    "    for w in tag.nouns(text): \n",
    "        if len(w) > 1:\n",
    "            words.append(w) \n",
    "    return words\n",
    "\n",
    "cv = CountVectorizer(tokenizer=kor_noun, max_features=1000) \n",
    "tdm = cv.fit_transform(df['review'])"
   ]
  },
  {
   "cell_type": "markdown",
   "metadata": {},
   "source": [
    "# 학습 & 테스트\n"
   ]
  },
  {
   "cell_type": "code",
   "execution_count": 80,
   "metadata": {
    "collapsed": true
   },
   "outputs": [],
   "source": [
    "from sklearn.model_selection import train_test_split\n",
    "\n",
    "X_train, X_test, y_train, y_test = train_test_split(tdm, df['score'], test_size=.2, random_state =1234)"
   ]
  },
  {
   "cell_type": "markdown",
   "metadata": {},
   "source": [
    "# TDM 별점 예측"
   ]
  },
  {
   "cell_type": "code",
   "execution_count": 81,
   "metadata": {
    "collapsed": false
   },
   "outputs": [],
   "source": [
    "from sklearn.linear_model import ElasticNetCV\n",
    "\n",
    "model = ElasticNetCV()\n",
    "\n",
    "model.fit(X_train, y_train)\n",
    "ElasticNetCV(alphas=None, copy_X=True, cv=None, eps=0.001, fit_intercept=True, l1_ratio=0.5, max_iter=1000, n_alphas=100, n_jobs=1, normalize=False, positive=False, precompute='auto', random_state=None, selection='cyclic', tol=0.0001, verbose=0)\n",
    "\n",
    "y_pred = model.predict(X_test)"
   ]
  },
  {
   "cell_type": "code",
   "execution_count": 82,
   "metadata": {
    "collapsed": true
   },
   "outputs": [],
   "source": [
    "from sklearn.metrics import r2_score, mean_squared_error"
   ]
  },
  {
   "cell_type": "code",
   "execution_count": 83,
   "metadata": {
    "collapsed": false
   },
   "outputs": [
    {
     "data": {
      "text/plain": [
       "9.8165912257351255"
      ]
     },
     "execution_count": 83,
     "metadata": {},
     "output_type": "execute_result"
    }
   ],
   "source": [
    "mean_squared_error(y_test, y_pred)"
   ]
  },
  {
   "cell_type": "code",
   "execution_count": 84,
   "metadata": {
    "collapsed": false
   },
   "outputs": [
    {
     "data": {
      "text/plain": [
       "0.20033386082494764"
      ]
     },
     "execution_count": 84,
     "metadata": {},
     "output_type": "execute_result"
    }
   ],
   "source": [
    "r2_score(y_test, y_pred)"
   ]
  },
  {
   "cell_type": "markdown",
   "metadata": {},
   "source": [
    "# 긍부정 예측"
   ]
  },
  {
   "cell_type": "code",
   "execution_count": 85,
   "metadata": {
    "collapsed": false
   },
   "outputs": [
    {
     "data": {
      "text/plain": [
       "<matplotlib.axes._subplots.AxesSubplot at 0x73cf50c18>"
      ]
     },
     "execution_count": 85,
     "metadata": {},
     "output_type": "execute_result"
    },
    {
     "data": {
      "image/png": "[encoded data removed]",
      "text/plain": [
       "<matplotlib.figure.Figure at 0x7397da358>"
      ]
     },
     "metadata": {},
     "output_type": "display_data"
    }
   ],
   "source": [
    "%matplotlib inline\n",
    "df['score'].hist()"
   ]
  },
  {
   "cell_type": "code",
   "execution_count": 86,
   "metadata": {
    "collapsed": true
   },
   "outputs": [],
   "source": [
    "high_low = df['score'] > 5"
   ]
  },
  {
   "cell_type": "code",
   "execution_count": 87,
   "metadata": {
    "collapsed": true
   },
   "outputs": [],
   "source": [
    "X_train, X_test, y_train, y_test = train_test_split(tdm, high_low, test_size=.2, random_state =1234)"
   ]
  },
  {
   "cell_type": "code",
   "execution_count": 89,
   "metadata": {
    "collapsed": false
   },
   "outputs": [
    {
     "data": {
      "text/plain": [
       "LogisticRegressionCV(Cs=10, class_weight=None, cv=None, dual=False,\n",
       "           fit_intercept=True, intercept_scaling=1.0, max_iter=100,\n",
       "           multi_class='ovr', n_jobs=1, penalty='l2', random_state=None,\n",
       "           refit=True, scoring=None, solver='lbfgs', tol=0.0001, verbose=0)"
      ]
     },
     "execution_count": 89,
     "metadata": {},
     "output_type": "execute_result"
    }
   ],
   "source": [
    "from sklearn.linear_model import LogisticRegressionCV\n",
    "\n",
    "logreg = LogisticRegressionCV() \n",
    "logreg.fit(X_train, y_train)\n",
    "\n",
    "LogisticRegressionCV(Cs=10, class_weight=None, cv=None, dual=False, fit_intercept=True, intercept_scaling=1.0, max_iter=100, multi_class='ovr', n_jobs=1, penalty='l2', random_state=None, refit=True, scoring=None, solver='lbfgs', tol=0.0001, verbose=0)"
   ]
  },
  {
   "cell_type": "code",
   "execution_count": 90,
   "metadata": {
    "collapsed": true
   },
   "outputs": [],
   "source": [
    "y_pred = logreg.predict(X_test)"
   ]
  },
  {
   "cell_type": "code",
   "execution_count": 93,
   "metadata": {
    "collapsed": false
   },
   "outputs": [
    {
     "data": {
      "text/plain": [
       "0.72413793103448276"
      ]
     },
     "execution_count": 93,
     "metadata": {},
     "output_type": "execute_result"
    }
   ],
   "source": [
    "from sklearn.metrics import accuracy_score \n",
    "accuracy_score(y_test, y_pred)"
   ]
  },
  {
   "cell_type": "markdown",
   "metadata": {},
   "source": [
    "# 단어별 긍부정 확인"
   ]
  },
  {
   "cell_type": "code",
   "execution_count": 94,
   "metadata": {
    "collapsed": true
   },
   "outputs": [],
   "source": [
    "words = cv.get_feature_names()\n",
    "sent_dict = sorted(zip(logreg.coef_[0], words))"
   ]
  },
  {
   "cell_type": "code",
   "execution_count": 95,
   "metadata": {
    "collapsed": false
   },
   "outputs": [
    {
     "data": {
      "text/plain": [
       "[(-0.62468804313121751, '연기'),\n",
       " (-0.4642710339808177, '최악'),\n",
       " (-0.45261009974176614, '수준'),\n",
       " (-0.45106079383383174, '일본'),\n",
       " (-0.41325514529261898, '인형'),\n",
       " (-0.35268585992405677, '회의'),\n",
       " (-0.34810349283021291, '과거'),\n",
       " (-0.34588239388709313, '캐릭터'),\n",
       " (-0.34400415979899018, '실화'),\n",
       " (-0.32883126295076237, '시간')]"
      ]
     },
     "execution_count": 95,
     "metadata": {},
     "output_type": "execute_result"
    }
   ],
   "source": [
    "sent_dict[:10]"
   ]
  },
  {
   "cell_type": "code",
   "execution_count": 96,
   "metadata": {
    "collapsed": false
   },
   "outputs": [
    {
     "data": {
      "text/plain": [
       "[(0.36933709350828564, '고지라'),\n",
       " (0.38536991365991241, '전개'),\n",
       " (0.41474851336815194, '대응'),\n",
       " (0.4258647159878296, '최고'),\n",
       " (0.45875924644850385, '에반게리온'),\n",
       " (0.49716319805021175, '신파'),\n",
       " (0.60977471169191666, '괴수'),\n",
       " (0.63807079260031918, '재난영화'),\n",
       " (0.68481714557366624, '생각'),\n",
       " (0.94105615970076284, '관람객')]"
      ]
     },
     "execution_count": 96,
     "metadata": {},
     "output_type": "execute_result"
    }
   ],
   "source": [
    "sent_dict[-10:]"
   ]
  },
  {
   "cell_type": "markdown",
   "metadata": {},
   "source": [
    "## @ 강의 노트"
   ]
  },
  {
   "cell_type": "code",
   "execution_count": 9,
   "metadata": {
    "collapsed": false
   },
   "outputs": [],
   "source": [
    "url = 'https://movie.naver.com/movie/bi/mi/pointWriteFormList.nhn?code=150689&type=after&isActualPointWriteExecute=false&isMileageSubscriptionAlready=false&isMileageSubscriptionReject=false&page=5'"
   ]
  },
  {
   "cell_type": "code",
   "execution_count": 10,
   "metadata": {
    "collapsed": false
   },
   "outputs": [],
   "source": [
    "# 리뷰와 별점을 모을 빈 리스트를 만든다 \n",
    "reviews = []\n",
    "scores = []\n",
    "\n",
    "for page in range(1, 30): # 1~29페이지까지 반복\n",
    "    res = requests.get(url.format(page)) # 각 페이지에 접속한다 \n",
    "    root = lxml.html.fromstring(res.text) # html을 처리한다\n",
    "\n",
    "# 리뷰를 가져와 reviews에 추가한다\n",
    "for review in root.cssselect('.score_reple p'):\n",
    "    reviews.append(review.text_content())\n",
    "\n",
    "# 별점을 가져와 scores에 추가한다\n",
    "for score in root.cssselect('.score_result .star_score em'):\n",
    "    scores.append(score.text_content())"
   ]
  },
  {
   "cell_type": "code",
   "execution_count": 11,
   "metadata": {
    "collapsed": true
   },
   "outputs": [],
   "source": [
    "import pandas\n",
    "\n",
    "df = pandas.DataFrame({'score': scores, 'review': reviews})"
   ]
  },
  {
   "cell_type": "code",
   "execution_count": 13,
   "metadata": {
    "collapsed": true
   },
   "outputs": [],
   "source": [
    "df.to_csv('movie_review.csv', encoding='utf8', index=False)"
   ]
  },
  {
   "cell_type": "code",
   "execution_count": 15,
   "metadata": {
    "collapsed": false
   },
   "outputs": [
    {
     "data": {
      "text/html": [
       "<div>\n",
       "<style scoped>\n",
       "    .dataframe tbody tr th:only-of-type {\n",
       "        vertical-align: middle;\n",
       "    }\n",
       "\n",
       "    .dataframe tbody tr th {\n",
       "        vertical-align: top;\n",
       "    }\n",
       "\n",
       "    .dataframe thead th {\n",
       "        text-align: right;\n",
       "    }\n",
       "</style>\n",
       "<table border=\"1\" class=\"dataframe\">\n",
       "  <thead>\n",
       "    <tr style=\"text-align: right;\">\n",
       "      <th></th>\n",
       "      <th>review</th>\n",
       "      <th>score</th>\n",
       "    </tr>\n",
       "  </thead>\n",
       "  <tbody>\n",
       "    <tr>\n",
       "      <th>0</th>\n",
       "      <td>씨발 다카포나 만들라고 안노새끼야</td>\n",
       "      <td>1</td>\n",
       "    </tr>\n",
       "    <tr>\n",
       "      <th>1</th>\n",
       "      <td>일본의 SF 영화들은 테러 수준이다.</td>\n",
       "      <td>2</td>\n",
       "    </tr>\n",
       "    <tr>\n",
       "      <th>2</th>\n",
       "      <td>정말 지금까지 본 영화중에 최악이다... 알바탈 쒸우고 한거 티나고 무슨 지구방위대...</td>\n",
       "      <td>1</td>\n",
       "    </tr>\n",
       "    <tr>\n",
       "      <th>3</th>\n",
       "      <td>역대 고지라가 액션과 싸움을 중요시했다면 이번 고질라는 공포와 흉악함을 드러낸다는,...</td>\n",
       "      <td>9</td>\n",
       "    </tr>\n",
       "    <tr>\n",
       "      <th>4</th>\n",
       "      <td>연출은좋음 긴장감씨지는 떨어짐소개가 좋긴함 근데 분위기가 에반게리온사도 없애는 분위기</td>\n",
       "      <td>7</td>\n",
       "    </tr>\n",
       "  </tbody>\n",
       "</table>\n",
       "</div>"
      ],
      "text/plain": [
       "                                              review  score\n",
       "0                               씨발 다카포나 만들라고 안노새끼야        1\n",
       "1                             일본의 SF 영화들은 테러 수준이다.        2\n",
       "2  정말 지금까지 본 영화중에 최악이다... 알바탈 쒸우고 한거 티나고 무슨 지구방위대...      1\n",
       "3  역대 고지라가 액션과 싸움을 중요시했다면 이번 고질라는 공포와 흉악함을 드러낸다는,...      9\n",
       "4  연출은좋음 긴장감씨지는 떨어짐소개가 좋긴함 근데 분위기가 에반게리온사도 없애는 분위기        7"
      ]
     },
     "execution_count": 15,
     "metadata": {},
     "output_type": "execute_result"
    }
   ],
   "source": [
    "import pandas\n",
    "df = pandas.read_csv('movie_review.csv', encoding='utf8') \n",
    "df.head()"
   ]
  },
  {
   "cell_type": "code",
   "execution_count": 16,
   "metadata": {
    "collapsed": true
   },
   "outputs": [],
   "source": [
    "from konlpy.tag import Komoran\n",
    "tag = Komoran()"
   ]
  },
  {
   "cell_type": "code",
   "execution_count": 17,
   "metadata": {
    "collapsed": true
   },
   "outputs": [],
   "source": [
    "from sklearn.feature_extraction.text import CountVectorizer"
   ]
  },
  {
   "cell_type": "code",
   "execution_count": 18,
   "metadata": {
    "collapsed": true
   },
   "outputs": [],
   "source": [
    "def kor_noun(text): \n",
    "    words = []\n",
    "    for w in tag.nouns(text): \n",
    "        if len(w) > 1:\n",
    "            words.append(w) \n",
    "        return words\n"
   ]
  },
  {
   "cell_type": "code",
   "execution_count": 19,
   "metadata": {
    "collapsed": true
   },
   "outputs": [],
   "source": [
    "cv = CountVectorizer(tokenizer=kor_noun, max_features=1000) \n",
    "tdm = cv.fit_transform(df['review'])"
   ]
  },
  {
   "cell_type": "code",
   "execution_count": 20,
   "metadata": {
    "collapsed": true
   },
   "outputs": [],
   "source": [
    "from sklearn.model_selection import train_test_split"
   ]
  },
  {
   "cell_type": "code",
   "execution_count": 21,
   "metadata": {
    "collapsed": true
   },
   "outputs": [],
   "source": [
    "X_train, X_test, y_train, y_test = train_test_split(tdm, df['score'], test_size=.2, random_state =1234)"
   ]
  },
  {
   "cell_type": "code",
   "execution_count": 22,
   "metadata": {
    "collapsed": true
   },
   "outputs": [],
   "source": [
    "from sklearn.linear_model import ElasticNetCV"
   ]
  },
  {
   "cell_type": "code",
   "execution_count": 24,
   "metadata": {
    "collapsed": true
   },
   "outputs": [],
   "source": [
    "model = ElasticNetCV()"
   ]
  },
  {
   "cell_type": "code",
   "execution_count": 29,
   "metadata": {
    "collapsed": false
   },
   "outputs": [
    {
     "data": {
      "text/plain": [
       "ElasticNetCV(alphas=None, copy_X=True, cv=None, eps=0.001, fit_intercept=True,\n",
       "       l1_ratio=0.5, max_iter=1000, n_alphas=100, n_jobs=1,\n",
       "       normalize=False, positive=False, precompute='auto',\n",
       "       random_state=None, selection='cyclic', tol=0.0001, verbose=0)"
      ]
     },
     "execution_count": 29,
     "metadata": {},
     "output_type": "execute_result"
    }
   ],
   "source": [
    "model.fit(X_train, y_train)\n",
    "\n",
    "ElasticNetCV(alphas=None, copy_X=True, cv=None, eps=0.001, fit_intercept=True, l1_ratio=0.5, max_iter=1000, n_alphas=100, n_jobs=1, normalize=False, positive=False, precompute='auto', random_state=None, selection='cyclic', tol=0.0001, verbose=0)"
   ]
  },
  {
   "cell_type": "code",
   "execution_count": 26,
   "metadata": {
    "collapsed": true
   },
   "outputs": [],
   "source": [
    "y_pred = model.predict(X_test)\n",
    "from sklearn.metrics import r2_score, mean_squared_error"
   ]
  },
  {
   "cell_type": "code",
   "execution_count": 27,
   "metadata": {
    "collapsed": false
   },
   "outputs": [
    {
     "data": {
      "text/plain": [
       "7.5625"
      ]
     },
     "execution_count": 27,
     "metadata": {},
     "output_type": "execute_result"
    }
   ],
   "source": [
    "mean_squared_error(y_test, y_pred)"
   ]
  },
  {
   "cell_type": "code",
   "execution_count": 28,
   "metadata": {
    "collapsed": false
   },
   "outputs": [
    {
     "data": {
      "text/plain": [
       "0.0"
      ]
     },
     "execution_count": 28,
     "metadata": {},
     "output_type": "execute_result"
    }
   ],
   "source": [
    "r2_score(y_test, y_pred)"
   ]
  },
  {
   "cell_type": "code",
   "execution_count": 30,
   "metadata": {
    "collapsed": true
   },
   "outputs": [],
   "source": [
    "%matplotlib inline"
   ]
  },
  {
   "cell_type": "code",
   "execution_count": 31,
   "metadata": {
    "collapsed": false
   },
   "outputs": [
    {
     "data": {
      "text/plain": [
       "<matplotlib.axes._subplots.AxesSubplot at 0x7396e1400>"
      ]
     },
     "execution_count": 31,
     "metadata": {},
     "output_type": "execute_result"
    },
    {
     "data": {
      "image/png": "[encoded data removed]",
      "text/plain": [
       "<matplotlib.figure.Figure at 0x7337ebbe0>"
      ]
     },
     "metadata": {},
     "output_type": "display_data"
    }
   ],
   "source": [
    "df['score'].hist() "
   ]
  },
  {
   "cell_type": "code",
   "execution_count": 32,
   "metadata": {
    "collapsed": true
   },
   "outputs": [],
   "source": [
    "high_low = df['score'] > 5"
   ]
  },
  {
   "cell_type": "code",
   "execution_count": 33,
   "metadata": {
    "collapsed": true
   },
   "outputs": [],
   "source": [
    "X_train, X_test, y_train, y_test = train_test_split(tdm, high_low, test_size=.2, random_state =1234)"
   ]
  },
  {
   "cell_type": "code",
   "execution_count": 35,
   "metadata": {
    "collapsed": false
   },
   "outputs": [
    {
     "name": "stderr",
     "output_type": "stream",
     "text": [
      "/Users/standard/anaconda/lib/python3.5/site-packages/sklearn/model_selection/_split.py:605: Warning: The least populated class in y has only 2 members, which is too few. The minimum number of members in any class cannot be less than n_splits=3.\n",
      "  % (min_groups, self.n_splits)), Warning)\n"
     ]
    },
    {
     "data": {
      "text/plain": [
       "LogisticRegressionCV(Cs=10, class_weight=None, cv=None, dual=False,\n",
       "           fit_intercept=True, intercept_scaling=1.0, max_iter=100,\n",
       "           multi_class='ovr', n_jobs=1, penalty='l2', random_state=None,\n",
       "           refit=True, scoring=None, solver='lbfgs', tol=0.0001, verbose=0)"
      ]
     },
     "execution_count": 35,
     "metadata": {},
     "output_type": "execute_result"
    }
   ],
   "source": [
    "from sklearn.linear_model import LogisticRegressionCV\n",
    "\n",
    "logreg = LogisticRegressionCV() \n",
    "logreg.fit(X_train, y_train)\n",
    "\n",
    "LogisticRegressionCV(Cs=10, class_weight=None, cv=None, dual=False, fit_intercept=True, intercept_scaling=1.0, max_iter=100, multi_class='ovr', n_jobs=1, penalty='l2', random_state=None, refit=True, scoring=None, solver='lbfgs', tol=0.0001, verbose=0)"
   ]
  },
  {
   "cell_type": "code",
   "execution_count": 36,
   "metadata": {
    "collapsed": true
   },
   "outputs": [],
   "source": [
    "y_pred = logreg.predict(X_test)"
   ]
  },
  {
   "cell_type": "code",
   "execution_count": 38,
   "metadata": {
    "collapsed": false
   },
   "outputs": [
    {
     "data": {
      "text/plain": [
       "1.0"
      ]
     },
     "execution_count": 38,
     "metadata": {},
     "output_type": "execute_result"
    }
   ],
   "source": [
    "from sklearn.metrics import accuracy_score \n",
    "\n",
    "accuracy_score(y_test, y_pred)"
   ]
  },
  {
   "cell_type": "code",
   "execution_count": 39,
   "metadata": {
    "collapsed": true
   },
   "outputs": [],
   "source": [
    "words = cv.get_feature_names()\n",
    "sent_dict = sorted(zip(logreg.coef_[0], words))"
   ]
  },
  {
   "cell_type": "code",
   "execution_count": 40,
   "metadata": {
    "collapsed": false
   },
   "outputs": [
    {
     "data": {
      "text/plain": [
       "[(-2.4992903094062434e-05, '이번'),\n",
       " (-2.4992903094062434e-05, '일본'),\n",
       " (-2.4992903093971666e-05, '다카포'),\n",
       " (-2.4992903093971666e-05, '평점'),\n",
       " (-2.499280833131396e-05, '고질라'),\n",
       " (-2.499280833131396e-05, '초등학생'),\n",
       " (0.0, '비웃음'),\n",
       " (0.0, '지금'),\n",
       " (7.5004232760009633e-05, '역대'),\n",
       " (7.5004232760009633e-05, '연출')]"
      ]
     },
     "execution_count": 40,
     "metadata": {},
     "output_type": "execute_result"
    }
   ],
   "source": [
    "sent_dict[:10]"
   ]
  },
  {
   "cell_type": "code",
   "execution_count": 41,
   "metadata": {
    "collapsed": false
   },
   "outputs": [
    {
     "data": {
      "text/plain": [
       "[(-2.4992903094062434e-05, '이번'),\n",
       " (-2.4992903094062434e-05, '일본'),\n",
       " (-2.4992903093971666e-05, '다카포'),\n",
       " (-2.4992903093971666e-05, '평점'),\n",
       " (-2.499280833131396e-05, '고질라'),\n",
       " (-2.499280833131396e-05, '초등학생'),\n",
       " (0.0, '비웃음'),\n",
       " (0.0, '지금'),\n",
       " (7.5004232760009633e-05, '역대'),\n",
       " (7.5004232760009633e-05, '연출')]"
      ]
     },
     "execution_count": 41,
     "metadata": {},
     "output_type": "execute_result"
    }
   ],
   "source": [
    "sent_dict[-10:]"
   ]
  }
 ],
 "metadata": {
  "anaconda-cloud": {},
  "kernelspec": {
   "display_name": "Python [default]",
   "language": "python",
   "name": "python3"
  },
  "language_info": {
   "codemirror_mode": {
    "name": "ipython",
    "version": 3
   },
   "file_extension": ".py",
   "mimetype": "text/x-python",
   "name": "python",
   "nbconvert_exporter": "python",
   "pygments_lexer": "ipython3",
   "version": "3.5.4"
  }
 },
 "nbformat": 4,
 "nbformat_minor": 1
}
