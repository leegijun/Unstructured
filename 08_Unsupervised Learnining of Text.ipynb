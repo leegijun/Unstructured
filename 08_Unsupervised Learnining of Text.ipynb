{
 "cells": [
  {
   "cell_type": "markdown",
   "metadata": {},
   "source": [
    "# 토픽 모형\n"
   ]
  },
  {
   "cell_type": "markdown",
   "metadata": {},
   "source": [
    "## # LDA"
   ]
  },
  {
   "cell_type": "markdown",
   "metadata": {},
   "source": [
    "# @ 자료 수집"
   ]
  },
  {
   "cell_type": "code",
   "execution_count": 1,
   "metadata": {
    "collapsed": true
   },
   "outputs": [],
   "source": [
    "import requests \n",
    "import lxml.html"
   ]
  },
  {
   "cell_type": "code",
   "execution_count": null,
   "metadata": {
    "collapsed": true
   },
   "outputs": [],
   "source": [
    "url = 'http://search.daum.net/search?p={}&w=news&cluster=n&q=인공지능&sort=recency&DA=PGD&sd=20180402000000&ed=20180408235959&period=u'"
   ]
  },
  {
   "cell_type": "code",
   "execution_count": null,
   "metadata": {
    "collapsed": true
   },
   "outputs": [],
   "source": [
    "urls = []\n",
    "for page in range(1, 251):\n",
    "    res = requests.get(url.format(page))\n",
    "    root = lxml.html.fromstring(res.text)\n",
    "    for link in root.cssselect('a.f_nb'):\n",
    "        urls.append(link.attrib['href'])"
   ]
  },
  {
   "cell_type": "code",
   "execution_count": null,
   "metadata": {
    "collapsed": true
   },
   "outputs": [],
   "source": [
    "len(urls)"
   ]
  },
  {
   "cell_type": "code",
   "execution_count": null,
   "metadata": {
    "collapsed": true
   },
   "outputs": [],
   "source": [
    "articles = []\n",
    "for u in tqdm.tqdm_notebook(urls):\n",
    "    if not u.startswith('http'):\n",
    "        continue\n",
    "    res = requests.get(u)\n",
    "    root = lxml.html.fromstring(res.text)\n",
    "    body = root.cssselect('.article_view').pop()\n",
    "    content = body.text_content().strip()  # 본문을 가져와 앞뒤 공백을 제거\n",
    "    articles.append(content)"
   ]
  },
  {
   "cell_type": "code",
   "execution_count": null,
   "metadata": {
    "collapsed": true
   },
   "outputs": [],
   "source": [
    "import pandas\n",
    "df = pandas.DataFrame({'article': articles})\n",
    "df.to_excel('daum_news_ai.xlsx')"
   ]
  },
  {
   "cell_type": "markdown",
   "metadata": {},
   "source": [
    "---------"
   ]
  },
  {
   "cell_type": "markdown",
   "metadata": {},
   "source": [
    "# @ 데이터 불러오기"
   ]
  },
  {
   "cell_type": "code",
   "execution_count": 2,
   "metadata": {
    "collapsed": true
   },
   "outputs": [],
   "source": [
    "import pandas"
   ]
  },
  {
   "cell_type": "code",
   "execution_count": 5,
   "metadata": {
    "collapsed": false
   },
   "outputs": [],
   "source": [
    "df = pandas.read_excel('data/daum_news_ai.xlsx')"
   ]
  },
  {
   "cell_type": "code",
   "execution_count": 6,
   "metadata": {
    "collapsed": false
   },
   "outputs": [
    {
     "data": {
      "text/html": [
       "<div>\n",
       "<style scoped>\n",
       "    .dataframe tbody tr th:only-of-type {\n",
       "        vertical-align: middle;\n",
       "    }\n",
       "\n",
       "    .dataframe tbody tr th {\n",
       "        vertical-align: top;\n",
       "    }\n",
       "\n",
       "    .dataframe thead th {\n",
       "        text-align: right;\n",
       "    }\n",
       "</style>\n",
       "<table border=\"1\" class=\"dataframe\">\n",
       "  <thead>\n",
       "    <tr style=\"text-align: right;\">\n",
       "      <th></th>\n",
       "      <th>article</th>\n",
       "    </tr>\n",
       "  </thead>\n",
       "  <tbody>\n",
       "    <tr>\n",
       "      <th>0</th>\n",
       "      <td>Elon Musk, the visionary entrepreneur, fired a...</td>\n",
       "    </tr>\n",
       "    <tr>\n",
       "      <th>1</th>\n",
       "      <td>배달앱 ‘배달의민족’, 프리미엄 외식 배달 서비스 ‘배민라이더스’ 등을 운영하는 ‘...</td>\n",
       "    </tr>\n",
       "    <tr>\n",
       "      <th>2</th>\n",
       "      <td>[서울경제] 서울경제신문이 4차 산업혁명 시대에 필요한 인재 육성을 위한 교육혁신 ...</td>\n",
       "    </tr>\n",
       "    <tr>\n",
       "      <th>3</th>\n",
       "      <td>[경향신문] 인공지능 스피커를 몇 개 구해서 집과 사무실에 연결해 두었다. 친구 삼...</td>\n",
       "    </tr>\n",
       "    <tr>\n",
       "      <th>4</th>\n",
       "      <td>의료분야에도 4차 산업혁명 바람이 거세다. 최근 등장한 인공지능(AI)·빅데이터와 ...</td>\n",
       "    </tr>\n",
       "  </tbody>\n",
       "</table>\n",
       "</div>"
      ],
      "text/plain": [
       "                                             article\n",
       "0  Elon Musk, the visionary entrepreneur, fired a...\n",
       "1  배달앱 ‘배달의민족’, 프리미엄 외식 배달 서비스 ‘배민라이더스’ 등을 운영하는 ‘...\n",
       "2  [서울경제] 서울경제신문이 4차 산업혁명 시대에 필요한 인재 육성을 위한 교육혁신 ...\n",
       "3  [경향신문] 인공지능 스피커를 몇 개 구해서 집과 사무실에 연결해 두었다. 친구 삼...\n",
       "4  의료분야에도 4차 산업혁명 바람이 거세다. 최근 등장한 인공지능(AI)·빅데이터와 ..."
      ]
     },
     "execution_count": 6,
     "metadata": {},
     "output_type": "execute_result"
    }
   ],
   "source": [
    "df.head()"
   ]
  },
  {
   "cell_type": "markdown",
   "metadata": {},
   "source": [
    "# @ 태깅"
   ]
  },
  {
   "cell_type": "code",
   "execution_count": 8,
   "metadata": {
    "collapsed": true
   },
   "outputs": [],
   "source": [
    "from konlpy.tag import Twitter"
   ]
  },
  {
   "cell_type": "code",
   "execution_count": 9,
   "metadata": {
    "collapsed": true
   },
   "outputs": [],
   "source": [
    "tagger = Twitter()"
   ]
  },
  {
   "cell_type": "code",
   "execution_count": 11,
   "metadata": {
    "collapsed": true
   },
   "outputs": [],
   "source": [
    "def kor_noun(text):\n",
    "    words = []\n",
    "    for w in tagger.nouns(text):\n",
    "        if len(w) > 1:\n",
    "            words.append(w)\n",
    "    return words"
   ]
  },
  {
   "cell_type": "code",
   "execution_count": 12,
   "metadata": {
    "collapsed": false
   },
   "outputs": [
    {
     "data": {
      "text/plain": [
       "['한글', '한국어', '문자']"
      ]
     },
     "execution_count": 12,
     "metadata": {},
     "output_type": "execute_result"
    }
   ],
   "source": [
    "kor_noun('한글은 한국어를 표현하는 문자인 것이다.')"
   ]
  },
  {
   "cell_type": "markdown",
   "metadata": {},
   "source": [
    "### # CountVectorizer"
   ]
  },
  {
   "cell_type": "code",
   "execution_count": 13,
   "metadata": {
    "collapsed": true
   },
   "outputs": [],
   "source": [
    "from sklearn.feature_extraction.text import CountVectorizer"
   ]
  },
  {
   "cell_type": "code",
   "execution_count": 15,
   "metadata": {
    "collapsed": false
   },
   "outputs": [],
   "source": [
    "cv = CountVectorizer(tokenizer=kor_noun, max_features=1000)"
   ]
  },
  {
   "cell_type": "code",
   "execution_count": 16,
   "metadata": {
    "collapsed": true
   },
   "outputs": [],
   "source": [
    "articles = df['article'].astype(str)"
   ]
  },
  {
   "cell_type": "code",
   "execution_count": 17,
   "metadata": {
    "collapsed": true
   },
   "outputs": [],
   "source": [
    "tdm = cv.fit_transform(articles)"
   ]
  },
  {
   "cell_type": "code",
   "execution_count": 18,
   "metadata": {
    "collapsed": true
   },
   "outputs": [],
   "source": [
    "words = cv.get_feature_names()"
   ]
  },
  {
   "cell_type": "code",
   "execution_count": 19,
   "metadata": {
    "collapsed": false,
    "scrolled": true
   },
   "outputs": [
    {
     "data": {
      "text/plain": [
       "[(4664, '점수'),\n",
       " (3801, '투자'),\n",
       " (3748, '기록'),\n",
       " (2948, '종목'),\n",
       " (2700, '지능'),\n",
       " (2545, '인공'),\n",
       " (2396, '기자'),\n",
       " (2368, '기업'),\n",
       " (2083, '시장'),\n",
       " (1981, '진단'),\n",
       " (1940, '기술'),\n",
       " (1890, '업종'),\n",
       " (1768, '상위'),\n",
       " (1746, '한국'),\n",
       " (1513, '최근'),\n",
       " (1512, '상장'),\n",
       " (1494, '수익률'),\n",
       " (1466, '전체'),\n",
       " (1452, '라이온'),\n",
       " (1444, '그림')]"
      ]
     },
     "execution_count": 19,
     "metadata": {},
     "output_type": "execute_result"
    }
   ],
   "source": [
    "sorted(zip(tdm.sum(axis=0).flat, words), reverse=True)[:20]"
   ]
  },
  {
   "cell_type": "markdown",
   "metadata": {},
   "source": [
    "### # TF-IDF"
   ]
  },
  {
   "cell_type": "code",
   "execution_count": 33,
   "metadata": {
    "collapsed": true
   },
   "outputs": [],
   "source": [
    "from sklearn.feature_extraction.text import TfidfVectorizer"
   ]
  },
  {
   "cell_type": "code",
   "execution_count": 34,
   "metadata": {
    "collapsed": true
   },
   "outputs": [],
   "source": [
    "cv = TfidfVectorizer(tokenizer=kor_noun, max_features=1000)"
   ]
  },
  {
   "cell_type": "code",
   "execution_count": 35,
   "metadata": {
    "collapsed": true
   },
   "outputs": [],
   "source": [
    "articles = df['article'].astype(str)"
   ]
  },
  {
   "cell_type": "code",
   "execution_count": 36,
   "metadata": {
    "collapsed": true
   },
   "outputs": [],
   "source": [
    "tdm = cv.fit_transform(articles)"
   ]
  },
  {
   "cell_type": "code",
   "execution_count": 37,
   "metadata": {
    "collapsed": true
   },
   "outputs": [],
   "source": [
    "words = cv.get_feature_names()"
   ]
  },
  {
   "cell_type": "code",
   "execution_count": 38,
   "metadata": {
    "collapsed": false
   },
   "outputs": [
    {
     "data": {
      "text/plain": [
       "[(198.18993182748153, '점수'),\n",
       " (144.75822317611525, '기록'),\n",
       " (131.15521788332396, '투자'),\n",
       " (124.26033078340178, '종목'),\n",
       " (83.054047150632428, '진단'),\n",
       " (77.075724989774741, '업종'),\n",
       " (75.804661342717964, '상위'),\n",
       " (65.936053756202966, '기업'),\n",
       " (63.625949007361385, '상장'),\n",
       " (63.605531348506148, '수익률'),\n",
       " (62.927439223576535, '라이온'),\n",
       " (61.043406154138069, '그림'),\n",
       " (58.501881747678446, '종합'),\n",
       " (58.088455427563296, '전체'),\n",
       " (57.4347625143578, '시장'),\n",
       " (50.658042502085692, '기자'),\n",
       " (48.531675740085312, '최근'),\n",
       " (46.214242321339917, '성장'),\n",
       " (45.893100789089658, '지능'),\n",
       " (45.76222348748869, '한국')]"
      ]
     },
     "execution_count": 38,
     "metadata": {},
     "output_type": "execute_result"
    }
   ],
   "source": [
    "sorted(zip(tdm.sum(axis=0).flat, words), reverse=True)[:20]"
   ]
  },
  {
   "cell_type": "markdown",
   "metadata": {},
   "source": [
    "------------_"
   ]
  },
  {
   "cell_type": "code",
   "execution_count": 20,
   "metadata": {
    "collapsed": true
   },
   "outputs": [],
   "source": [
    "from gensim.matutils import Sparse2Corpus\n",
    "\n",
    "corpus = Sparse2Corpus(tdm.T)"
   ]
  },
  {
   "cell_type": "code",
   "execution_count": 21,
   "metadata": {
    "collapsed": true
   },
   "outputs": [],
   "source": [
    "from gensim.models.ldamodel import LdaModel\n",
    "lda = LdaModel(corpus=corpus, id2word=dict(enumerate(words)),\n",
    "               num_topics=10, passes=10, iterations=50,\n",
    "               random_state=1234)"
   ]
  },
  {
   "cell_type": "markdown",
   "metadata": {},
   "source": [
    "ex) num_topics : 기사 1,000개 => 주제 10개"
   ]
  },
  {
   "cell_type": "code",
   "execution_count": 23,
   "metadata": {
    "collapsed": false
   },
   "outputs": [
    {
     "data": {
      "text/plain": [
       "[('점수', 0.060508076110892116),\n",
       " ('기록', 0.047183343674121414),\n",
       " ('투자', 0.043451852000209269),\n",
       " ('종목', 0.037737527315098579),\n",
       " ('진단', 0.025403065481961376),\n",
       " ('업종', 0.023931418436736032),\n",
       " ('상위', 0.022801779585269119),\n",
       " ('기업', 0.02087524526041562),\n",
       " ('상장', 0.019187434391780188),\n",
       " ('기자', 0.018910169415263748)]"
      ]
     },
     "execution_count": 23,
     "metadata": {},
     "output_type": "execute_result"
    }
   ],
   "source": [
    "lda.show_topic(0)"
   ]
  },
  {
   "cell_type": "code",
   "execution_count": 24,
   "metadata": {
    "collapsed": false
   },
   "outputs": [
    {
     "data": {
      "text/plain": [
       "[('반도체', 0.06718254613484588),\n",
       " ('시장', 0.03178420663611032),\n",
       " ('투자', 0.026654382193444959),\n",
       " ('지난해', 0.024130539634868404),\n",
       " ('호황', 0.021008793485102858),\n",
       " ('수출', 0.020826342344318207),\n",
       " ('수요', 0.018894187630900412),\n",
       " ('메모리', 0.01479712581130526),\n",
       " ('성장', 0.013627953691853807),\n",
       " ('비중', 0.013470502641745687)]"
      ]
     },
     "execution_count": 24,
     "metadata": {},
     "output_type": "execute_result"
    }
   ],
   "source": [
    "lda.show_topic(1)"
   ]
  },
  {
   "cell_type": "code",
   "execution_count": 25,
   "metadata": {
    "collapsed": false
   },
   "outputs": [
    {
     "data": {
      "text/plain": [
       "'[서울경제] \\n          삼성전자(005930) 갤럭시 스마트폰의 음악서비스인 ‘삼성 뮤직’을 삼성 스마트TV를 통해서도 이용할 수 있게 된다. \\n         \\n         삼성전자는 2016년 이후 출시된 타이젠 OS(운영체제) 기반 스마트 TV에서 삼성 뮤직을 서비스한다고 8일 밝혔다. 스마트TV용 삼성 뮤직 애플리케이션을 다운받으면 라디오 스테이션 듣기와 스트리밍 음악 듣기 기능이 제공된다. MP3 다운로드, 유료상품 구매는 불가능하다. 인공지능AI) 플랫폼 ‘빅스비’가 탑재된 2018년형 스마트TV를 이용할 경우 “삼성 뮤직에서 ○○○ 음악 틀어줘”와 같은 음성 명령도 가능하다. 삼성전자 측은 “모바일과 TV에서 동일한 계정으로 삼성 뮤직을 쓰고 즐겨찾기 등도 연동해 이용할 수 있다”고 밝혔다. /권경원기자 nahere@sedaily.com'"
      ]
     },
     "execution_count": 25,
     "metadata": {},
     "output_type": "execute_result"
    }
   ],
   "source": [
    "articles[50]"
   ]
  },
  {
   "cell_type": "code",
   "execution_count": 26,
   "metadata": {
    "collapsed": true
   },
   "outputs": [],
   "source": [
    "def tdm2doc(tdm, i):\n",
    "    doc = []\n",
    "    for i, n in enumerate(tdm[i].toarray().flat):\n",
    "        if n > 0:\n",
    "            doc.append((i, n))\n",
    "    return doc"
   ]
  },
  {
   "cell_type": "code",
   "execution_count": 27,
   "metadata": {
    "collapsed": true
   },
   "outputs": [],
   "source": [
    "doc = tdm2doc(tdm, 50)"
   ]
  },
  {
   "cell_type": "code",
   "execution_count": 28,
   "metadata": {
    "collapsed": false
   },
   "outputs": [
    {
     "data": {
      "text/plain": [
       "[(29, 1),\n",
       " (48, 1),\n",
       " (51, 1),\n",
       " (97, 1),\n",
       " (130, 1),\n",
       " (133, 1),\n",
       " (139, 1),\n",
       " (270, 1),\n",
       " (389, 9),\n",
       " (397, 1),\n",
       " (408, 2),\n",
       " (409, 1),\n",
       " (463, 4),\n",
       " (464, 1),\n",
       " (523, 1),\n",
       " (544, 2),\n",
       " (618, 1),\n",
       " (628, 1),\n",
       " (631, 3),\n",
       " (659, 1),\n",
       " (661, 1),\n",
       " (727, 3),\n",
       " (746, 1),\n",
       " (794, 1),\n",
       " (852, 1),\n",
       " (857, 1),\n",
       " (878, 1),\n",
       " (925, 1)]"
      ]
     },
     "execution_count": 28,
     "metadata": {},
     "output_type": "execute_result"
    }
   ],
   "source": [
    "doc"
   ]
  },
  {
   "cell_type": "code",
   "execution_count": 29,
   "metadata": {
    "collapsed": false
   },
   "outputs": [
    {
     "data": {
      "text/plain": [
       "[(2, 0.2284575106133345),\n",
       " (4, 0.034491793348329546),\n",
       " (5, 0.32588335753237968),\n",
       " (6, 0.39812181552500392)]"
      ]
     },
     "execution_count": 29,
     "metadata": {},
     "output_type": "execute_result"
    }
   ],
   "source": [
    "lda.get_document_topics(doc)"
   ]
  },
  {
   "cell_type": "code",
   "execution_count": 30,
   "metadata": {
    "collapsed": false
   },
   "outputs": [
    {
     "name": "stdout",
     "output_type": "stream",
     "text": [
      "0 점수 기록 투자 종목 진단 업종 상위 기업 상장 기자\n",
      "1 반도체 시장 투자 지난해 호황 수출 수요 메모리 성장 비중\n",
      "2 지능 인공 스마트 기술 시티 중국 통해 기자 시장 사업\n",
      "3 서울 시민 서울시 창업 혁신 도시 교육 안철수 미래 기술\n",
      "4 택시 서비스 호출 카카오 고객 국토부 배차 모빌리티 암웨이 유료\n",
      "5 서비스 기술 체인 정보 블록 냉장고 기반 시스템 기능 추천\n",
      "6 전자 삼성 분기 사업 시장 실적 투자 억원 영업 스마트폰\n",
      "7 연구 무기 지능 로봇 카이스트 인공 시스템 개발 인간 기술\n",
      "8 기업 부회장 삼성 정부 교육 지원 지역 사업 억원 창업\n",
      "9 기술 센터 지능 인공 텔레콤 게임 데이터 개발 구글 미국\n"
     ]
    }
   ],
   "source": [
    "for t in range(10):\n",
    "    topic = [word for word, p in lda.show_topic(t)]\n",
    "    print(t, ' '.join(topic))"
   ]
  },
  {
   "cell_type": "markdown",
   "metadata": {},
   "source": [
    "*** 어디다 쓰느냐?\n",
    "\n",
    "기사별로 주제의 비율의 평균을 확인 \n",
    "퍼센트를 알 수 있다\n",
    "주별로 통계를 내면 어떤 시기에 어떤 주제를 변화하는지 \n",
    "언론사 별로 어떤 주제에 관심이 있는지"
   ]
  },
  {
   "cell_type": "code",
   "execution_count": null,
   "metadata": {
    "collapsed": true
   },
   "outputs": [],
   "source": []
  },
  {
   "cell_type": "code",
   "execution_count": null,
   "metadata": {
    "collapsed": true
   },
   "outputs": [],
   "source": []
  },
  {
   "cell_type": "code",
   "execution_count": null,
   "metadata": {
    "collapsed": true
   },
   "outputs": [],
   "source": []
  },
  {
   "cell_type": "code",
   "execution_count": null,
   "metadata": {
    "collapsed": true
   },
   "outputs": [],
   "source": []
  },
  {
   "cell_type": "code",
   "execution_count": null,
   "metadata": {
    "collapsed": true
   },
   "outputs": [],
   "source": []
  },
  {
   "cell_type": "code",
   "execution_count": null,
   "metadata": {
    "collapsed": true
   },
   "outputs": [],
   "source": []
  },
  {
   "cell_type": "code",
   "execution_count": null,
   "metadata": {
    "collapsed": true
   },
   "outputs": [],
   "source": []
  },
  {
   "cell_type": "code",
   "execution_count": null,
   "metadata": {
    "collapsed": true
   },
   "outputs": [],
   "source": []
  }
 ],
 "metadata": {
  "anaconda-cloud": {},
  "kernelspec": {
   "display_name": "Python [default]",
   "language": "python",
   "name": "python3"
  },
  "language_info": {
   "codemirror_mode": {
    "name": "ipython",
    "version": 3
   },
   "file_extension": ".py",
   "mimetype": "text/x-python",
   "name": "python",
   "nbconvert_exporter": "python",
   "pygments_lexer": "ipython3",
   "version": "3.5.4"
  }
 },
 "nbformat": 4,
 "nbformat_minor": 1
}
