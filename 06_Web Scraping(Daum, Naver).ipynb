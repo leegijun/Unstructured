{
 "cells": [
  {
   "cell_type": "markdown",
   "metadata": {},
   "source": [
    "# # Daum"
   ]
  },
  {
   "cell_type": "code",
   "execution_count": 2,
   "metadata": {
    "collapsed": false
   },
   "outputs": [],
   "source": [
    "import requests\n",
    "import lxml.html"
   ]
  },
  {
   "cell_type": "code",
   "execution_count": 3,
   "metadata": {
    "collapsed": true
   },
   "outputs": [],
   "source": [
    "res = requests.get('https://search.daum.net/search?w=news&sort=recency&q=%EC%9D%B8%EA%B3%B5%EC%A7%80%EB%8A%A5&cluster=n&DA=STC&s=NS&a=STCF&dc=STC&pg=1&r=1&p=1&rc=1&at=more&sd=&ed=&period=')"
   ]
  },
  {
   "cell_type": "code",
   "execution_count": 5,
   "metadata": {
    "collapsed": true
   },
   "outputs": [],
   "source": [
    "root = lxml.html.fromstring(res.text)"
   ]
  },
  {
   "cell_type": "code",
   "execution_count": 6,
   "metadata": {
    "collapsed": false
   },
   "outputs": [
    {
     "name": "stdout",
     "output_type": "stream",
     "text": [
      "다음뉴스\n",
      "다음뉴스\n",
      "다음뉴스\n",
      "다음뉴스\n",
      "다음뉴스\n"
     ]
    }
   ],
   "source": [
    "for link in root.cssselect('a.f_nb'):\n",
    "    print(link.text_content())"
   ]
  },
  {
   "cell_type": "code",
   "execution_count": 9,
   "metadata": {
    "collapsed": false
   },
   "outputs": [
    {
     "name": "stdout",
     "output_type": "stream",
     "text": [
      "http://v.media.daum.net/v/20180407164801603\n",
      "http://v.media.daum.net/v/20180407153959104\n",
      "http://v.media.daum.net/v/20180407153914100\n",
      "http://v.media.daum.net/v/20180407133542815\n",
      "http://v.media.daum.net/v/20180407130554597\n"
     ]
    }
   ],
   "source": [
    "for link in root.cssselect('a.f_nb'):\n",
    "    print(link.attrib['href'])"
   ]
  },
  {
   "cell_type": "code",
   "execution_count": 10,
   "metadata": {
    "collapsed": true
   },
   "outputs": [],
   "source": [
    "urls = []\n",
    "\n",
    "for link in root.cssselect('a.f_nb'):\n",
    "    urls.append(link.attrib['href'])"
   ]
  },
  {
   "cell_type": "code",
   "execution_count": 11,
   "metadata": {
    "collapsed": false
   },
   "outputs": [
    {
     "data": {
      "text/plain": [
       "['http://v.media.daum.net/v/20180407164801603',\n",
       " 'http://v.media.daum.net/v/20180407153959104',\n",
       " 'http://v.media.daum.net/v/20180407153914100',\n",
       " 'http://v.media.daum.net/v/20180407133542815',\n",
       " 'http://v.media.daum.net/v/20180407130554597']"
      ]
     },
     "execution_count": 11,
     "metadata": {},
     "output_type": "execute_result"
    }
   ],
   "source": [
    "urls"
   ]
  },
  {
   "cell_type": "code",
   "execution_count": 12,
   "metadata": {
    "collapsed": true
   },
   "outputs": [],
   "source": [
    "url = 'http://v.media.daum.net/v/20180407164801603'"
   ]
  },
  {
   "cell_type": "code",
   "execution_count": 14,
   "metadata": {
    "collapsed": true
   },
   "outputs": [],
   "source": [
    "res = requests.get(url)\n",
    "root = lxml.html.fromstring(res.text)"
   ]
  },
  {
   "cell_type": "code",
   "execution_count": 15,
   "metadata": {
    "collapsed": false
   },
   "outputs": [
    {
     "data": {
      "text/plain": [
       "[<Element div at 0x111387b38>]"
      ]
     },
     "execution_count": 15,
     "metadata": {},
     "output_type": "execute_result"
    }
   ],
   "source": [
    "root.cssselect('div.article_view')"
   ]
  },
  {
   "cell_type": "code",
   "execution_count": 17,
   "metadata": {
    "collapsed": false
   },
   "outputs": [
    {
     "data": {
      "text/plain": [
       "<Element div at 0x111387b38>"
      ]
     },
     "execution_count": 17,
     "metadata": {},
     "output_type": "execute_result"
    }
   ],
   "source": [
    "root.cssselect('div.article_view').pop()"
   ]
  },
  {
   "cell_type": "code",
   "execution_count": 18,
   "metadata": {
    "collapsed": true
   },
   "outputs": [],
   "source": [
    "body = root.cssselect('div.article_view').pop()"
   ]
  },
  {
   "cell_type": "code",
   "execution_count": 19,
   "metadata": {
    "collapsed": false
   },
   "outputs": [
    {
     "data": {
      "text/plain": [
       "' \\n        \\n         \\n          \\n         \\n         [앵커] \\n         집행유예로 석방된 뒤, 첫 해외 출장을 마친 이재용 삼성전자 부회장이 오늘(7일) 새벽 귀국했습니다. \\n         출장기간 주로 인공지능사업을 돌아본 것으로 전해졌는데요. \\n         재계에선 당분간 해외 행보에 주력하고 국내에선 자주 모습을 드러내지 않을 것이란 관측이 나옵니다. \\n         배삼진 기자입니다.\\n         [기자] \\n         석방 뒤 주주총회나 이사회에도 모습을 드러내지 않았던 이재용 부회장은 지난달 하순 돌연 해외출장에 나섰습니다.\\n         첫 행선지는 유럽.\\n         프랑스 파리에서는 인공지능, AI연구센터 신설을 마무리지었습니다.\\n         스위스 제네바를 거쳐 들른 캐나다에서도 지난해 설립한 몬트리올 AI연구센터와 올해 AI연구센터를 만들 토론토를 둘러봤습니다.\\n         귀국길에는 잠시 일본 도쿄에도 머물렀습니다.\\n         삼성의 차세대 사업을 챙기는 동시에 1년여에 걸친 수사와 재판, 수감생활로 소원해진 해외 네트워크 복원이 이번 출장의 주목적이란 게 대체적 시각입니다\\n         재계는 이 부회장이 석방 이후 보여준 행보처럼 당분간 해외를 중심으로 삼성의 차세대 사업 발굴과 제휴에 주력하되, 국내에선 공식석상에 자주모습을 드러내지 않을 것으로 보고 있습니다.\\n         과거에도 업무의 80% 정도가 글로벌 사업과 관련됐고, 1년 중 3분의 1 이상을 외국에 머물며 글로벌 파트너들과의 협력 강화에 주력했습니다\\n         반면, 국내에선 최순실 국정농단 관련 3심을 앞두고 있는데다 검찰의 노조 와해공작 관련 수사 등이 이뤄지는 점을 감안해 외부 노출을 자제하리란 겁니다. \\n         다만, 해외활동도 사업 자체에 중점을 둘 전망입니다.\\n         실제, 이 부회장은 자신이 이사를 맡고 있는 중국 보아오포럼이 8일 열리지만 참석자 명단에는 빠져 있고 이사직도 이달 임기가 끝나면 연임하지 않을 것으로 알려졌습니다.\\n         연합뉴스TV 배삼진입니다. \\n         연합뉴스TV : 02-398-4441(기사문의·제보) 카톡/라인 jebo23 \\n         (끝)\\n         \\n       '"
      ]
     },
     "execution_count": 19,
     "metadata": {},
     "output_type": "execute_result"
    }
   ],
   "source": [
    "body.text_content()"
   ]
  },
  {
   "cell_type": "code",
   "execution_count": 20,
   "metadata": {
    "collapsed": true
   },
   "outputs": [],
   "source": [
    "articles = []"
   ]
  },
  {
   "cell_type": "code",
   "execution_count": 21,
   "metadata": {
    "collapsed": true
   },
   "outputs": [],
   "source": [
    "articles.append(body.text_content())"
   ]
  },
  {
   "cell_type": "code",
   "execution_count": 22,
   "metadata": {
    "collapsed": false
   },
   "outputs": [
    {
     "data": {
      "text/plain": [
       "[' \\n        \\n         \\n          \\n         \\n         [앵커] \\n         집행유예로 석방된 뒤, 첫 해외 출장을 마친 이재용 삼성전자 부회장이 오늘(7일) 새벽 귀국했습니다. \\n         출장기간 주로 인공지능사업을 돌아본 것으로 전해졌는데요. \\n         재계에선 당분간 해외 행보에 주력하고 국내에선 자주 모습을 드러내지 않을 것이란 관측이 나옵니다. \\n         배삼진 기자입니다.\\n         [기자] \\n         석방 뒤 주주총회나 이사회에도 모습을 드러내지 않았던 이재용 부회장은 지난달 하순 돌연 해외출장에 나섰습니다.\\n         첫 행선지는 유럽.\\n         프랑스 파리에서는 인공지능, AI연구센터 신설을 마무리지었습니다.\\n         스위스 제네바를 거쳐 들른 캐나다에서도 지난해 설립한 몬트리올 AI연구센터와 올해 AI연구센터를 만들 토론토를 둘러봤습니다.\\n         귀국길에는 잠시 일본 도쿄에도 머물렀습니다.\\n         삼성의 차세대 사업을 챙기는 동시에 1년여에 걸친 수사와 재판, 수감생활로 소원해진 해외 네트워크 복원이 이번 출장의 주목적이란 게 대체적 시각입니다\\n         재계는 이 부회장이 석방 이후 보여준 행보처럼 당분간 해외를 중심으로 삼성의 차세대 사업 발굴과 제휴에 주력하되, 국내에선 공식석상에 자주모습을 드러내지 않을 것으로 보고 있습니다.\\n         과거에도 업무의 80% 정도가 글로벌 사업과 관련됐고, 1년 중 3분의 1 이상을 외국에 머물며 글로벌 파트너들과의 협력 강화에 주력했습니다\\n         반면, 국내에선 최순실 국정농단 관련 3심을 앞두고 있는데다 검찰의 노조 와해공작 관련 수사 등이 이뤄지는 점을 감안해 외부 노출을 자제하리란 겁니다. \\n         다만, 해외활동도 사업 자체에 중점을 둘 전망입니다.\\n         실제, 이 부회장은 자신이 이사를 맡고 있는 중국 보아오포럼이 8일 열리지만 참석자 명단에는 빠져 있고 이사직도 이달 임기가 끝나면 연임하지 않을 것으로 알려졌습니다.\\n         연합뉴스TV 배삼진입니다. \\n         연합뉴스TV : 02-398-4441(기사문의·제보) 카톡/라인 jebo23 \\n         (끝)\\n         \\n       ']"
      ]
     },
     "execution_count": 22,
     "metadata": {},
     "output_type": "execute_result"
    }
   ],
   "source": [
    "articles"
   ]
  },
  {
   "cell_type": "code",
   "execution_count": 23,
   "metadata": {
    "collapsed": true
   },
   "outputs": [],
   "source": [
    "articles = [] "
   ]
  },
  {
   "cell_type": "code",
   "execution_count": 26,
   "metadata": {
    "collapsed": true
   },
   "outputs": [],
   "source": [
    "for u in urls:\n",
    "    res = requests.get(url)\n",
    "    root = lxml.html.fromstring(res.text)\n",
    "    body = root.cssselect('div.article_view').pop()\n",
    "    articles.append(body.text_content())"
   ]
  },
  {
   "cell_type": "code",
   "execution_count": 27,
   "metadata": {
    "collapsed": true
   },
   "outputs": [],
   "source": [
    "import pandas"
   ]
  },
  {
   "cell_type": "code",
   "execution_count": 28,
   "metadata": {
    "collapsed": true
   },
   "outputs": [],
   "source": [
    "pandas.DataFrame({'본문': articles}).to_excel('기사.xlsx')"
   ]
  },
  {
   "cell_type": "markdown",
   "metadata": {},
   "source": [
    "# # Naver Cafe"
   ]
  },
  {
   "cell_type": "code",
   "execution_count": 29,
   "metadata": {
    "collapsed": true
   },
   "outputs": [],
   "source": [
    "url = 'https://m.cafe.naver.com/ArticleList.nhn?search.clubid=19773565&search.menuid=101&search.boardtype=L'"
   ]
  },
  {
   "cell_type": "code",
   "execution_count": 30,
   "metadata": {
    "collapsed": true
   },
   "outputs": [],
   "source": [
    "res = requests.get(url)\n",
    "root = lxml.html.fromstring(res.text)"
   ]
  },
  {
   "cell_type": "code",
   "execution_count": 31,
   "metadata": {
    "collapsed": false
   },
   "outputs": [
    {
     "name": "stdout",
     "output_type": "stream",
     "text": [
      "\n",
      "                            \n",
      "                            \n",
      "\n",
      "                            \n",
      "                            \n",
      "                            \n",
      "                            \n",
      "\n",
      "                            \n",
      "                            \n",
      "                            \n",
      "                                \n",
      "                                \n",
      "\n",
      "                                \n",
      "                                \n",
      "\n",
      "                                \n",
      "                                듀오백 씁니당\n",
      "                            \n",
      "\n",
      "                            \n",
      "                            \n",
      "\n",
      "                            \n",
      "                            \n",
      "                                리플맨\n",
      "                                18.03.21.\n",
      "                                39\n",
      "                            \n",
      "\n",
      "                            \n",
      "                            \n",
      "                        \n",
      "\n",
      "                            \n",
      "                            \n",
      "\n",
      "                            \n",
      "                            \n",
      "                            \n",
      "                            \n",
      "\n",
      "                            \n",
      "                            \n",
      "                            \n",
      "                                \n",
      "                                \n",
      "\n",
      "                                \n",
      "                                \n",
      "\n",
      "                                \n",
      "                                시디즈 t40 좋은지 알려주세요!\n",
      "                            \n",
      "\n",
      "                            \n",
      "                            \n",
      "\n",
      "                            \n",
      "                            \n",
      "                                강아지를 키우는 사람\n",
      "                                18.03.11.\n",
      "                                104\n",
      "                            \n",
      "\n",
      "                            \n",
      "                            \n",
      "                        \n",
      "\n",
      "                            \n",
      "                            \n",
      "\n",
      "                            \n",
      "                            \n",
      "                            \n",
      "                            \n",
      "\n",
      "                            \n",
      "                            \n",
      "                            \n",
      "                                \n",
      "                                \n",
      "\n",
      "                                \n",
      "                                \n",
      "\n",
      "                                \n",
      "                                내 인생 최악의 의자 시디즈\n",
      "                            \n",
      "\n",
      "                            \n",
      "                            \n",
      "\n",
      "                            \n",
      "                            \n",
      "                                금연왕 스모킹\n",
      "                                18.02.28.\n",
      "                                392\n",
      "                            \n",
      "\n",
      "                            \n",
      "                            \n",
      "                        \n",
      "\n",
      "                            \n",
      "                            \n",
      "\n",
      "                            \n",
      "                            \n",
      "                            \n",
      "                            \n",
      "\n",
      "                            \n",
      "                            \n",
      "                            \n",
      "                                \n",
      "                                \n",
      "\n",
      "                                \n",
      "                                \n",
      "\n",
      "                                \n",
      "                                듀오백의 dk-2500g를 추천합니다.\n",
      "                            \n",
      "\n",
      "                            \n",
      "                            \n",
      "\n",
      "                            \n",
      "                            \n",
      "                                앙둘기\n",
      "                                18.02.26.\n",
      "                                229\n",
      "                            \n",
      "\n",
      "                            \n",
      "                            \n",
      "                        \n",
      "\n",
      "                            \n",
      "                            \n",
      "\n",
      "                            \n",
      "                            \n",
      "                            \n",
      "                            \n",
      "\n",
      "                            \n",
      "                            \n",
      "                            \n",
      "                                \n",
      "                                \n",
      "\n",
      "                                \n",
      "                                \n",
      "\n",
      "                                \n",
      "                                의자..\n",
      "                            \n",
      "\n",
      "                            \n",
      "                            \n",
      "\n",
      "                            \n",
      "                            \n",
      "                                anonymou\n",
      "                                18.02.01.\n",
      "                                29\n",
      "                            \n",
      "\n",
      "                            \n",
      "                            \n",
      "                        \n",
      "\n",
      "                            \n",
      "                            \n",
      "\n",
      "                            \n",
      "                            \n",
      "                            \n",
      "                            \n",
      "\n",
      "                            \n",
      "                            \n",
      "                            \n",
      "                                \n",
      "                                \n",
      "\n",
      "                                \n",
      "                                \n",
      "\n",
      "                                \n",
      "                                새로운 의자를 찾는 중입니다 :)\n",
      "                            \n",
      "\n",
      "                            \n",
      "                            \n",
      "\n",
      "                            \n",
      "                            \n",
      "                                그래이피\n",
      "                                18.01.10.\n",
      "                                444\n",
      "                            \n",
      "\n",
      "                            \n",
      "                            \n",
      "                        \n",
      "\n",
      "                            \n",
      "                            \n",
      "\n",
      "                            \n",
      "                            \n",
      "                            \n",
      "                            \n",
      "\n",
      "                            \n",
      "                            \n",
      "                            \n",
      "                                \n",
      "                                \n",
      "\n",
      "                                \n",
      "                                \n",
      "\n",
      "                                \n",
      "                                시디즈 좌식의자 M090\n",
      "                            \n",
      "\n",
      "                            \n",
      "                            \n",
      "\n",
      "                            \n",
      "                            \n",
      "                                에노스\n",
      "                                18.01.09.\n",
      "                                49\n",
      "                            \n",
      "\n",
      "                            \n",
      "                            \n",
      "                        \n",
      "\n",
      "                            \n",
      "                            \n",
      "\n",
      "                            \n",
      "                            \n",
      "                            \n",
      "                            \n",
      "\n",
      "                            \n",
      "                            \n",
      "                            \n",
      "                                \n",
      "                                \n",
      "\n",
      "                                \n",
      "                                \n",
      "\n",
      "                                \n",
      "                                퍼시스 의자\n",
      "                            \n",
      "\n",
      "                            \n",
      "                            \n",
      "\n",
      "                            \n",
      "                            \n",
      "                                unknownK\n",
      "                                18.01.07.\n",
      "                                83\n",
      "                            \n",
      "\n",
      "                            \n",
      "                            \n",
      "                        \n",
      "\n",
      "                            \n",
      "                            \n",
      "\n",
      "                            \n",
      "                            \n",
      "                            \n",
      "                            \n",
      "\n",
      "                            \n",
      "                            \n",
      "                            \n",
      "                                \n",
      "                                \n",
      "\n",
      "                                \n",
      "                                \n",
      "\n",
      "                                \n",
      "                                시디즈 T500HF 앉으면 뒤로 조금 젖혀지는 문제요\n",
      "                            \n",
      "\n",
      "                            \n",
      "                            \n",
      "\n",
      "                            \n",
      "                            \n",
      "                                chrhsu\n",
      "                                17.12.25.\n",
      "                                145\n",
      "                            \n",
      "\n",
      "                            \n",
      "                            \n",
      "                        \n",
      "\n",
      "                            \n",
      "                            \n",
      "\n",
      "                            \n",
      "                            \n",
      "                            \n",
      "                            \n",
      "\n",
      "                            \n",
      "                            \n",
      "                            \n",
      "                                \n",
      "                                \n",
      "\n",
      "                                \n",
      "                                \n",
      "\n",
      "                                \n",
      "                                시디즈 t550hlda 더블라셀 9개월사용기\n",
      "                            \n",
      "\n",
      "                            \n",
      "                            \n",
      "\n",
      "                            \n",
      "                            \n",
      "                                근육옹\n",
      "                                17.12.24.\n",
      "                                410\n",
      "                            \n",
      "\n",
      "                            \n",
      "                            \n",
      "                        \n",
      "\n",
      "                            \n",
      "                            \n",
      "\n",
      "                            \n",
      "                            \n",
      "                            \n",
      "                            \n",
      "\n",
      "                            \n",
      "                            \n",
      "                            \n",
      "                                \n",
      "                                \n",
      "\n",
      "                                \n",
      "                                \n",
      "\n",
      "                                \n",
      "                                제 의자는 파트라제품입니다..\n",
      "                            \n",
      "\n",
      "                            \n",
      "                            \n",
      "\n",
      "                            \n",
      "                            \n",
      "                                hohe\n",
      "                                17.12.18.\n",
      "                                255\n",
      "                            \n",
      "\n",
      "                            \n",
      "                            \n",
      "                        \n",
      "\n",
      "                            \n",
      "                            \n",
      "\n",
      "                            \n",
      "                            \n",
      "                            \n",
      "                            \n",
      "\n",
      "                            \n",
      "                            \n",
      "                            \n",
      "                                \n",
      "                                \n",
      "\n",
      "                                \n",
      "                                \n",
      "\n",
      "                                \n",
      "                                시디즈 T 500 HLDA 요추지지대\n",
      "                            \n",
      "\n",
      "                            \n",
      "                            \n",
      "\n",
      "                            \n",
      "                            \n",
      "                                춘동이\n",
      "                                17.12.09.\n",
      "                                252\n",
      "                            \n",
      "\n",
      "                            \n",
      "                            \n",
      "                        \n",
      "\n",
      "                            \n",
      "                            \n",
      "\n",
      "                            \n",
      "                            \n",
      "                            \n",
      "                            \n",
      "\n",
      "                            \n",
      "                            \n",
      "                            \n",
      "                                \n",
      "                                \n",
      "\n",
      "                                \n",
      "                                \n",
      "\n",
      "                                \n",
      "                                제의자는요\n",
      "                            \n",
      "\n",
      "                            \n",
      "                            \n",
      "\n",
      "                            \n",
      "                            \n",
      "                                ahah6655\n",
      "                                17.11.21.\n",
      "                                126\n",
      "                            \n",
      "\n",
      "                            \n",
      "                            \n",
      "                        \n",
      "\n",
      "                            \n",
      "                            \n",
      "\n",
      "                            \n",
      "                            \n",
      "                            \n",
      "                            \n",
      "\n",
      "                            \n",
      "                            \n",
      "                            \n",
      "                                \n",
      "                                \n",
      "\n",
      "                                \n",
      "                                \n",
      "\n",
      "                                \n",
      "                                시디즈 t500hf랑 hlda랑 차이가 많나요?\n",
      "                            \n",
      "\n",
      "                            \n",
      "                            \n",
      "\n",
      "                            \n",
      "                            \n",
      "                                배꾸우\n",
      "                                17.11.18.\n",
      "                                75\n",
      "                            \n",
      "\n",
      "                            \n",
      "                            \n",
      "                        \n",
      "\n",
      "                            \n",
      "                            \n",
      "\n",
      "                            \n",
      "                            \n",
      "                            \n",
      "                            \n",
      "\n",
      "                            \n",
      "                            \n",
      "                            \n",
      "                                \n",
      "                                \n",
      "\n",
      "                                \n",
      "                                \n",
      "\n",
      "                                \n",
      "                                립체어와.. 스탠딩 테이블\n",
      "                            \n",
      "\n",
      "                            \n",
      "                            \n",
      "\n",
      "                            \n",
      "                            \n",
      "                                케이론\n",
      "                                17.11.18.\n",
      "                                253\n",
      "                            \n",
      "\n",
      "                            \n",
      "                            \n",
      "                        \n",
      "\n",
      "                            \n",
      "                            \n",
      "\n",
      "                            \n",
      "                            \n",
      "                            \n",
      "                            \n",
      "\n",
      "                            \n",
      "                            \n",
      "                            \n",
      "                                \n",
      "                                \n",
      "\n",
      "                                \n",
      "                                \n",
      "\n",
      "                                \n",
      "                                뉴타이탄 사용기\n",
      "                            \n",
      "\n",
      "                            \n",
      "                            \n",
      "\n",
      "                            \n",
      "                            \n",
      "                                원빠이\n",
      "                                17.11.17.\n",
      "                                59\n",
      "                            \n",
      "\n",
      "                            \n",
      "                            \n",
      "                        \n",
      "\n",
      "                            \n",
      "                            \n",
      "\n",
      "                            \n",
      "                            \n",
      "                            \n",
      "                            \n",
      "\n",
      "                            \n",
      "                            \n",
      "                            \n",
      "                                \n",
      "                                \n",
      "\n",
      "                                \n",
      "                                \n",
      "\n",
      "                                \n",
      "                                럼버서포트+매쉬소재 쓰레기중의 쓰레깁니다. 절대사지마세요.\n",
      "                            \n",
      "\n",
      "                            \n",
      "                            \n",
      "\n",
      "                            \n",
      "                            \n",
      "                                난만한\n",
      "                                17.11.15.\n",
      "                                509\n",
      "                            \n",
      "\n",
      "                            \n",
      "                            \n",
      "                        \n",
      "\n",
      "                            \n",
      "                            \n",
      "\n",
      "                            \n",
      "                            \n",
      "                            \n",
      "                            \n",
      "\n",
      "                            \n",
      "                            \n",
      "                            \n",
      "                                \n",
      "                                \n",
      "\n",
      "                                \n",
      "                                \n",
      "\n",
      "                                \n",
      "                                립체어 a/s에 관하여..\n",
      "                            \n",
      "\n",
      "                            \n",
      "                            \n",
      "\n",
      "                            \n",
      "                            \n",
      "                                케이론\n",
      "                                17.11.01.\n",
      "                                192\n",
      "                            \n",
      "\n",
      "                            \n",
      "                            \n",
      "                        \n",
      "\n",
      "                            \n",
      "                            \n",
      "\n",
      "                            \n",
      "                            \n",
      "                            \n",
      "                            \n",
      "\n",
      "                            \n",
      "                            \n",
      "                            \n",
      "                                \n",
      "                                \n",
      "\n",
      "                                \n",
      "                                \n",
      "\n",
      "                                \n",
      "                                만나자마자 이별.. 립체어 ㅠ\n",
      "                            \n",
      "\n",
      "                            \n",
      "                            \n",
      "\n",
      "                            \n",
      "                            \n",
      "                                케이론\n",
      "                                17.11.01.\n",
      "                                447\n",
      "                            \n",
      "\n",
      "                            \n",
      "                            \n",
      "                        \n",
      "\n",
      "                            \n",
      "                            \n",
      "\n",
      "                            \n",
      "                            \n",
      "                            \n",
      "                            \n",
      "\n",
      "                            \n",
      "                            \n",
      "                            \n",
      "                                \n",
      "                                \n",
      "\n",
      "                                \n",
      "                                \n",
      "\n",
      "                                \n",
      "                                스틸케이스 립체어 후기\n",
      "                            \n",
      "\n",
      "                            \n",
      "                            \n",
      "\n",
      "                            \n",
      "                            \n",
      "                                asd123\n",
      "                                17.11.01.\n",
      "                                263\n",
      "                            \n",
      "\n",
      "                            \n",
      "                            \n",
      "                        \n"
     ]
    }
   ],
   "source": [
    "for link in root.cssselect('a.txt_area'):\n",
    "    print(link.text_content())"
   ]
  },
  {
   "cell_type": "code",
   "execution_count": 32,
   "metadata": {
    "collapsed": true
   },
   "outputs": [],
   "source": [
    "urls = []\n",
    "for link in root.cssselect('a.txt_area'):\n",
    "    urls.append(link.attrib['href'])"
   ]
  },
  {
   "cell_type": "code",
   "execution_count": 33,
   "metadata": {
    "collapsed": false
   },
   "outputs": [
    {
     "data": {
      "text/plain": [
       "['/ArticleRead.nhn?clubid=19773565&articleid=76739&page=1&boardtype=L&menuid=101',\n",
       " '/ArticleRead.nhn?clubid=19773565&articleid=76535&page=1&boardtype=L&menuid=101',\n",
       " '/ArticleRead.nhn?clubid=19773565&articleid=76271&page=1&boardtype=L&menuid=101',\n",
       " '/ArticleRead.nhn?clubid=19773565&articleid=76242&page=1&boardtype=L&menuid=101',\n",
       " '/ArticleRead.nhn?clubid=19773565&articleid=75652&page=1&boardtype=L&menuid=101',\n",
       " '/ArticleRead.nhn?clubid=19773565&articleid=75109&page=1&boardtype=L&menuid=101',\n",
       " '/ArticleRead.nhn?clubid=19773565&articleid=75072&page=1&boardtype=L&menuid=101',\n",
       " '/ArticleRead.nhn?clubid=19773565&articleid=75031&page=1&boardtype=L&menuid=101',\n",
       " '/ArticleRead.nhn?clubid=19773565&articleid=74755&page=1&boardtype=L&menuid=101',\n",
       " '/ArticleRead.nhn?clubid=19773565&articleid=74733&page=1&boardtype=L&menuid=101',\n",
       " '/ArticleRead.nhn?clubid=19773565&articleid=74647&page=1&boardtype=L&menuid=101',\n",
       " '/ArticleRead.nhn?clubid=19773565&articleid=74510&page=1&boardtype=L&menuid=101',\n",
       " '/ArticleRead.nhn?clubid=19773565&articleid=74187&page=1&boardtype=L&menuid=101',\n",
       " '/ArticleRead.nhn?clubid=19773565&articleid=74150&page=1&boardtype=L&menuid=101',\n",
       " '/ArticleRead.nhn?clubid=19773565&articleid=74149&page=1&boardtype=L&menuid=101',\n",
       " '/ArticleRead.nhn?clubid=19773565&articleid=74135&page=1&boardtype=L&menuid=101',\n",
       " '/ArticleRead.nhn?clubid=19773565&articleid=74123&page=1&boardtype=L&menuid=101',\n",
       " '/ArticleRead.nhn?clubid=19773565&articleid=73861&page=1&boardtype=L&menuid=101',\n",
       " '/ArticleRead.nhn?clubid=19773565&articleid=73860&page=1&boardtype=L&menuid=101',\n",
       " '/ArticleRead.nhn?clubid=19773565&articleid=73857&page=1&boardtype=L&menuid=101']"
      ]
     },
     "execution_count": 33,
     "metadata": {},
     "output_type": "execute_result"
    }
   ],
   "source": [
    "urls"
   ]
  },
  {
   "cell_type": "markdown",
   "metadata": {},
   "source": [
    "### ***"
   ]
  },
  {
   "cell_type": "code",
   "execution_count": 54,
   "metadata": {
    "collapsed": true
   },
   "outputs": [],
   "source": [
    "from urllib.parse import urljoin"
   ]
  },
  {
   "cell_type": "code",
   "execution_count": 55,
   "metadata": {
    "collapsed": true
   },
   "outputs": [],
   "source": [
    "url = 'https://m.cafe.naver.com/ArticleList.nhn?search.clubid=19773565&search.menuid=101&search.boardtype=L'"
   ]
  },
  {
   "cell_type": "code",
   "execution_count": 56,
   "metadata": {
    "collapsed": false
   },
   "outputs": [],
   "source": [
    "res = requests.get(url)\n",
    "root = lxml.html.fromstring(res.text)"
   ]
  },
  {
   "cell_type": "code",
   "execution_count": 57,
   "metadata": {
    "collapsed": true
   },
   "outputs": [],
   "source": [
    "urls = []\n",
    "\n",
    "for link in root.cssselect('a.txt_area'):\n",
    "    href = urljoin(url, link.attrib['href'])\n",
    "    urls.append(href)"
   ]
  },
  {
   "cell_type": "code",
   "execution_count": 58,
   "metadata": {
    "collapsed": false
   },
   "outputs": [
    {
     "data": {
      "text/plain": [
       "['https://m.cafe.naver.com/ArticleRead.nhn?clubid=19773565&articleid=76739&page=1&boardtype=L&menuid=101',\n",
       " 'https://m.cafe.naver.com/ArticleRead.nhn?clubid=19773565&articleid=76535&page=1&boardtype=L&menuid=101',\n",
       " 'https://m.cafe.naver.com/ArticleRead.nhn?clubid=19773565&articleid=76271&page=1&boardtype=L&menuid=101',\n",
       " 'https://m.cafe.naver.com/ArticleRead.nhn?clubid=19773565&articleid=76242&page=1&boardtype=L&menuid=101',\n",
       " 'https://m.cafe.naver.com/ArticleRead.nhn?clubid=19773565&articleid=75652&page=1&boardtype=L&menuid=101',\n",
       " 'https://m.cafe.naver.com/ArticleRead.nhn?clubid=19773565&articleid=75109&page=1&boardtype=L&menuid=101',\n",
       " 'https://m.cafe.naver.com/ArticleRead.nhn?clubid=19773565&articleid=75072&page=1&boardtype=L&menuid=101',\n",
       " 'https://m.cafe.naver.com/ArticleRead.nhn?clubid=19773565&articleid=75031&page=1&boardtype=L&menuid=101',\n",
       " 'https://m.cafe.naver.com/ArticleRead.nhn?clubid=19773565&articleid=74755&page=1&boardtype=L&menuid=101',\n",
       " 'https://m.cafe.naver.com/ArticleRead.nhn?clubid=19773565&articleid=74733&page=1&boardtype=L&menuid=101',\n",
       " 'https://m.cafe.naver.com/ArticleRead.nhn?clubid=19773565&articleid=74647&page=1&boardtype=L&menuid=101',\n",
       " 'https://m.cafe.naver.com/ArticleRead.nhn?clubid=19773565&articleid=74510&page=1&boardtype=L&menuid=101',\n",
       " 'https://m.cafe.naver.com/ArticleRead.nhn?clubid=19773565&articleid=74187&page=1&boardtype=L&menuid=101',\n",
       " 'https://m.cafe.naver.com/ArticleRead.nhn?clubid=19773565&articleid=74150&page=1&boardtype=L&menuid=101',\n",
       " 'https://m.cafe.naver.com/ArticleRead.nhn?clubid=19773565&articleid=74149&page=1&boardtype=L&menuid=101',\n",
       " 'https://m.cafe.naver.com/ArticleRead.nhn?clubid=19773565&articleid=74135&page=1&boardtype=L&menuid=101',\n",
       " 'https://m.cafe.naver.com/ArticleRead.nhn?clubid=19773565&articleid=74123&page=1&boardtype=L&menuid=101',\n",
       " 'https://m.cafe.naver.com/ArticleRead.nhn?clubid=19773565&articleid=73861&page=1&boardtype=L&menuid=101',\n",
       " 'https://m.cafe.naver.com/ArticleRead.nhn?clubid=19773565&articleid=73860&page=1&boardtype=L&menuid=101',\n",
       " 'https://m.cafe.naver.com/ArticleRead.nhn?clubid=19773565&articleid=73857&page=1&boardtype=L&menuid=101']"
      ]
     },
     "execution_count": 58,
     "metadata": {},
     "output_type": "execute_result"
    }
   ],
   "source": [
    "urls"
   ]
  },
  {
   "cell_type": "markdown",
   "metadata": {},
   "source": [
    "# @ 강의노트"
   ]
  },
  {
   "cell_type": "code",
   "execution_count": 59,
   "metadata": {
    "collapsed": true
   },
   "outputs": [],
   "source": [
    "import requests  \n",
    "import lxml.html  \n",
    "from urllib.parse import urljoin"
   ]
  },
  {
   "cell_type": "code",
   "execution_count": 60,
   "metadata": {
    "collapsed": true
   },
   "outputs": [],
   "source": [
    "url = 'https://m.cafe.naver.com/ArticleList.nhn?search.clubid=19773565&search.menuid=142&search.boardtype=L'"
   ]
  },
  {
   "cell_type": "code",
   "execution_count": 61,
   "metadata": {
    "collapsed": true
   },
   "outputs": [],
   "source": [
    "naver_param = {'search.page': 1}"
   ]
  },
  {
   "cell_type": "code",
   "execution_count": null,
   "metadata": {
    "collapsed": true
   },
   "outputs": [],
   "source": [
    "res = requests.get(url, param=naver_param)"
   ]
  },
  {
   "cell_type": "code",
   "execution_count": 63,
   "metadata": {
    "collapsed": true
   },
   "outputs": [],
   "source": [
    "elements = lxml.html.fromstring(res.text)"
   ]
  },
  {
   "cell_type": "code",
   "execution_count": null,
   "metadata": {
    "collapsed": true
   },
   "outputs": [],
   "source": [
    "postings = elements.cssselect('li.board_box .txt_area')"
   ]
  },
  {
   "cell_type": "code",
   "execution_count": null,
   "metadata": {
    "collapsed": true
   },
   "outputs": [],
   "source": [
    "href_list = [a.attrib['href'] for a in postings]"
   ]
  },
  {
   "cell_type": "code",
   "execution_count": null,
   "metadata": {
    "collapsed": true
   },
   "outputs": [],
   "source": [
    "href_list"
   ]
  },
  {
   "cell_type": "code",
   "execution_count": null,
   "metadata": {
    "collapsed": true
   },
   "outputs": [],
   "source": [
    "base_url = 'https://m.cafe.naver.com'"
   ]
  },
  {
   "cell_type": "code",
   "execution_count": null,
   "metadata": {
    "collapsed": true
   },
   "outputs": [],
   "source": [
    "new_urls = [urljoin(base_url, i) for i in href]"
   ]
  },
  {
   "cell_type": "code",
   "execution_count": null,
   "metadata": {
    "collapsed": true
   },
   "outputs": [],
   "source": [
    "len(new_urls)"
   ]
  },
  {
   "cell_type": "code",
   "execution_count": null,
   "metadata": {
    "collapsed": true
   },
   "outputs": [],
   "source": [
    "headers = {'referer': 'https://m.search.naver.com/search.naver?query=1'}"
   ]
  },
  {
   "cell_type": "code",
   "execution_count": null,
   "metadata": {
    "collapsed": true
   },
   "outputs": [],
   "source": [
    "url2 = new_urls[1]  # new_urls 목록 중, 두 번째 게시글에 접속한다.\n",
    "# requests.get() 에 url 주소와 headers 를 같이 넘겨준다.\n",
    "res2 = requests.get(url2, headers=headers)  \n",
    "element2 = lxml.html.fromstring(res2.text)"
   ]
  },
  {
   "cell_type": "code",
   "execution_count": null,
   "metadata": {
    "collapsed": true
   },
   "outputs": [],
   "source": [
    "element2.cssselect('h2.tit')[0].text_content()  # 해당 태그의 텍스트 정보를 가져온다."
   ]
  },
  {
   "cell_type": "code",
   "execution_count": null,
   "metadata": {
    "collapsed": true
   },
   "outputs": [],
   "source": [
    "body = element2.cssselect('div#postContent')[0].text_content() \n",
    "body"
   ]
  },
  {
   "cell_type": "code",
   "execution_count": null,
   "metadata": {
    "collapsed": true
   },
   "outputs": [],
   "source": [
    "body.strip()  # .strip() 을 통하여 불필요한 단어를 정리한다"
   ]
  },
  {
   "cell_type": "code",
   "execution_count": null,
   "metadata": {
    "collapsed": true
   },
   "outputs": [],
   "source": [
    "titles = []   # 제목을 저장해둘 빈 리스트를 생성한다.\n",
    "contents = []   # 본문을 저장할 빈 리스트를 생성한다."
   ]
  },
  {
   "cell_type": "code",
   "execution_count": null,
   "metadata": {
    "collapsed": true
   },
   "outputs": [],
   "source": [
    "for i in new_urls:  \n",
    "    res = requests.get(i, headers=headers)\n",
    "    element = lxml.html.fromstring(res.text) \n",
    "\n",
    "    try:   # try 후에, 제목을 가져오는 코드를 실행한다.\n",
    "        title = element.cssselect('h2.tit')[0].text_content()  \n",
    "    except IndexError:   # 만약 인덱스 에러가 발생한다면, except 부분으로 넘어간다.\n",
    "        continue   # continue 를 하여, 해당 게시물을 건너 뛴다.\n",
    "    titles.append(title)  # 제목을 titles 에 append 한다.\n",
    "\n",
    "    # 본문\n",
    "    body = element.cssselect('div#postContent')[0].text_content().strip() \n",
    "    contents.append(body)  # 추출한 본문을 contents 에 append 한다."
   ]
  },
  {
   "cell_type": "code",
   "execution_count": null,
   "metadata": {
    "collapsed": true
   },
   "outputs": [],
   "source": [
    "import pandas as pd"
   ]
  },
  {
   "cell_type": "code",
   "execution_count": null,
   "metadata": {
    "collapsed": true
   },
   "outputs": [],
   "source": [
    "pd.DataFrame({'제목': titles, '본문': contents})"
   ]
  },
  {
   "cell_type": "code",
   "execution_count": null,
   "metadata": {
    "collapsed": true
   },
   "outputs": [],
   "source": []
  },
  {
   "cell_type": "code",
   "execution_count": null,
   "metadata": {
    "collapsed": true
   },
   "outputs": [],
   "source": []
  },
  {
   "cell_type": "code",
   "execution_count": null,
   "metadata": {
    "collapsed": true
   },
   "outputs": [],
   "source": []
  }
 ],
 "metadata": {
  "anaconda-cloud": {},
  "kernelspec": {
   "display_name": "Python [default]",
   "language": "python",
   "name": "python3"
  },
  "language_info": {
   "codemirror_mode": {
    "name": "ipython",
    "version": 3
   },
   "file_extension": ".py",
   "mimetype": "text/x-python",
   "name": "python",
   "nbconvert_exporter": "python",
   "pygments_lexer": "ipython3",
   "version": "3.5.4"
  }
 },
 "nbformat": 4,
 "nbformat_minor": 1
}
