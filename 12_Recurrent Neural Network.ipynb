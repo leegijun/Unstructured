{
 "cells": [
  {
   "cell_type": "code",
   "execution_count": 14,
   "metadata": {
    "collapsed": false,
    "scrolled": true
   },
   "outputs": [
    {
     "name": "stdout",
     "output_type": "stream",
     "text": [
      "Requirement already satisfied: selenium in /Users/standard/anaconda/lib/python3.5/site-packages (3.8.0)\r\n"
     ]
    }
   ],
   "source": [
    "!pip install selenium"
   ]
  },
  {
   "cell_type": "code",
   "execution_count": 15,
   "metadata": {
    "collapsed": false
   },
   "outputs": [
    {
     "name": "stdout",
     "output_type": "stream",
     "text": [
      "Requirement already up-to-date: pip in /Users/standard/anaconda/lib/python3.5/site-packages (10.0.1)\r\n"
     ]
    }
   ],
   "source": [
    "!pip install --upgrade pip"
   ]
  },
  {
   "cell_type": "code",
   "execution_count": 16,
   "metadata": {
    "collapsed": false
   },
   "outputs": [
    {
     "data": {
      "text/plain": [
       "'/Users/standard/Desktop/TextMining'"
      ]
     },
     "execution_count": 16,
     "metadata": {},
     "output_type": "execute_result"
    }
   ],
   "source": [
    "import os   \n",
    "os.getcwd()   "
   ]
  },
  {
   "cell_type": "markdown",
   "metadata": {},
   "source": [
    "# # 셀레늄으로 트립어드바이저 스크랩"
   ]
  },
  {
   "cell_type": "code",
   "execution_count": 17,
   "metadata": {
    "collapsed": true
   },
   "outputs": [],
   "source": [
    "from selenium.webdriver import Chrome"
   ]
  },
  {
   "cell_type": "code",
   "execution_count": 23,
   "metadata": {
    "collapsed": true
   },
   "outputs": [],
   "source": [
    "browser = Chrome('./chromedriver')"
   ]
  },
  {
   "cell_type": "code",
   "execution_count": 22,
   "metadata": {
    "collapsed": false
   },
   "outputs": [
    {
     "name": "stdout",
     "output_type": "stream",
     "text": [
      "Help on class WebDriver in module selenium.webdriver.chrome.webdriver:\n",
      "\n",
      "class WebDriver(selenium.webdriver.remote.webdriver.WebDriver)\n",
      " |  Controls the ChromeDriver and allows you to drive the browser.\n",
      " |  \n",
      " |  You will need to download the ChromeDriver executable from\n",
      " |  http://chromedriver.storage.googleapis.com/index.html\n",
      " |  \n",
      " |  Method resolution order:\n",
      " |      WebDriver\n",
      " |      selenium.webdriver.remote.webdriver.WebDriver\n",
      " |      builtins.object\n",
      " |  \n",
      " |  Methods defined here:\n",
      " |  \n",
      " |  __init__(self, executable_path='chromedriver', port=0, options=None, service_args=None, desired_capabilities=None, service_log_path=None, chrome_options=None)\n",
      " |      Creates a new instance of the chrome driver.\n",
      " |      \n",
      " |      Starts the service and then creates new instance of chrome driver.\n",
      " |      \n",
      " |      :Args:\n",
      " |       - executable_path - path to the executable. If the default is used it assumes the executable is in the $PATH\n",
      " |       - port - port you would like the service to run, if left as 0, a free port will be found.\n",
      " |       - desired_capabilities: Dictionary object with non-browser specific\n",
      " |         capabilities only, such as \"proxy\" or \"loggingPref\".\n",
      " |       - options: this takes an instance of ChromeOptions\n",
      " |  \n",
      " |  create_options(self)\n",
      " |  \n",
      " |  get_network_conditions(self)\n",
      " |      Gets Chrome network emulation settings.\n",
      " |      \n",
      " |      :Returns:\n",
      " |          A dict. For example:\n",
      " |      \n",
      " |          {'latency': 4, 'download_throughput': 2, 'upload_throughput': 2,\n",
      " |          'offline': False}\n",
      " |  \n",
      " |  launch_app(self, id)\n",
      " |      Launches Chrome app specified by id.\n",
      " |  \n",
      " |  quit(self)\n",
      " |      Closes the browser and shuts down the ChromeDriver executable\n",
      " |      that is started when starting the ChromeDriver\n",
      " |  \n",
      " |  set_network_conditions(self, **network_conditions)\n",
      " |      Sets Chrome network emulation settings.\n",
      " |      \n",
      " |      :Args:\n",
      " |       - network_conditions: A dict with conditions specification.\n",
      " |      \n",
      " |      :Usage:\n",
      " |          driver.set_network_conditions(\n",
      " |              offline=False,\n",
      " |              latency=5,  # additional latency (ms)\n",
      " |              download_throughput=500 * 1024,  # maximal throughput\n",
      " |              upload_throughput=500 * 1024)  # maximal throughput\n",
      " |      \n",
      " |          Note: 'throughput' can be used to set both (for download and upload).\n",
      " |  \n",
      " |  ----------------------------------------------------------------------\n",
      " |  Methods inherited from selenium.webdriver.remote.webdriver.WebDriver:\n",
      " |  \n",
      " |  __repr__(self)\n",
      " |      Return repr(self).\n",
      " |  \n",
      " |  add_cookie(self, cookie_dict)\n",
      " |      Adds a cookie to your current session.\n",
      " |      \n",
      " |      :Args:\n",
      " |       - cookie_dict: A dictionary object, with required keys - \"name\" and \"value\";\n",
      " |          optional keys - \"path\", \"domain\", \"secure\", \"expiry\"\n",
      " |      \n",
      " |      Usage:\n",
      " |          driver.add_cookie({'name' : 'foo', 'value' : 'bar'})\n",
      " |          driver.add_cookie({'name' : 'foo', 'value' : 'bar', 'path' : '/'})\n",
      " |          driver.add_cookie({'name' : 'foo', 'value' : 'bar', 'path' : '/', 'secure':True})\n",
      " |  \n",
      " |  back(self)\n",
      " |      Goes one step backward in the browser history.\n",
      " |      \n",
      " |      :Usage:\n",
      " |          driver.back()\n",
      " |  \n",
      " |  close(self)\n",
      " |      Closes the current window.\n",
      " |      \n",
      " |      :Usage:\n",
      " |          driver.close()\n",
      " |  \n",
      " |  create_web_element(self, element_id)\n",
      " |      Creates a web element with the specified `element_id`.\n",
      " |  \n",
      " |  delete_all_cookies(self)\n",
      " |      Delete all cookies in the scope of the session.\n",
      " |      \n",
      " |      :Usage:\n",
      " |          driver.delete_all_cookies()\n",
      " |  \n",
      " |  delete_cookie(self, name)\n",
      " |      Deletes a single cookie with the given name.\n",
      " |      \n",
      " |      :Usage:\n",
      " |          driver.delete_cookie('my_cookie')\n",
      " |  \n",
      " |  execute(self, driver_command, params=None)\n",
      " |      Sends a command to be executed by a command.CommandExecutor.\n",
      " |      \n",
      " |      :Args:\n",
      " |       - driver_command: The name of the command to execute as a string.\n",
      " |       - params: A dictionary of named parameters to send with the command.\n",
      " |      \n",
      " |      :Returns:\n",
      " |        The command's JSON response loaded into a dictionary object.\n",
      " |  \n",
      " |  execute_async_script(self, script, *args)\n",
      " |      Asynchronously Executes JavaScript in the current window/frame.\n",
      " |      \n",
      " |      :Args:\n",
      " |       - script: The JavaScript to execute.\n",
      " |       - \\*args: Any applicable arguments for your JavaScript.\n",
      " |      \n",
      " |      :Usage:\n",
      " |          driver.execute_async_script('document.title')\n",
      " |  \n",
      " |  execute_script(self, script, *args)\n",
      " |      Synchronously Executes JavaScript in the current window/frame.\n",
      " |      \n",
      " |      :Args:\n",
      " |       - script: The JavaScript to execute.\n",
      " |       - \\*args: Any applicable arguments for your JavaScript.\n",
      " |      \n",
      " |      :Usage:\n",
      " |          driver.execute_script('document.title')\n",
      " |  \n",
      " |  file_detector_context(self, file_detector_class, *args, **kwargs)\n",
      " |      Overrides the current file detector (if necessary) in limited context.\n",
      " |      Ensures the original file detector is set afterwards.\n",
      " |      \n",
      " |      Example:\n",
      " |      \n",
      " |      with webdriver.file_detector_context(UselessFileDetector):\n",
      " |          someinput.send_keys('/etc/hosts')\n",
      " |      \n",
      " |      :Args:\n",
      " |       - file_detector_class - Class of the desired file detector. If the class is different\n",
      " |           from the current file_detector, then the class is instantiated with args and kwargs\n",
      " |           and used as a file detector during the duration of the context manager.\n",
      " |       - args - Optional arguments that get passed to the file detector class during\n",
      " |           instantiation.\n",
      " |       - kwargs - Keyword arguments, passed the same way as args.\n",
      " |  \n",
      " |  find_element(self, by='id', value=None)\n",
      " |      'Private' method used by the find_element_by_* methods.\n",
      " |      \n",
      " |      :Usage:\n",
      " |          Use the corresponding find_element_by_* instead of this.\n",
      " |      \n",
      " |      :rtype: WebElement\n",
      " |  \n",
      " |  find_element_by_class_name(self, name)\n",
      " |      Finds an element by class name.\n",
      " |      \n",
      " |      :Args:\n",
      " |       - name: The class name of the element to find.\n",
      " |      \n",
      " |      :Usage:\n",
      " |          driver.find_element_by_class_name('foo')\n",
      " |  \n",
      " |  find_element_by_css_selector(self, css_selector)\n",
      " |      Finds an element by css selector.\n",
      " |      \n",
      " |      :Args:\n",
      " |       - css_selector: The css selector to use when finding elements.\n",
      " |      \n",
      " |      :Usage:\n",
      " |          driver.find_element_by_css_selector('#foo')\n",
      " |  \n",
      " |  find_element_by_id(self, id_)\n",
      " |      Finds an element by id.\n",
      " |      \n",
      " |      :Args:\n",
      " |       - id\\_ - The id of the element to be found.\n",
      " |      \n",
      " |      :Usage:\n",
      " |          driver.find_element_by_id('foo')\n",
      " |  \n",
      " |  find_element_by_link_text(self, link_text)\n",
      " |      Finds an element by link text.\n",
      " |      \n",
      " |      :Args:\n",
      " |       - link_text: The text of the element to be found.\n",
      " |      \n",
      " |      :Usage:\n",
      " |          driver.find_element_by_link_text('Sign In')\n",
      " |  \n",
      " |  find_element_by_name(self, name)\n",
      " |      Finds an element by name.\n",
      " |      \n",
      " |      :Args:\n",
      " |       - name: The name of the element to find.\n",
      " |      \n",
      " |      :Usage:\n",
      " |          driver.find_element_by_name('foo')\n",
      " |  \n",
      " |  find_element_by_partial_link_text(self, link_text)\n",
      " |      Finds an element by a partial match of its link text.\n",
      " |      \n",
      " |      :Args:\n",
      " |       - link_text: The text of the element to partially match on.\n",
      " |      \n",
      " |      :Usage:\n",
      " |          driver.find_element_by_partial_link_text('Sign')\n",
      " |  \n",
      " |  find_element_by_tag_name(self, name)\n",
      " |      Finds an element by tag name.\n",
      " |      \n",
      " |      :Args:\n",
      " |       - name: The tag name of the element to find.\n",
      " |      \n",
      " |      :Usage:\n",
      " |          driver.find_element_by_tag_name('foo')\n",
      " |  \n",
      " |  find_element_by_xpath(self, xpath)\n",
      " |      Finds an element by xpath.\n",
      " |      \n",
      " |      :Args:\n",
      " |       - xpath - The xpath locator of the element to find.\n",
      " |      \n",
      " |      :Usage:\n",
      " |          driver.find_element_by_xpath('//div/td[1]')\n",
      " |  \n",
      " |  find_elements(self, by='id', value=None)\n",
      " |      'Private' method used by the find_elements_by_* methods.\n",
      " |      \n",
      " |      :Usage:\n",
      " |          Use the corresponding find_elements_by_* instead of this.\n",
      " |      \n",
      " |      :rtype: list of WebElement\n",
      " |  \n",
      " |  find_elements_by_class_name(self, name)\n",
      " |      Finds elements by class name.\n",
      " |      \n",
      " |      :Args:\n",
      " |       - name: The class name of the elements to find.\n",
      " |      \n",
      " |      :Usage:\n",
      " |          driver.find_elements_by_class_name('foo')\n",
      " |  \n",
      " |  find_elements_by_css_selector(self, css_selector)\n",
      " |      Finds elements by css selector.\n",
      " |      \n",
      " |      :Args:\n",
      " |       - css_selector: The css selector to use when finding elements.\n",
      " |      \n",
      " |      :Usage:\n",
      " |          driver.find_elements_by_css_selector('.foo')\n",
      " |  \n",
      " |  find_elements_by_id(self, id_)\n",
      " |      Finds multiple elements by id.\n",
      " |      \n",
      " |      :Args:\n",
      " |       - id\\_ - The id of the elements to be found.\n",
      " |      \n",
      " |      :Usage:\n",
      " |          driver.find_elements_by_id('foo')\n",
      " |  \n",
      " |  find_elements_by_link_text(self, text)\n",
      " |      Finds elements by link text.\n",
      " |      \n",
      " |      :Args:\n",
      " |       - link_text: The text of the elements to be found.\n",
      " |      \n",
      " |      :Usage:\n",
      " |          driver.find_elements_by_link_text('Sign In')\n",
      " |  \n",
      " |  find_elements_by_name(self, name)\n",
      " |      Finds elements by name.\n",
      " |      \n",
      " |      :Args:\n",
      " |       - name: The name of the elements to find.\n",
      " |      \n",
      " |      :Usage:\n",
      " |          driver.find_elements_by_name('foo')\n",
      " |  \n",
      " |  find_elements_by_partial_link_text(self, link_text)\n",
      " |      Finds elements by a partial match of their link text.\n",
      " |      \n",
      " |      :Args:\n",
      " |       - link_text: The text of the element to partial match on.\n",
      " |      \n",
      " |      :Usage:\n",
      " |          driver.find_element_by_partial_link_text('Sign')\n",
      " |  \n",
      " |  find_elements_by_tag_name(self, name)\n",
      " |      Finds elements by tag name.\n",
      " |      \n",
      " |      :Args:\n",
      " |       - name: The tag name the use when finding elements.\n",
      " |      \n",
      " |      :Usage:\n",
      " |          driver.find_elements_by_tag_name('foo')\n",
      " |  \n",
      " |  find_elements_by_xpath(self, xpath)\n",
      " |      Finds multiple elements by xpath.\n",
      " |      \n",
      " |      :Args:\n",
      " |       - xpath - The xpath locator of the elements to be found.\n",
      " |      \n",
      " |      :Usage:\n",
      " |          driver.find_elements_by_xpath(\"//div[contains(@class, 'foo')]\")\n",
      " |  \n",
      " |  forward(self)\n",
      " |      Goes one step forward in the browser history.\n",
      " |      \n",
      " |      :Usage:\n",
      " |          driver.forward()\n",
      " |  \n",
      " |  fullscreen_window(self)\n",
      " |      Invokes the window manager-specific 'full screen' operation\n",
      " |  \n",
      " |  get(self, url)\n",
      " |      Loads a web page in the current browser session.\n",
      " |  \n",
      " |  get_cookie(self, name)\n",
      " |      Get a single cookie by name. Returns the cookie if found, None if not.\n",
      " |      \n",
      " |      :Usage:\n",
      " |          driver.get_cookie('my_cookie')\n",
      " |  \n",
      " |  get_cookies(self)\n",
      " |      Returns a set of dictionaries, corresponding to cookies visible in the current session.\n",
      " |      \n",
      " |      :Usage:\n",
      " |          driver.get_cookies()\n",
      " |  \n",
      " |  get_log(self, log_type)\n",
      " |      Gets the log for a given log type\n",
      " |      \n",
      " |      :Args:\n",
      " |       - log_type: type of log that which will be returned\n",
      " |      \n",
      " |      :Usage:\n",
      " |          driver.get_log('browser')\n",
      " |          driver.get_log('driver')\n",
      " |          driver.get_log('client')\n",
      " |          driver.get_log('server')\n",
      " |  \n",
      " |  get_screenshot_as_base64(self)\n",
      " |      Gets the screenshot of the current window as a base64 encoded string\n",
      " |         which is useful in embedded images in HTML.\n",
      " |      \n",
      " |      :Usage:\n",
      " |          driver.get_screenshot_as_base64()\n",
      " |  \n",
      " |  get_screenshot_as_file(self, filename)\n",
      " |      Saves a screenshot of the current window to a PNG image file. Returns\n",
      " |         False if there is any IOError, else returns True. Use full paths in\n",
      " |         your filename.\n",
      " |      \n",
      " |      :Args:\n",
      " |       - filename: The full path you wish to save your screenshot to. This\n",
      " |         should end with a `.png` extension.\n",
      " |      \n",
      " |      :Usage:\n",
      " |          driver.get_screenshot_as_file('/Screenshots/foo.png')\n",
      " |  \n",
      " |  get_screenshot_as_png(self)\n",
      " |      Gets the screenshot of the current window as a binary data.\n",
      " |      \n",
      " |      :Usage:\n",
      " |          driver.get_screenshot_as_png()\n",
      " |  \n",
      " |  get_window_position(self, windowHandle='current')\n",
      " |      Gets the x,y position of the current window.\n",
      " |      \n",
      " |      :Usage:\n",
      " |          driver.get_window_position()\n",
      " |  \n",
      " |  get_window_rect(self)\n",
      " |      Gets the x, y coordinates of the window as well as height and width of\n",
      " |      the current window.\n",
      " |      \n",
      " |      :Usage:\n",
      " |          driver.get_window_rect()\n",
      " |  \n",
      " |  get_window_size(self, windowHandle='current')\n",
      " |      Gets the width and height of the current window.\n",
      " |      \n",
      " |      :Usage:\n",
      " |          driver.get_window_size()\n",
      " |  \n",
      " |  implicitly_wait(self, time_to_wait)\n",
      " |      Sets a sticky timeout to implicitly wait for an element to be found,\n",
      " |         or a command to complete. This method only needs to be called one\n",
      " |         time per session. To set the timeout for calls to\n",
      " |         execute_async_script, see set_script_timeout.\n",
      " |      \n",
      " |      :Args:\n",
      " |       - time_to_wait: Amount of time to wait (in seconds)\n",
      " |      \n",
      " |      :Usage:\n",
      " |          driver.implicitly_wait(30)\n",
      " |  \n",
      " |  maximize_window(self)\n",
      " |      Maximizes the current window that webdriver is using\n",
      " |  \n",
      " |  minimize_window(self)\n",
      " |      Invokes the window manager-specific 'minimize' operation\n",
      " |  \n",
      " |  refresh(self)\n",
      " |      Refreshes the current page.\n",
      " |      \n",
      " |      :Usage:\n",
      " |          driver.refresh()\n",
      " |  \n",
      " |  save_screenshot(self, filename)\n",
      " |      Saves a screenshot of the current window to a PNG image file. Returns\n",
      " |         False if there is any IOError, else returns True. Use full paths in\n",
      " |         your filename.\n",
      " |      \n",
      " |      :Args:\n",
      " |       - filename: The full path you wish to save your screenshot to. This\n",
      " |         should end with a `.png` extension.\n",
      " |      \n",
      " |      :Usage:\n",
      " |          driver.save_screenshot('/Screenshots/foo.png')\n",
      " |  \n",
      " |  set_page_load_timeout(self, time_to_wait)\n",
      " |      Set the amount of time to wait for a page load to complete\n",
      " |         before throwing an error.\n",
      " |      \n",
      " |      :Args:\n",
      " |       - time_to_wait: The amount of time to wait\n",
      " |      \n",
      " |      :Usage:\n",
      " |          driver.set_page_load_timeout(30)\n",
      " |  \n",
      " |  set_script_timeout(self, time_to_wait)\n",
      " |      Set the amount of time that the script should wait during an\n",
      " |         execute_async_script call before throwing an error.\n",
      " |      \n",
      " |      :Args:\n",
      " |       - time_to_wait: The amount of time to wait (in seconds)\n",
      " |      \n",
      " |      :Usage:\n",
      " |          driver.set_script_timeout(30)\n",
      " |  \n",
      " |  set_window_position(self, x, y, windowHandle='current')\n",
      " |      Sets the x,y position of the current window. (window.moveTo)\n",
      " |      \n",
      " |      :Args:\n",
      " |       - x: the x-coordinate in pixels to set the window position\n",
      " |       - y: the y-coordinate in pixels to set the window position\n",
      " |      \n",
      " |      :Usage:\n",
      " |          driver.set_window_position(0,0)\n",
      " |  \n",
      " |  set_window_rect(self, x=None, y=None, width=None, height=None)\n",
      " |      Sets the x, y coordinates of the window as well as height and width of\n",
      " |      the current window.\n",
      " |      \n",
      " |      :Usage:\n",
      " |          driver.set_window_rect(x=10, y=10)\n",
      " |          driver.set_window_rect(width=100, height=200)\n",
      " |          driver.set_window_rect(x=10, y=10, width=100, height=200)\n",
      " |  \n",
      " |  set_window_size(self, width, height, windowHandle='current')\n",
      " |      Sets the width and height of the current window. (window.resizeTo)\n",
      " |      \n",
      " |      :Args:\n",
      " |       - width: the width in pixels to set the window to\n",
      " |       - height: the height in pixels to set the window to\n",
      " |      \n",
      " |      :Usage:\n",
      " |          driver.set_window_size(800,600)\n",
      " |  \n",
      " |  start_client(self)\n",
      " |      Called before starting a new session. This method may be overridden\n",
      " |      to define custom startup behavior.\n",
      " |  \n",
      " |  start_session(self, capabilities, browser_profile=None)\n",
      " |      Creates a new session with the desired capabilities.\n",
      " |      \n",
      " |      :Args:\n",
      " |       - browser_name - The name of the browser to request.\n",
      " |       - version - Which browser version to request.\n",
      " |       - platform - Which platform to request the browser on.\n",
      " |       - javascript_enabled - Whether the new session should support JavaScript.\n",
      " |       - browser_profile - A selenium.webdriver.firefox.firefox_profile.FirefoxProfile object. Only used if Firefox is requested.\n",
      " |  \n",
      " |  stop_client(self)\n",
      " |      Called after executing a quit command. This method may be overridden\n",
      " |      to define custom shutdown behavior.\n",
      " |  \n",
      " |  switch_to_active_element(self)\n",
      " |      Deprecated use driver.switch_to.active_element\n",
      " |  \n",
      " |  switch_to_alert(self)\n",
      " |      Deprecated use driver.switch_to.alert\n",
      " |  \n",
      " |  switch_to_default_content(self)\n",
      " |      Deprecated use driver.switch_to.default_content\n",
      " |  \n",
      " |  switch_to_frame(self, frame_reference)\n",
      " |      Deprecated use driver.switch_to.frame\n",
      " |  \n",
      " |  switch_to_window(self, window_name)\n",
      " |      Deprecated use driver.switch_to.window\n",
      " |  \n",
      " |  ----------------------------------------------------------------------\n",
      " |  Data descriptors inherited from selenium.webdriver.remote.webdriver.WebDriver:\n",
      " |  \n",
      " |  __dict__\n",
      " |      dictionary for instance variables (if defined)\n",
      " |  \n",
      " |  __weakref__\n",
      " |      list of weak references to the object (if defined)\n",
      " |  \n",
      " |  application_cache\n",
      " |      Returns a ApplicationCache Object to interact with the browser app cache\n",
      " |  \n",
      " |  current_url\n",
      " |      Gets the URL of the current page.\n",
      " |      \n",
      " |      :Usage:\n",
      " |          driver.current_url\n",
      " |  \n",
      " |  current_window_handle\n",
      " |      Returns the handle of the current window.\n",
      " |      \n",
      " |      :Usage:\n",
      " |          driver.current_window_handle\n",
      " |  \n",
      " |  desired_capabilities\n",
      " |      returns the drivers current desired capabilities being used\n",
      " |  \n",
      " |  file_detector\n",
      " |  \n",
      " |  log_types\n",
      " |      Gets a list of the available log types\n",
      " |      \n",
      " |      :Usage:\n",
      " |          driver.log_types\n",
      " |  \n",
      " |  mobile\n",
      " |  \n",
      " |  name\n",
      " |      Returns the name of the underlying browser for this instance.\n",
      " |      \n",
      " |      :Usage:\n",
      " |       - driver.name\n",
      " |  \n",
      " |  orientation\n",
      " |      Gets the current orientation of the device\n",
      " |      \n",
      " |      :Usage:\n",
      " |          orientation = driver.orientation\n",
      " |  \n",
      " |  page_source\n",
      " |      Gets the source of the current page.\n",
      " |      \n",
      " |      :Usage:\n",
      " |          driver.page_source\n",
      " |  \n",
      " |  switch_to\n",
      " |  \n",
      " |  title\n",
      " |      Returns the title of the current page.\n",
      " |      \n",
      " |      :Usage:\n",
      " |          driver.title\n",
      " |  \n",
      " |  window_handles\n",
      " |      Returns the handles of all windows within the current session.\n",
      " |      \n",
      " |      :Usage:\n",
      " |          driver.window_handles\n",
      "\n"
     ]
    }
   ],
   "source": [
    "help(Chrome)"
   ]
  },
  {
   "cell_type": "code",
   "execution_count": 20,
   "metadata": {
    "collapsed": true
   },
   "outputs": [],
   "source": [
    "import os"
   ]
  },
  {
   "cell_type": "code",
   "execution_count": 21,
   "metadata": {
    "collapsed": false
   },
   "outputs": [
    {
     "data": {
      "text/plain": [
       "['Python을_활용한_웹_크롤러_만들기_세미나_가이드.pdf',\n",
       " 'm4.krs',\n",
       " '05_WebScraping_0331.ipynb',\n",
       " '09_ImageMachineLearning.ipynb',\n",
       " 'model4-02.hdf5',\n",
       " 'log_model3',\n",
       " '과제',\n",
       " 'log_model4',\n",
       " '.DS_Store',\n",
       " '07_Sentiment Analysis_0414.ipynb',\n",
       " 'model4-03.hdf5',\n",
       " '01_Intro_0303.ipynb',\n",
       " '11_Convolutional Neural Network.ipynb',\n",
       " 'log_model2',\n",
       " '10_Artificial Neural Network.ipynb',\n",
       " 'model4-12.hdf5',\n",
       " 'model4-04.hdf5',\n",
       " 'review.gz',\n",
       " 'model4-08.hdf5',\n",
       " 'poster.jpg',\n",
       " '강의자료',\n",
       " '02_python&word_0310.ipynb',\n",
       " '06_Web Scraping(Daum, Naver).ipynb',\n",
       " 'model4-09.hdf5',\n",
       " '08_Unsupervised Learnining of Text.ipynb',\n",
       " 'model4-05.hdf5',\n",
       " '12_Recurrent Neural Network.ipynb',\n",
       " 'dog-vs-cat.zip',\n",
       " '03_TDM_0317.ipynb',\n",
       " 'dog-vs-cat',\n",
       " 'QnA',\n",
       " 'model4-07.hdf5',\n",
       " '기사.xlsx',\n",
       " 'log_model1',\n",
       " '정규표현식.png',\n",
       " '.ipynb_checkpoints',\n",
       " 'movie_review.csv',\n",
       " 'chromedriver',\n",
       " '04_POS.ipynb',\n",
       " 'data',\n",
       " 'model4-01.hdf5']"
      ]
     },
     "execution_count": 21,
     "metadata": {},
     "output_type": "execute_result"
    }
   ],
   "source": [
    "os.listdir()"
   ]
  },
  {
   "cell_type": "code",
   "execution_count": 65,
   "metadata": {
    "collapsed": true
   },
   "outputs": [],
   "source": [
    "url = 'https://www.tripadvisor.co.kr/Restaurant_Review-g294197-d1371740-Reviews-Mugyodong_Bugeokukjib-Seoul.html'"
   ]
  },
  {
   "cell_type": "code",
   "execution_count": 66,
   "metadata": {
    "collapsed": true
   },
   "outputs": [],
   "source": [
    "browser.get(url)"
   ]
  },
  {
   "cell_type": "markdown",
   "metadata": {},
   "source": [
    "* 더보기\n",
    "<span class = \"taLnK"
   ]
  },
  {
   "cell_type": "code",
   "execution_count": 26,
   "metadata": {
    "collapsed": true
   },
   "outputs": [],
   "source": [
    "more_links = browser.find_elements_by_css_selector('.ulBlueLinks')"
   ]
  },
  {
   "cell_type": "code",
   "execution_count": 27,
   "metadata": {
    "collapsed": true
   },
   "outputs": [],
   "source": [
    "for link in more_links:\n",
    "    try:\n",
    "        link.click()\n",
    "    except:\n",
    "        pass"
   ]
  },
  {
   "cell_type": "code",
   "execution_count": 28,
   "metadata": {
    "collapsed": true
   },
   "outputs": [],
   "source": [
    "reviews = browser.find_elements_by_css_selector('.review-container')"
   ]
  },
  {
   "cell_type": "code",
   "execution_count": 29,
   "metadata": {
    "collapsed": true
   },
   "outputs": [],
   "source": [
    "s = len('ui_bubble_rating bubble_')\n",
    "\n",
    "review_list = []\n",
    "for review in reviews:\n",
    "    # 별점을 찾는다. 하나만 찾기 때문에 단수형 element를 사용\n",
    "    rating = review.find_element_by_css_selector('.ui_bubble_rating')\n",
    "\n",
    "    # 별점에 지정된 클래스를 가져온다 (requests의 .attrib에 해당)\n",
    "    cls = rating.get_attribute('class')\n",
    "\n",
    "    # 앞부분을 떼어내고 정수로 해석한다\n",
    "    score = int(cls[s:])\n",
    "\n",
    "    # 평을 찾는다.\n",
    "    comment = review.find_element_by_css_selector('.partial_entry')\n",
    "\n",
    "    # 점수와 텍스트를 리스트에 추가한다\n",
    "    review_list.append((score, comment.text))"
   ]
  },
  {
   "cell_type": "code",
   "execution_count": 30,
   "metadata": {
    "collapsed": true
   },
   "outputs": [],
   "source": [
    "import pandas"
   ]
  },
  {
   "cell_type": "code",
   "execution_count": 31,
   "metadata": {
    "collapsed": true
   },
   "outputs": [],
   "source": [
    "df = pandas.DataFrame(review_list, columns=['score', 'text'])"
   ]
  },
  {
   "cell_type": "code",
   "execution_count": 32,
   "metadata": {
    "collapsed": false
   },
   "outputs": [
    {
     "data": {
      "text/html": [
       "<div>\n",
       "<style scoped>\n",
       "    .dataframe tbody tr th:only-of-type {\n",
       "        vertical-align: middle;\n",
       "    }\n",
       "\n",
       "    .dataframe tbody tr th {\n",
       "        vertical-align: top;\n",
       "    }\n",
       "\n",
       "    .dataframe thead th {\n",
       "        text-align: right;\n",
       "    }\n",
       "</style>\n",
       "<table border=\"1\" class=\"dataframe\">\n",
       "  <thead>\n",
       "    <tr style=\"text-align: right;\">\n",
       "      <th></th>\n",
       "      <th>score</th>\n",
       "      <th>text</th>\n",
       "    </tr>\n",
       "  </thead>\n",
       "  <tbody>\n",
       "    <tr>\n",
       "      <th>0</th>\n",
       "      <td>40</td>\n",
       "      <td>북어국집이 있는 작은 골목을 지날때마다 많은 사람들이 줄서있는 것을 보면...\\n'...</td>\n",
       "    </tr>\n",
       "    <tr>\n",
       "      <th>1</th>\n",
       "      <td>50</td>\n",
       "      <td>왜 미리 몰랐을까 라고 후회 했던 집\\n정말 맛보시길 추천 합니다\\n\\n일요일 오전...</td>\n",
       "    </tr>\n",
       "    <tr>\n",
       "      <th>2</th>\n",
       "      <td>50</td>\n",
       "      <td>\"숙취에 최고의 음식일 듯, 유명한 만큼 맛았고 친절하고 회전이 빠른 식당\"\\n\"직...</td>\n",
       "    </tr>\n",
       "    <tr>\n",
       "      <th>3</th>\n",
       "      <td>50</td>\n",
       "      <td>변함없늗 속풀이. 깔끔하고 회전 빠르고 가격도 주변에 비해 착함. 포장도 맛있음. ...</td>\n",
       "    </tr>\n",
       "    <tr>\n",
       "      <th>4</th>\n",
       "      <td>40</td>\n",
       "      <td>엄청난 맛집은 아니지만 나쁘지 않음으로 꾸준히 유지가 되는 집. 너무 큰 기대를 가...</td>\n",
       "    </tr>\n",
       "    <tr>\n",
       "      <th>5</th>\n",
       "      <td>50</td>\n",
       "      <td>단일 품목으로 오랫동안 손님들의 사랑을 듬뿍 받는 이곳, 5 년만에 다시 들렀어요....</td>\n",
       "    </tr>\n",
       "    <tr>\n",
       "      <th>6</th>\n",
       "      <td>40</td>\n",
       "      <td>첫느낌은 노포에서 맛볼 수 있는 북어국이 아닐까 했는데,들어가보니\\n전혀 반대입니다...</td>\n",
       "    </tr>\n",
       "    <tr>\n",
       "      <th>7</th>\n",
       "      <td>50</td>\n",
       "      <td>이집은 정말 대한민국에서 최고의 해장 북엉국집이라 인정해요\\n\\n어제 과음으로 힘뜰...</td>\n",
       "    </tr>\n",
       "    <tr>\n",
       "      <th>8</th>\n",
       "      <td>40</td>\n",
       "      <td>짭자름한 북엇국물에 밥 한 공기면, 전날 숙취를 깔끔히 떨어낼 수 있다.\\n가격도 ...</td>\n",
       "    </tr>\n",
       "    <tr>\n",
       "      <th>9</th>\n",
       "      <td>30</td>\n",
       "      <td>명동에 명동교자가 있다면 무교동엔 북어국집이 있습니다..\\n오래된 곳이라는 느낌이지...</td>\n",
       "    </tr>\n",
       "  </tbody>\n",
       "</table>\n",
       "</div>"
      ],
      "text/plain": [
       "   score                                               text\n",
       "0     40  북어국집이 있는 작은 골목을 지날때마다 많은 사람들이 줄서있는 것을 보면...\\n'...\n",
       "1     50  왜 미리 몰랐을까 라고 후회 했던 집\\n정말 맛보시길 추천 합니다\\n\\n일요일 오전...\n",
       "2     50  \"숙취에 최고의 음식일 듯, 유명한 만큼 맛았고 친절하고 회전이 빠른 식당\"\\n\"직...\n",
       "3     50  변함없늗 속풀이. 깔끔하고 회전 빠르고 가격도 주변에 비해 착함. 포장도 맛있음. ...\n",
       "4     40  엄청난 맛집은 아니지만 나쁘지 않음으로 꾸준히 유지가 되는 집. 너무 큰 기대를 가...\n",
       "5     50  단일 품목으로 오랫동안 손님들의 사랑을 듬뿍 받는 이곳, 5 년만에 다시 들렀어요....\n",
       "6     40  첫느낌은 노포에서 맛볼 수 있는 북어국이 아닐까 했는데,들어가보니\\n전혀 반대입니다...\n",
       "7     50  이집은 정말 대한민국에서 최고의 해장 북엉국집이라 인정해요\\n\\n어제 과음으로 힘뜰...\n",
       "8     40  짭자름한 북엇국물에 밥 한 공기면, 전날 숙취를 깔끔히 떨어낼 수 있다.\\n가격도 ...\n",
       "9     30  명동에 명동교자가 있다면 무교동엔 북어국집이 있습니다..\\n오래된 곳이라는 느낌이지..."
      ]
     },
     "execution_count": 32,
     "metadata": {},
     "output_type": "execute_result"
    }
   ],
   "source": [
    "df"
   ]
  },
  {
   "cell_type": "code",
   "execution_count": 33,
   "metadata": {
    "collapsed": true
   },
   "outputs": [],
   "source": [
    "df.to_csv('tripadvisor.csv', encoding='utf8')"
   ]
  },
  {
   "cell_type": "markdown",
   "metadata": {},
   "source": [
    "# # RNN 실습"
   ]
  },
  {
   "cell_type": "code",
   "execution_count": 34,
   "metadata": {
    "collapsed": false
   },
   "outputs": [
    {
     "name": "stderr",
     "output_type": "stream",
     "text": [
      "Using TensorFlow backend.\n"
     ]
    }
   ],
   "source": [
    "import keras"
   ]
  },
  {
   "cell_type": "code",
   "execution_count": 35,
   "metadata": {
    "collapsed": true
   },
   "outputs": [],
   "source": [
    "from keras.datasets import imdb"
   ]
  },
  {
   "cell_type": "code",
   "execution_count": 36,
   "metadata": {
    "collapsed": true
   },
   "outputs": [],
   "source": [
    "data = imdb.load_data()"
   ]
  },
  {
   "cell_type": "code",
   "execution_count": 68,
   "metadata": {
    "collapsed": false
   },
   "outputs": [],
   "source": [
    "# word_index = imdb.get_word_index()"
   ]
  },
  {
   "cell_type": "code",
   "execution_count": 37,
   "metadata": {
    "collapsed": true
   },
   "outputs": [],
   "source": [
    "(x_train, y_train), (x_test, y_test) = data"
   ]
  },
  {
   "cell_type": "code",
   "execution_count": 38,
   "metadata": {
    "collapsed": false
   },
   "outputs": [
    {
     "data": {
      "text/plain": [
       "[1, 14, 22, 16, 43, 530, 973, 1622, 1385, 65]"
      ]
     },
     "execution_count": 38,
     "metadata": {},
     "output_type": "execute_result"
    }
   ],
   "source": [
    "x_train[0][:10]"
   ]
  },
  {
   "cell_type": "code",
   "execution_count": 39,
   "metadata": {
    "collapsed": false
   },
   "outputs": [
    {
     "data": {
      "text/plain": [
       "1"
      ]
     },
     "execution_count": 39,
     "metadata": {},
     "output_type": "execute_result"
    }
   ],
   "source": [
    "y_train[0]"
   ]
  },
  {
   "cell_type": "code",
   "execution_count": 40,
   "metadata": {
    "collapsed": true
   },
   "outputs": [],
   "source": [
    "MAXLEN = 20"
   ]
  },
  {
   "cell_type": "code",
   "execution_count": 41,
   "metadata": {
    "collapsed": true
   },
   "outputs": [],
   "source": [
    "from keras.preprocessing.sequence import pad_sequences\n",
    "from keras.utils import to_categorical"
   ]
  },
  {
   "cell_type": "code",
   "execution_count": 42,
   "metadata": {
    "collapsed": true
   },
   "outputs": [],
   "source": [
    "x_train_seq = pad_sequences(x_train, MAXLEN)\n",
    "x_test_seq = pad_sequences(x_test, MAXLEN)"
   ]
  },
  {
   "cell_type": "code",
   "execution_count": 43,
   "metadata": {
    "collapsed": true
   },
   "outputs": [],
   "source": [
    "NUM_WORDS = x_train_seq.max() + 1"
   ]
  },
  {
   "cell_type": "markdown",
   "metadata": {},
   "source": [
    "# # 앞먹임 신경망"
   ]
  },
  {
   "cell_type": "code",
   "execution_count": 44,
   "metadata": {
    "collapsed": true
   },
   "outputs": [],
   "source": [
    "from keras.models import Sequential\n",
    "from keras.layers import Dense, Embedding, Flatten"
   ]
  },
  {
   "cell_type": "code",
   "execution_count": 45,
   "metadata": {
    "collapsed": true
   },
   "outputs": [],
   "source": [
    "ff = Sequential()\n",
    "ff.add(Embedding(input_dim=NUM_WORDS, output_dim=8, input_length=MAXLEN))\n",
    "ff.add(Flatten())\n",
    "ff.add(Dense(1, activation='sigmoid'))"
   ]
  },
  {
   "cell_type": "code",
   "execution_count": 46,
   "metadata": {
    "collapsed": false
   },
   "outputs": [
    {
     "name": "stdout",
     "output_type": "stream",
     "text": [
      "_________________________________________________________________\n",
      "Layer (type)                 Output Shape              Param #   \n",
      "=================================================================\n",
      "embedding_1 (Embedding)      (None, 20, 8)             708632    \n",
      "_________________________________________________________________\n",
      "flatten_1 (Flatten)          (None, 160)               0         \n",
      "_________________________________________________________________\n",
      "dense_1 (Dense)              (None, 1)                 161       \n",
      "=================================================================\n",
      "Total params: 708,793\n",
      "Trainable params: 708,793\n",
      "Non-trainable params: 0\n",
      "_________________________________________________________________\n"
     ]
    }
   ],
   "source": [
    "ff.summary()"
   ]
  },
  {
   "cell_type": "code",
   "execution_count": 48,
   "metadata": {
    "collapsed": true
   },
   "outputs": [],
   "source": [
    "from keras.optimizers import RMSprop"
   ]
  },
  {
   "cell_type": "code",
   "execution_count": 49,
   "metadata": {
    "collapsed": false
   },
   "outputs": [],
   "source": [
    "ff.compile(optimizer=RMSprop(), loss='binary_crossentropy', metrics=['acc'])"
   ]
  },
  {
   "cell_type": "code",
   "execution_count": 50,
   "metadata": {
    "collapsed": true
   },
   "outputs": [],
   "source": [
    "from keras.callbacks import EarlyStopping"
   ]
  },
  {
   "cell_type": "code",
   "execution_count": 51,
   "metadata": {
    "collapsed": false,
    "scrolled": true
   },
   "outputs": [
    {
     "name": "stdout",
     "output_type": "stream",
     "text": [
      "Train on 20000 samples, validate on 5000 samples\n",
      "Epoch 1/30\n",
      "20000/20000 [==============================] - 2s 123us/step - loss: 0.6889 - acc: 0.5575 - val_loss: 0.6811 - val_acc: 0.6310\n",
      "Epoch 2/30\n",
      "20000/20000 [==============================] - 2s 85us/step - loss: 0.6514 - acc: 0.7297 - val_loss: 0.6389 - val_acc: 0.6902\n",
      "Epoch 3/30\n",
      "20000/20000 [==============================] - 2s 76us/step - loss: 0.5817 - acc: 0.7632 - val_loss: 0.5848 - val_acc: 0.7110\n",
      "Epoch 4/30\n",
      "20000/20000 [==============================] - 1s 74us/step - loss: 0.5111 - acc: 0.7893 - val_loss: 0.5455 - val_acc: 0.7268\n",
      "Epoch 5/30\n",
      "20000/20000 [==============================] - 2s 79us/step - loss: 0.4545 - acc: 0.8128 - val_loss: 0.5205 - val_acc: 0.7388\n",
      "Epoch 6/30\n",
      "20000/20000 [==============================] - 1s 75us/step - loss: 0.4100 - acc: 0.8336 - val_loss: 0.5063 - val_acc: 0.7442\n",
      "Epoch 7/30\n",
      "20000/20000 [==============================] - 2s 92us/step - loss: 0.3733 - acc: 0.8515 - val_loss: 0.4979 - val_acc: 0.7492\n",
      "Epoch 8/30\n",
      "20000/20000 [==============================] - 2s 80us/step - loss: 0.3418 - acc: 0.8686 - val_loss: 0.4947 - val_acc: 0.7512\n",
      "Epoch 9/30\n",
      "20000/20000 [==============================] - 2s 80us/step - loss: 0.3137 - acc: 0.8814 - val_loss: 0.4946 - val_acc: 0.7534\n",
      "Epoch 10/30\n",
      "20000/20000 [==============================] - 2s 82us/step - loss: 0.2884 - acc: 0.8935 - val_loss: 0.4962 - val_acc: 0.7540\n",
      "Epoch 11/30\n",
      "20000/20000 [==============================] - 2s 89us/step - loss: 0.2650 - acc: 0.9041 - val_loss: 0.4999 - val_acc: 0.7506\n"
     ]
    }
   ],
   "source": [
    "history = ff.fit(\n",
    "  x_train_seq,\n",
    "    y_train,\n",
    "    epochs=30,\n",
    "    batch_size=128,\n",
    "    validation_split=0.2,\n",
    "    callbacks=[EarlyStopping(monitor='val_acc')])"
   ]
  },
  {
   "cell_type": "markdown",
   "metadata": {},
   "source": [
    "# # LSTM"
   ]
  },
  {
   "cell_type": "code",
   "execution_count": 52,
   "metadata": {
    "collapsed": true
   },
   "outputs": [],
   "source": [
    "rnn = Sequential()"
   ]
  },
  {
   "cell_type": "code",
   "execution_count": 53,
   "metadata": {
    "collapsed": true
   },
   "outputs": [],
   "source": [
    "from keras.layers import LSTM"
   ]
  },
  {
   "cell_type": "code",
   "execution_count": 54,
   "metadata": {
    "collapsed": true
   },
   "outputs": [],
   "source": [
    "rnn.add(Embedding(input_dim=NUM_WORDS, output_dim=8, input_length=MAXLEN))\n",
    "rnn.add(LSTM(1, activation='sigmoid', return_sequences=False))"
   ]
  },
  {
   "cell_type": "code",
   "execution_count": 55,
   "metadata": {
    "collapsed": false,
    "scrolled": true
   },
   "outputs": [
    {
     "name": "stdout",
     "output_type": "stream",
     "text": [
      "_________________________________________________________________\n",
      "Layer (type)                 Output Shape              Param #   \n",
      "=================================================================\n",
      "embedding_2 (Embedding)      (None, 20, 8)             708632    \n",
      "_________________________________________________________________\n",
      "lstm_1 (LSTM)                (None, 1)                 40        \n",
      "=================================================================\n",
      "Total params: 708,672\n",
      "Trainable params: 708,672\n",
      "Non-trainable params: 0\n",
      "_________________________________________________________________\n"
     ]
    }
   ],
   "source": [
    "rnn.summary()"
   ]
  },
  {
   "cell_type": "code",
   "execution_count": 56,
   "metadata": {
    "collapsed": true
   },
   "outputs": [],
   "source": [
    "rnn.compile(optimizer=RMSprop(), loss='binary_crossentropy', metrics=['accuracy'])"
   ]
  },
  {
   "cell_type": "code",
   "execution_count": 57,
   "metadata": {
    "collapsed": false
   },
   "outputs": [
    {
     "name": "stdout",
     "output_type": "stream",
     "text": [
      "Train on 20000 samples, validate on 5000 samples\n",
      "Epoch 1/30\n",
      "20000/20000 [==============================] - 6s 307us/step - loss: 0.7316 - acc: 0.4985 - val_loss: 0.7005 - val_acc: 0.5062\n",
      "Epoch 2/30\n",
      "20000/20000 [==============================] - 5s 231us/step - loss: 0.6800 - acc: 0.5451 - val_loss: 0.6659 - val_acc: 0.5994\n",
      "Epoch 3/30\n",
      "20000/20000 [==============================] - 5s 227us/step - loss: 0.6487 - acc: 0.6621 - val_loss: 0.6481 - val_acc: 0.6374\n",
      "Epoch 4/30\n",
      "20000/20000 [==============================] - 5s 242us/step - loss: 0.6237 - acc: 0.7046 - val_loss: 0.6306 - val_acc: 0.6538\n",
      "Epoch 5/30\n",
      "20000/20000 [==============================] - 5s 262us/step - loss: 0.5984 - acc: 0.7272 - val_loss: 0.6147 - val_acc: 0.6686\n",
      "Epoch 6/30\n",
      "20000/20000 [==============================] - 5s 247us/step - loss: 0.5746 - acc: 0.7435 - val_loss: 0.6032 - val_acc: 0.6814\n",
      "Epoch 7/30\n",
      "20000/20000 [==============================] - 5s 254us/step - loss: 0.5556 - acc: 0.7500 - val_loss: 0.5962 - val_acc: 0.6778\n"
     ]
    },
    {
     "data": {
      "text/plain": [
       "<keras.callbacks.History at 0x181cf61588>"
      ]
     },
     "execution_count": 57,
     "metadata": {},
     "output_type": "execute_result"
    }
   ],
   "source": [
    "rnn.fit(\n",
    "    x_train_seq,\n",
    "    y_train,\n",
    "    epochs=30,\n",
    "    batch_size=128,\n",
    "    validation_split=0.2,\n",
    "    callbacks=[EarlyStopping(monitor='val_acc')])"
   ]
  },
  {
   "cell_type": "markdown",
   "metadata": {},
   "source": [
    "# # RNN 뒤에 Dense 레이어 붙이기"
   ]
  },
  {
   "cell_type": "code",
   "execution_count": 58,
   "metadata": {
    "collapsed": true
   },
   "outputs": [],
   "source": [
    "rnn2 = Sequential()\n",
    "rnn2.add(Embedding(input_dim=NUM_WORDS, output_dim=8, input_length=MAXLEN))\n",
    "rnn2.add(LSTM(32, activation='tanh', return_sequences=False))\n",
    "rnn2.add(Dense(1, activation='sigmoid'))"
   ]
  },
  {
   "cell_type": "code",
   "execution_count": 59,
   "metadata": {
    "collapsed": true
   },
   "outputs": [],
   "source": [
    "rnn2.compile(optimizer=RMSprop(), loss='binary_crossentropy', metrics=['accuracy'])"
   ]
  },
  {
   "cell_type": "code",
   "execution_count": 60,
   "metadata": {
    "collapsed": false
   },
   "outputs": [
    {
     "name": "stdout",
     "output_type": "stream",
     "text": [
      "Train on 20000 samples, validate on 5000 samples\n",
      "Epoch 1/30\n",
      "20000/20000 [==============================] - 7s 353us/step - loss: 0.6261 - acc: 0.6397 - val_loss: 0.5625 - val_acc: 0.7090\n",
      "Epoch 2/30\n",
      "20000/20000 [==============================] - 5s 269us/step - loss: 0.4792 - acc: 0.7744 - val_loss: 0.5128 - val_acc: 0.7434\n",
      "Epoch 3/30\n",
      "20000/20000 [==============================] - 5s 267us/step - loss: 0.4057 - acc: 0.8189 - val_loss: 0.5041 - val_acc: 0.7544\n",
      "Epoch 4/30\n",
      "20000/20000 [==============================] - 6s 277us/step - loss: 0.3594 - acc: 0.8460 - val_loss: 0.5045 - val_acc: 0.7594\n",
      "Epoch 5/30\n",
      "20000/20000 [==============================] - 6s 281us/step - loss: 0.3269 - acc: 0.8605 - val_loss: 0.5455 - val_acc: 0.7534\n"
     ]
    },
    {
     "data": {
      "text/plain": [
       "<keras.callbacks.History at 0x181f88ae10>"
      ]
     },
     "execution_count": 60,
     "metadata": {},
     "output_type": "execute_result"
    }
   ],
   "source": [
    "rnn2.fit(\n",
    "    x_train_seq,\n",
    "    y_train,\n",
    "    epochs=30,\n",
    "    batch_size=128,\n",
    "    validation_split=0.2,\n",
    "    callbacks=[EarlyStopping(monitor='val_acc')])"
   ]
  },
  {
   "cell_type": "markdown",
   "metadata": {},
   "source": [
    "# # RNN의 모든 노드로부터 출력을 받아 Dense 레이어로 합치기"
   ]
  },
  {
   "cell_type": "code",
   "execution_count": 61,
   "metadata": {
    "collapsed": true
   },
   "outputs": [],
   "source": [
    "rnn3 = Sequential()\n",
    "rnn3.add(Embedding(input_dim=NUM_WORDS, output_dim=8, input_length=MAXLEN))\n",
    "rnn3.add(LSTM(4, activation='tanh', return_sequences = True))\n",
    "rnn3.add(Flatten())\n",
    "rnn3.add(Dense(1, activation='sigmoid'))"
   ]
  },
  {
   "cell_type": "code",
   "execution_count": 62,
   "metadata": {
    "collapsed": false
   },
   "outputs": [
    {
     "name": "stdout",
     "output_type": "stream",
     "text": [
      "_________________________________________________________________\n",
      "Layer (type)                 Output Shape              Param #   \n",
      "=================================================================\n",
      "embedding_4 (Embedding)      (None, 20, 8)             708632    \n",
      "_________________________________________________________________\n",
      "lstm_3 (LSTM)                (None, 20, 4)             208       \n",
      "_________________________________________________________________\n",
      "flatten_2 (Flatten)          (None, 80)                0         \n",
      "_________________________________________________________________\n",
      "dense_3 (Dense)              (None, 1)                 81        \n",
      "=================================================================\n",
      "Total params: 708,921\n",
      "Trainable params: 708,921\n",
      "Non-trainable params: 0\n",
      "_________________________________________________________________\n"
     ]
    }
   ],
   "source": [
    "rnn3.summary()"
   ]
  },
  {
   "cell_type": "code",
   "execution_count": 63,
   "metadata": {
    "collapsed": true
   },
   "outputs": [],
   "source": [
    "rnn3.compile(optimizer=RMSprop(), loss='binary_crossentropy', metrics=['accuracy'])"
   ]
  },
  {
   "cell_type": "code",
   "execution_count": 64,
   "metadata": {
    "collapsed": false
   },
   "outputs": [
    {
     "name": "stdout",
     "output_type": "stream",
     "text": [
      "Train on 20000 samples, validate on 5000 samples\n",
      "Epoch 1/30\n",
      "20000/20000 [==============================] - 7s 336us/step - loss: 0.6767 - acc: 0.5934 - val_loss: 0.6352 - val_acc: 0.6396\n",
      "Epoch 2/30\n",
      "20000/20000 [==============================] - 5s 237us/step - loss: 0.5533 - acc: 0.7236 - val_loss: 0.5735 - val_acc: 0.7032\n",
      "Epoch 3/30\n",
      "20000/20000 [==============================] - 5s 243us/step - loss: 0.4638 - acc: 0.7831 - val_loss: 0.5587 - val_acc: 0.7112\n",
      "Epoch 4/30\n",
      "20000/20000 [==============================] - 5s 253us/step - loss: 0.4098 - acc: 0.8137 - val_loss: 0.5634 - val_acc: 0.7214\n",
      "Epoch 5/30\n",
      "20000/20000 [==============================] - 5s 242us/step - loss: 0.3709 - acc: 0.8363 - val_loss: 0.5499 - val_acc: 0.7256\n",
      "Epoch 6/30\n",
      "20000/20000 [==============================] - 5s 238us/step - loss: 0.3403 - acc: 0.8556 - val_loss: 0.5693 - val_acc: 0.7338\n",
      "Epoch 7/30\n",
      "20000/20000 [==============================] - 4s 214us/step - loss: 0.3155 - acc: 0.8678 - val_loss: 0.5614 - val_acc: 0.7268\n"
     ]
    },
    {
     "data": {
      "text/plain": [
       "<keras.callbacks.History at 0x181f7df748>"
      ]
     },
     "execution_count": 64,
     "metadata": {},
     "output_type": "execute_result"
    }
   ],
   "source": [
    "rnn3.fit(\n",
    "    x_train_seq,\n",
    "    y_train,\n",
    "    epochs=30,\n",
    "    batch_size=128,\n",
    "    validation_split=0.2,\n",
    "    callbacks=[EarlyStopping(monitor='val_acc')])"
   ]
  },
  {
   "cell_type": "code",
   "execution_count": null,
   "metadata": {
    "collapsed": true
   },
   "outputs": [],
   "source": []
  },
  {
   "cell_type": "code",
   "execution_count": null,
   "metadata": {
    "collapsed": true
   },
   "outputs": [],
   "source": []
  }
 ],
 "metadata": {
  "anaconda-cloud": {},
  "kernelspec": {
   "display_name": "Python [default]",
   "language": "python",
   "name": "python3"
  },
  "language_info": {
   "codemirror_mode": {
    "name": "ipython",
    "version": 3
   },
   "file_extension": ".py",
   "mimetype": "text/x-python",
   "name": "python",
   "nbconvert_exporter": "python",
   "pygments_lexer": "ipython3",
   "version": "3.5.4"
  }
 },
 "nbformat": 4,
 "nbformat_minor": 1
}
